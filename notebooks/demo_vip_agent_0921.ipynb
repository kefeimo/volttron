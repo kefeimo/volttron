{
 "cells": [
  {
   "cell_type": "markdown",
   "id": "ac1e590f",
   "metadata": {},
   "source": [
    "### important commands\n",
    "./start-volttron\n",
    "vctl status\n",
    "vctl start --tag listener platform_historian platform_driver\n",
    "vctl status\n",
    "tail -f volttron.log\n",
    "vctl stop --tag listener platform_historian platform_driver\n",
    "\n",
    "vctl start --tag listener platform_driver\n",
    "vctl stop --tag listener platform_driver\n",
    "\n",
    "\n",
    "vctl config list\n",
    "vctl config list platform.driver\n",
    "vctl config delete platform.driver --all\n",
    "\n",
    "vctl config store platform.driver devices/campus-vm/building-vm/Dnp3 /home/kefei/sandbox/volttron/examples/configurations/drivers/udd-Dnp3.config --json\n",
    "vctl config store platform.driver udd-Dnp3.csv /home/kefei/sandbox/volttron/examples/configurations/drivers/udd-Dnp3.csv --csv\n",
    "\n",
    "vctl config get platform.driver udd-Dnp3.csv"
   ]
  },
  {
   "cell_type": "code",
   "execution_count": 2,
   "id": "718f8fb6",
   "metadata": {},
   "outputs": [],
   "source": [
    "from volttron.platform.vip.agent.utils import build_agent\n",
    "from volttron.platform.agent.known_identities import PLATFORM_DRIVER"
   ]
  },
  {
   "cell_type": "code",
   "execution_count": 3,
   "id": "67f84b66",
   "metadata": {},
   "outputs": [
    {
     "name": "stderr",
     "output_type": "stream",
     "text": [
      "2022-10-26 16:56:21,255 root DEBUG: Creating ZMQ Core None\n",
      "2022-10-26 16:56:21,258 volttron.platform.vip.agent.core DEBUG: address: ipc://@/home/kefei/.volttron/run/vip.socket\n",
      "2022-10-26 16:56:21,259 volttron.platform.vip.agent.core DEBUG: identity: ae25a447-be26-480d-921c-e4fa21da383f\n",
      "2022-10-26 16:56:21,262 volttron.platform.vip.agent.core DEBUG: agent_uuid: None\n",
      "2022-10-26 16:56:21,262 volttron.platform.vip.agent.core DEBUG: serverkey: None\n",
      "2022-10-26 16:56:21,348 volttron.platform.vip.agent.core DEBUG: AGENT RUNNING on ZMQ Core ae25a447-be26-480d-921c-e4fa21da383f\n",
      "2022-10-26 16:56:21,351 volttron.platform.vip.agent.core INFO: CORE address:ipc://@/home/kefei/.volttron/run/vip.socket?publickey=AtHKs50YJxE3okzMqKtfpYGhQHUBRrjZHJdUJNMEJG8&secretkey=6uA1gKcZEFsWyqT6hXKcKrjjFFvU9mRyVgcPF2ckSzY&serverkey=AtHKs50YJxE3okzMqKtfpYGhQHUBRrjZHJdUJNMEJG8\n",
      "2022-10-26 16:56:21,352 volttron.platform.vip.zmq_connection DEBUG: ZMQ connection ae25a447-be26-480d-921c-e4fa21da383f\n",
      "2022-10-26 16:56:21,360 volttron.platform.vip.zmq_connection DEBUG: connecting to url ipc://@/home/kefei/.volttron/run/vip.socket?publickey=AtHKs50YJxE3okzMqKtfpYGhQHUBRrjZHJdUJNMEJG8&secretkey=6uA1gKcZEFsWyqT6hXKcKrjjFFvU9mRyVgcPF2ckSzY&serverkey=AtHKs50YJxE3okzMqKtfpYGhQHUBRrjZHJdUJNMEJG8\n",
      "2022-10-26 16:56:21,363 volttron.platform.vip.zmq_connection DEBUG: url type is <class 'str'>\n",
      "2022-10-26 16:56:21,388 volttron.platform.vip.agent.core INFO: Connected to platform: router: ca00f951-3492-4af8-9df9-eb88986a0538 version: 1.0 identity: ae25a447-be26-480d-921c-e4fa21da383f\n",
      "2022-10-26 16:56:21,392 volttron.platform.vip.agent.core DEBUG: Running onstart methods.\n"
     ]
    }
   ],
   "source": [
    "a = build_agent()"
   ]
  },
  {
   "cell_type": "code",
   "execution_count": 3,
   "id": "2bc06ad7",
   "metadata": {
    "scrolled": true
   },
   "outputs": [
    {
     "name": "stderr",
     "output_type": "stream",
     "text": [
      "2022-10-26 15:25:24,618 volttron.platform.vip.agent.subsystems.auth WARNING: Auth entry not found for 6a09c4f2-d070-46e9-b72b-469bd54dae2b: rpc_method_authorizations not updated. If this agent does have an auth entry, verify that the 'identity' field has been included in the auth entry. This should be set to the identity of the agent\n"
     ]
    },
    {
     "name": "stdout",
     "output_type": "stream",
     "text": [
      "UUID AGENT                    IDENTITY            TAG                STATUS          HEALTH\r\n",
      "5f listeneragent-3.3        listeneragent-3.3_1 listener                           \r\n",
      "56 platform_driveragent-4.0 platform.driver     platform_driver                    \r\n",
      "53 sqlhistorianagent-4.0.0  platform.historian  platform_historian                 \r\n"
     ]
    }
   ],
   "source": [
    "! vctl status"
   ]
  },
  {
   "cell_type": "code",
   "execution_count": 2,
   "id": "1acb1fd9",
   "metadata": {},
   "outputs": [
    {
     "name": "stdout",
     "output_type": "stream",
     "text": [
      "devices/campus-vm/building-vm/Dnp3\r\n",
      "udd-Dnp3.csv\r\n"
     ]
    }
   ],
   "source": [
    "! vctl config list platform.driver"
   ]
  },
  {
   "cell_type": "code",
   "execution_count": 19,
   "outputs": [],
   "source": [
    "a.vip.rpc.call('config.store',\n",
    "               'manage_get',\n",
    "               PLATFORM_DRIVER,\n",
    "               \"devices/campus-vm/building-vm/Dnp3\"\n",
    "                          ).get()\n",
    "\n",
    "json_str = a.vip.rpc.call('config.store',\n",
    "               'manage_get',\n",
    "               PLATFORM_DRIVER,\n",
    "               \"devices/campus-vm/building-vm/Dnp3\"\n",
    "                          ).get()\n",
    "\n",
    "json_str\n",
    "with open('/home/kefei/project/volttron/notebooks/json_str.json', 'w') as out:\n",
    "    # lines = [','.join(line) for line in my_string.split(',')]\n",
    "    # my_string = '\\n'.join(lines)\n",
    "    out.write(json_str)\n",
    "\n",
    "\n"
   ],
   "metadata": {
    "collapsed": false
   }
  },
  {
   "cell_type": "code",
   "execution_count": 7,
   "outputs": [
    {
     "data": {
      "text/plain": "['devices/campus-vm/building-vm/Dnp3', 'udd-Dnp3.csv']"
     },
     "execution_count": 7,
     "metadata": {},
     "output_type": "execute_result"
    },
    {
     "name": "stderr",
     "output_type": "stream",
     "text": [
      "2022-10-26 15:10:07,835 volttron.platform.vip.agent.subsystems.auth WARNING: Auth entry not found for cbfe9bd5-d7f8-4b12-9f6b-1c58b8426ce5: rpc_method_authorizations not updated. If this agent does have an auth entry, verify that the 'identity' field has been included in the auth entry. This should be set to the identity of the agent\n"
     ]
    }
   ],
   "source": [
    "a.vip.rpc.call(peer='config.store',\n",
    "               method='manage_list_configs',\n",
    "               identity=PLATFORM_DRIVER,\n",
    "\n",
    "                          ).get()"
   ],
   "metadata": {
    "collapsed": false
   }
  },
  {
   "cell_type": "code",
   "execution_count": 17,
   "outputs": [],
   "source": [
    "a.vip.rpc.call('config.store',\n",
    "               'manage_delete_config',\n",
    "               PLATFORM_DRIVER,\n",
    "               \"modbus_tk_map.csv\"\n",
    "\n",
    "                          ).get()"
   ],
   "metadata": {
    "collapsed": false
   }
  },
  {
   "cell_type": "code",
   "execution_count": 6,
   "outputs": [],
   "source": [],
   "metadata": {
    "collapsed": false
   }
  },
  {
   "cell_type": "code",
   "execution_count": 6,
   "outputs": [],
   "source": [],
   "metadata": {
    "collapsed": false
   }
  },
  {
   "cell_type": "code",
   "execution_count": 6,
   "outputs": [],
   "source": [],
   "metadata": {
    "collapsed": false
   }
  },
  {
   "cell_type": "code",
   "execution_count": 7,
   "outputs": [],
   "source": [
    "\n",
    "# configure store\n",
    "\n",
    "REGISTER_MAP = \"\"\"Register Name,Address,Type,Units,Writable,Default Value,Transform\n",
    "unsigned_short,0,uint16,None,TRUE,0,scale(10)\n",
    "unsigned_int,1,uint32,None,TRUE,0,scale(10)\n",
    "unsigned_long,3,uint64,None,TRUE,0,scale(10)\n",
    "sample_short,7,int16,None,TRUE,0,scale(10)\n",
    "sample_int,8,int32,None,TRUE,0,scale(10)\n",
    "sample_float,10,float,None,TRUE,0.0,scale(10)\n",
    "sample_long,12,int64,None,TRUE,0,scale(10)\n",
    "sample_bool,16,bool,None,TRUE,False,\n",
    "sample_str,17,string[12],None,TRUE,hello world!,\"\"\"\n",
    "\n",
    "a.vip.rpc.call('config.store',\n",
    "                          'manage_store',\n",
    "                          PLATFORM_DRIVER,\n",
    "                          'modbus_tk_map.csv',\n",
    "                          REGISTER_MAP,\n",
    "                          config_type='csv').get()"
   ],
   "metadata": {
    "collapsed": false
   }
  },
  {
   "cell_type": "code",
   "execution_count": 8,
   "outputs": [
    {
     "data": {
      "text/plain": "['devices/campus-vm/building-vm/Dnp3', 'modbus_tk_map.csv', 'udd-Dnp3.csv']"
     },
     "execution_count": 8,
     "metadata": {},
     "output_type": "execute_result"
    }
   ],
   "source": [
    "a.vip.rpc.call(peer='config.store',\n",
    "               method='manage_list_configs',\n",
    "               identity=PLATFORM_DRIVER,\n",
    "\n",
    "\n",
    "                          ).get()"
   ],
   "metadata": {
    "collapsed": false
   }
  },
  {
   "cell_type": "code",
   "execution_count": 9,
   "outputs": [
    {
     "data": {
      "text/plain": "'Register Name,Address,Type,Units,Writable,Default Value,Transform\\nunsigned_short,0,uint16,None,TRUE,0,scale(10)\\nunsigned_int,1,uint32,None,TRUE,0,scale(10)\\nunsigned_long,3,uint64,None,TRUE,0,scale(10)\\nsample_short,7,int16,None,TRUE,0,scale(10)\\nsample_int,8,int32,None,TRUE,0,scale(10)\\nsample_float,10,float,None,TRUE,0.0,scale(10)\\nsample_long,12,int64,None,TRUE,0,scale(10)\\nsample_bool,16,bool,None,TRUE,False,\\nsample_str,17,string[12],None,TRUE,hello world!,'"
     },
     "execution_count": 9,
     "metadata": {},
     "output_type": "execute_result"
    }
   ],
   "source": [
    "a.vip.rpc.call('config.store',\n",
    "               'manage_get',\n",
    "               PLATFORM_DRIVER,\n",
    "               \"modbus_tk_map.csv\").get()\n",
    "\n",
    "csv_config_str = a.vip.rpc.call('config.store',\n",
    "               'manage_get',\n",
    "               PLATFORM_DRIVER,\n",
    "               \"modbus_tk_map.csv\").get()\n",
    "csv_config_str"
   ],
   "metadata": {
    "collapsed": false
   }
  },
  {
   "cell_type": "code",
   "execution_count": 10,
   "outputs": [],
   "source": [
    "\n",
    "my_string = REGISTER_MAP\n",
    "with open('/home/kefei/project/volttron/notebooks/my_file.csv', 'w') as out:\n",
    "    # lines = [','.join(line) for line in my_string.split(',')]\n",
    "    # my_string = '\\n'.join(lines)\n",
    "    out.write(my_string)"
   ],
   "metadata": {
    "collapsed": false
   }
  },
  {
   "cell_type": "code",
   "execution_count": 10,
   "outputs": [],
   "source": [],
   "metadata": {
    "collapsed": false
   }
  },
  {
   "cell_type": "code",
   "execution_count": 10,
   "outputs": [],
   "source": [],
   "metadata": {
    "collapsed": false
   }
  },
  {
   "cell_type": "code",
   "execution_count": 10,
   "outputs": [],
   "source": [],
   "metadata": {
    "collapsed": false
   }
  },
  {
   "cell_type": "code",
   "execution_count": 10,
   "outputs": [],
   "source": [],
   "metadata": {
    "collapsed": false
   }
  },
  {
   "cell_type": "code",
   "execution_count": 11,
   "id": "1aba49a5",
   "metadata": {},
   "outputs": [
    {
     "name": "stdout",
     "output_type": "stream",
     "text": [
      "[\r\n",
      "  {\r\n",
      "    \"Point Name\": \"AnalogInput_index0\",\r\n",
      "    \"Volttron Point Name\": \"AnalogInput_index0\",\r\n",
      "    \"Group\": \"30\",\r\n",
      "    \"Variation\": \"6\",\r\n",
      "    \"Index\": \"0\",\r\n",
      "    \"Scaling\": \"1\",\r\n",
      "    \"Units\": \"NA\",\r\n",
      "    \"Writable\": \"FALSE\",\r\n",
      "    \"Notes\": \"Double Analogue input without status\"\r\n",
      "  },\r\n",
      "  {\r\n",
      "    \"Point Name\": \"AnalogInput_index1\",\r\n",
      "    \"Volttron Point Name\": \"AnalogInput_index1\",\r\n",
      "    \"Group\": \"30\",\r\n",
      "    \"Variation\": \"6\",\r\n",
      "    \"Index\": \"1\",\r\n",
      "    \"Scaling\": \"1\",\r\n",
      "    \"Units\": \"NA\",\r\n",
      "    \"Writable\": \"FALSE\",\r\n",
      "    \"Notes\": \"Double Analogue input without status\"\r\n",
      "  },\r\n",
      "  {\r\n",
      "    \"Point Name\": \"AnalogInput_index2\",\r\n",
      "    \"Volttron Point Name\": \"AnalogInput_index2\",\r\n",
      "    \"Group\": \"30\",\r\n",
      "    \"Variation\": \"6\",\r\n",
      "    \"Index\": \"2\",\r\n",
      "    \"Scaling\": \"1\",\r\n",
      "    \"Units\": \"NA\",\r\n",
      "    \"Writable\": \"FALSE\",\r\n",
      "    \"Notes\": \"Double Analogue input without status\"\r\n",
      "  },\r\n",
      "  {\r\n",
      "    \"Point Name\": \"AnalogInput_index3\",\r\n",
      "    \"Volttron Point Name\": \"AnalogInput_index3\",\r\n",
      "    \"Group\": \"30\",\r\n",
      "    \"Variation\": \"6\",\r\n",
      "    \"Index\": \"3\",\r\n",
      "    \"Scaling\": \"1\",\r\n",
      "    \"Units\": \"NA\",\r\n",
      "    \"Writable\": \"FALSE\",\r\n",
      "    \"Notes\": \"Double Analogue input without status\"\r\n",
      "  },\r\n",
      "  {\r\n",
      "    \"Point Name\": \"BinaryInput_index0\",\r\n",
      "    \"Volttron Point Name\": \"BinaryInput_index0\",\r\n",
      "    \"Group\": \"1\",\r\n",
      "    \"Variation\": \"2\",\r\n",
      "    \"Index\": \"0\",\r\n",
      "    \"Scaling\": \"1\",\r\n",
      "    \"Units\": \"NA\",\r\n",
      "    \"Writable\": \"FALSE\",\r\n",
      "    \"Notes\": \"Single bit binary input with status\"\r\n",
      "  },\r\n",
      "  {\r\n",
      "    \"Point Name\": \"BinaryInput_index1\",\r\n",
      "    \"Volttron Point Name\": \"BinaryInput_index1\",\r\n",
      "    \"Group\": \"1\",\r\n",
      "    \"Variation\": \"2\",\r\n",
      "    \"Index\": \"1\",\r\n",
      "    \"Scaling\": \"1\",\r\n",
      "    \"Units\": \"NA\",\r\n",
      "    \"Writable\": \"FALSE\",\r\n",
      "    \"Notes\": \"Single bit binary input with status\"\r\n",
      "  },\r\n",
      "  {\r\n",
      "    \"Point Name\": \"BinaryInput_index2\",\r\n",
      "    \"Volttron Point Name\": \"BinaryInput_index2\",\r\n",
      "    \"Group\": \"1\",\r\n",
      "    \"Variation\": \"2\",\r\n",
      "    \"Index\": \"2\",\r\n",
      "    \"Scaling\": \"1\",\r\n",
      "    \"Units\": \"NA\",\r\n",
      "    \"Writable\": \"FALSE\",\r\n",
      "    \"Notes\": \"Single bit binary input with status\"\r\n",
      "  },\r\n",
      "  {\r\n",
      "    \"Point Name\": \"BinaryInput_index3\",\r\n",
      "    \"Volttron Point Name\": \"BinaryInput_index3\",\r\n",
      "    \"Group\": \"1\",\r\n",
      "    \"Variation\": \"2\",\r\n",
      "    \"Index\": \"3\",\r\n",
      "    \"Scaling\": \"1\",\r\n",
      "    \"Units\": \"NA\",\r\n",
      "    \"Writable\": \"FALSE\",\r\n",
      "    \"Notes\": \"Single bit binary input with status\"\r\n",
      "  },\r\n",
      "  {\r\n",
      "    \"Point Name\": \"AnalogOutput_index0\",\r\n",
      "    \"Volttron Point Name\": \"AnalogOutput_index0\",\r\n",
      "    \"Group\": \"40\",\r\n",
      "    \"Variation\": \"4\",\r\n",
      "    \"Index\": \"0\",\r\n",
      "    \"Scaling\": \"1\",\r\n",
      "    \"Units\": \"NA\",\r\n",
      "    \"Writable\": \"TRUE\",\r\n",
      "    \"Notes\": \"Double-precision floating point with flags\"\r\n",
      "  },\r\n",
      "  {\r\n",
      "    \"Point Name\": \"AnalogOutput_index1\",\r\n",
      "    \"Volttron Point Name\": \"AnalogOutput_index1\",\r\n",
      "    \"Group\": \"40\",\r\n",
      "    \"Variation\": \"4\",\r\n",
      "    \"Index\": \"1\",\r\n",
      "    \"Scaling\": \"1\",\r\n",
      "    \"Units\": \"NA\",\r\n",
      "    \"Writable\": \"TRUE\",\r\n",
      "    \"Notes\": \"Double-precision floating point with flags\"\r\n",
      "  },\r\n",
      "  {\r\n",
      "    \"Point Name\": \"AnalogOutput_index2\",\r\n",
      "    \"Volttron Point Name\": \"AnalogOutput_index2\",\r\n",
      "    \"Group\": \"40\",\r\n",
      "    \"Variation\": \"4\",\r\n",
      "    \"Index\": \"2\",\r\n",
      "    \"Scaling\": \"1\",\r\n",
      "    \"Units\": \"NA\",\r\n",
      "    \"Writable\": \"TRUE\",\r\n",
      "    \"Notes\": \"Double-precision floating point with flags\"\r\n",
      "  },\r\n",
      "  {\r\n",
      "    \"Point Name\": \"AnalogOutput_index3\",\r\n",
      "    \"Volttron Point Name\": \"AnalogOutput_index3\",\r\n",
      "    \"Group\": \"40\",\r\n",
      "    \"Variation\": \"4\",\r\n",
      "    \"Index\": \"3\",\r\n",
      "    \"Scaling\": \"1\",\r\n",
      "    \"Units\": \"NA\",\r\n",
      "    \"Writable\": \"TRUE\",\r\n",
      "    \"Notes\": \"Double-precision floating point with flags\"\r\n",
      "  },\r\n",
      "  {\r\n",
      "    \"Point Name\": \"BinaryOutput_index0\",\r\n",
      "    \"Volttron Point Name\": \"BinaryOutput_index0\",\r\n",
      "    \"Group\": \"10\",\r\n",
      "    \"Variation\": \"2\",\r\n",
      "    \"Index\": \"0\",\r\n",
      "    \"Scaling\": \"1\",\r\n",
      "    \"Units\": \"NA\",\r\n",
      "    \"Writable\": \"TRUE\",\r\n",
      "    \"Notes\": \"Binary\\u00a0Output with flags\"\r\n",
      "  },\r\n",
      "  {\r\n",
      "    \"Point Name\": \"BinaryOutput_index1\",\r\n",
      "    \"Volttron Point Name\": \"BinaryOutput_index1\",\r\n",
      "    \"Group\": \"10\",\r\n",
      "    \"Variation\": \"2\",\r\n",
      "    \"Index\": \"1\",\r\n",
      "    \"Scaling\": \"1\",\r\n",
      "    \"Units\": \"NA\",\r\n",
      "    \"Writable\": \"TRUE\",\r\n",
      "    \"Notes\": \"Binary\\u00a0Output with flags\"\r\n",
      "  },\r\n",
      "  {\r\n",
      "    \"Point Name\": \"BinaryOutput_index2\",\r\n",
      "    \"Volttron Point Name\": \"BinaryOutput_index2\",\r\n",
      "    \"Group\": \"10\",\r\n",
      "    \"Variation\": \"2\",\r\n",
      "    \"Index\": \"2\",\r\n",
      "    \"Scaling\": \"1\",\r\n",
      "    \"Units\": \"NA\",\r\n",
      "    \"Writable\": \"TRUE\",\r\n",
      "    \"Notes\": \"Binary\\u00a0Output with flags\"\r\n",
      "  },\r\n",
      "  {\r\n",
      "    \"Point Name\": \"BinaryOutput_index3\",\r\n",
      "    \"Volttron Point Name\": \"BinaryOutput_index3\",\r\n",
      "    \"Group\": \"10\",\r\n",
      "    \"Variation\": \"2\",\r\n",
      "    \"Index\": \"3\",\r\n",
      "    \"Scaling\": \"1\",\r\n",
      "    \"Units\": \"NA\",\r\n",
      "    \"Writable\": \"TRUE\",\r\n",
      "    \"Notes\": \"Binary\\u00a0Output with flags\"\r\n",
      "  }\r\n",
      "]\r\n"
     ]
    }
   ],
   "source": [
    "! vctl config get platform.driver udd-Dnp3.csv"
   ]
  },
  {
   "cell_type": "code",
   "execution_count": 12,
   "id": "701aa33c",
   "metadata": {},
   "outputs": [
    {
     "name": "stdout",
     "output_type": "stream",
     "text": [
      "{\r\n",
      "  \"driver_config\": {\r\n",
      "    \"master_ip\": \"0.0.0.0\",\r\n",
      "    \"outstation_ip\": \"127.0.0.1\",\r\n",
      "    \"master_id\": 2,\r\n",
      "    \"outstation_id\": 1,\r\n",
      "    \"port\": 20000\r\n",
      "  },\r\n",
      "  \"registry_config\": \"config://udd-Dnp3.csv\",\r\n",
      "  \"driver_type\": \"udd_dnp3\",\r\n",
      "  \"interval\": 5,\r\n",
      "  \"timezone\": \"UTC\",\r\n",
      "  \"campus\": \"campus-vm\",\r\n",
      "  \"building\": \"building-vm\",\r\n",
      "  \"unit\": \"Dnp3\",\r\n",
      "  \"publish_depth_first_all\": true,\r\n",
      "  \"heart_beat_point\": \"random_bool\"\r\n",
      "}\r\n"
     ]
    }
   ],
   "source": [
    "! vctl config get platform.driver devices/campus-vm/building-vm/Dnp3"
   ]
  },
  {
   "cell_type": "code",
   "execution_count": 13,
   "id": "563c2926",
   "metadata": {},
   "outputs": [],
   "source": [
    "# campus-vm/building-vm/Dnp3"
   ]
  },
  {
   "cell_type": "code",
   "execution_count": 4,
   "id": "8024b8e2",
   "metadata": {},
   "outputs": [
    {
     "name": "stdout",
     "output_type": "stream",
     "text": [
      "Starting 5fba478e-016b-4c7f-a3eb-9aed201592f2 listeneragent-3.3\r\n",
      "Starting 5610fc87-cde8-4c40-9751-d20a9f4c6b3b platform_driveragent-4.0\r\n"
     ]
    }
   ],
   "source": [
    "! vctl start --tag listener platform_driver"
   ]
  },
  {
   "cell_type": "code",
   "execution_count": 15,
   "id": "42bbc6e7",
   "metadata": {},
   "outputs": [
    {
     "name": "stdout",
     "output_type": "stream",
     "text": [
      "Stopping 5fba478e-016b-4c7f-a3eb-9aed201592f2 listeneragent-3.3\r\n",
      "Stopping 5610fc87-cde8-4c40-9751-d20a9f4c6b3b platform_driveragent-4.0\r\n"
     ]
    }
   ],
   "source": [
    "! vctl stop --tag listener platform_driver"
   ]
  },
  {
   "cell_type": "code",
   "execution_count": 9,
   "id": "bc3a3e9e",
   "metadata": {},
   "outputs": [
    {
     "data": {
      "text/plain": "3.4066599615425384"
     },
     "execution_count": 9,
     "metadata": {},
     "output_type": "execute_result"
    }
   ],
   "source": [
    "a.vip.rpc.call(\"platform.driver\", \"get_point\",\n",
    "              \"campus-vm/building-vm/Dnp3\",\n",
    "               \"AnalogInput_index0\").get(timeout=5)"
   ]
  },
  {
   "cell_type": "code",
   "execution_count": null,
   "id": "96ce1487",
   "metadata": {
    "scrolled": false
   },
   "outputs": [],
   "source": [
    "from time import sleep\n",
    "import datetime\n",
    "while True:\n",
    "    sleep(5)\n",
    "    rs = a.vip.rpc.call(\"platform.driver\", \"get_point\",\n",
    "                  \"campus-vm/building-vm/Dnp3\", \n",
    "                   \"AnalogInput_index0\").get()\n",
    "    print(datetime.datetime.now(), rs)"
   ]
  },
  {
   "cell_type": "code",
   "execution_count": null,
   "id": "ebb41483",
   "metadata": {
    "scrolled": false
   },
   "outputs": [],
   "source": [
    "import datetime\n",
    "rs = a.vip.rpc.call(\"platform.driver\", \"set_point\",\n",
    "              \"campus-vm/building-vm/Dnp3\", \n",
    "               \"AnalogOutput_index0\", 7.8766).get()\n",
    "print(datetime.datetime.now(), rs)"
   ]
  },
  {
   "cell_type": "code",
   "execution_count": null,
   "id": "9c203e40",
   "metadata": {},
   "outputs": [],
   "source": [
    "# verify with retrieving value workflow\n",
    "rs = a.vip.rpc.call(\"platform.driver\", \"get_point\",\n",
    "              \"campus-vm/building-vm/Dnp3\", \n",
    "               \"AnalogOutput_index0\").get()\n",
    "print(datetime.datetime.now(), rs)"
   ]
  },
  {
   "cell_type": "code",
   "execution_count": null,
   "id": "2247ed58",
   "metadata": {},
   "outputs": [],
   "source": [
    "# from volttron.platform.vip.agent.utils import build_agent\n",
    "# a = build_agent()\n",
    "# rs = a.vip.rpc.call(\"platform.driver\", \"set_point\",\n",
    "#               \"campus-vm/building-vm/Dnp3\", \n",
    "#                \"AnalogOutput_index0\", 6.67).get()"
   ]
  },
  {
   "cell_type": "code",
   "execution_count": null,
   "id": "58e49f68",
   "metadata": {
    "scrolled": false
   },
   "outputs": [],
   "source": [
    "from time import sleep\n",
    "# import datetime\n",
    "import random\n",
    "while True:\n",
    "    sleep(5)\n",
    "    print(\"=======================\")\n",
    "    val_to_set = random.random()\n",
    "    print(f\"val to set {val_to_set}\")\n",
    "    rs = a.vip.rpc.call(\"platform.driver\", \"set_point\",\n",
    "              \"campus-vm/building-vm/Dnp3\", \n",
    "               \"AnalogOutput_index0\", val_to_set).get()\n",
    "    print(datetime.datetime.now(), rs)\n",
    "    \n",
    "#     sleep(1)\n",
    "    \n",
    "    # verify\n",
    "    rs = a.vip.rpc.call(\"platform.driver\", \"get_point\",\n",
    "              \"campus-vm/building-vm/Dnp3\", \n",
    "               \"AnalogOutput_index0\").get()\n",
    "    print(datetime.datetime.now(), rs)"
   ]
  },
  {
   "cell_type": "code",
   "execution_count": null,
   "id": "821d6c0c",
   "metadata": {},
   "outputs": [],
   "source": []
  }
 ],
 "metadata": {
  "kernelspec": {
   "display_name": "Python 3 (ipykernel)",
   "language": "python",
   "name": "python3"
  },
  "language_info": {
   "codemirror_mode": {
    "name": "ipython",
    "version": 3
   },
   "file_extension": ".py",
   "mimetype": "text/x-python",
   "name": "python",
   "nbconvert_exporter": "python",
   "pygments_lexer": "ipython3",
   "version": "3.8.10"
  }
 },
 "nbformat": 4,
 "nbformat_minor": 5
}
