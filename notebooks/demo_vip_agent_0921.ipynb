{
 "cells": [
  {
   "cell_type": "markdown",
   "id": "ac1e590f",
   "metadata": {},
   "source": [
    "### important commands\n",
    "./start-volttron\n",
    "vctl status\n",
    "vctl start --tag listener platform_historian platform_driver\n",
    "vctl status\n",
    "tail -f volttron.log\n",
    "vctl stop --tag listener platform_historian platform_driver\n",
    "\n",
    "vctl start --tag listener platform_driver\n",
    "vctl stop --tag listener platform_driver\n",
    "\n",
    "\n",
    "vctl config list\n",
    "vctl config list platform.driver\n",
    "vctl config delete platform.driver --all\n",
    "\n",
    "vctl config store platform.driver devices/campus-vm/building-vm/Dnp3 /home/kefei/sandbox/volttron/examples/configurations/drivers/udd-Dnp3.config --json\n",
    "vctl config store platform.driver udd-Dnp3.csv /home/kefei/sandbox/volttron/examples/configurations/drivers/udd-Dnp3.csv --csv\n",
    "\n",
    "vctl config get platform.driver udd-Dnp3.csv"
   ]
  },
  {
   "cell_type": "code",
   "execution_count": 1,
   "id": "718f8fb6",
   "metadata": {},
   "outputs": [],
   "source": [
    "from volttron.platform.vip.agent.utils import build_agent"
   ]
  },
  {
   "cell_type": "code",
   "execution_count": 2,
   "id": "67f84b66",
   "metadata": {},
   "outputs": [
    {
     "name": "stderr",
     "output_type": "stream",
     "text": [
      "2022-10-05 17:34:24,154 root DEBUG: Creating ZMQ Core None\n",
      "2022-10-05 17:34:24,155 volttron.platform.vip.agent.core DEBUG: address: ipc://@/home/kefei/.volttron/run/vip.socket\n",
      "2022-10-05 17:34:24,156 volttron.platform.vip.agent.core DEBUG: identity: 4f5e0d5f-e05f-48c5-92d7-b78ff2b31806\n",
      "2022-10-05 17:34:24,156 volttron.platform.vip.agent.core DEBUG: agent_uuid: None\n",
      "2022-10-05 17:34:24,157 volttron.platform.vip.agent.core DEBUG: serverkey: None\n",
      "2022-10-05 17:34:24,288 volttron.platform.vip.agent.core DEBUG: AGENT RUNNING on ZMQ Core 4f5e0d5f-e05f-48c5-92d7-b78ff2b31806\n",
      "2022-10-05 17:34:24,289 volttron.platform.vip.agent.core INFO: CORE address:ipc://@/home/kefei/.volttron/run/vip.socket?publickey=AtHKs50YJxE3okzMqKtfpYGhQHUBRrjZHJdUJNMEJG8&secretkey=6uA1gKcZEFsWyqT6hXKcKrjjFFvU9mRyVgcPF2ckSzY&serverkey=AtHKs50YJxE3okzMqKtfpYGhQHUBRrjZHJdUJNMEJG8\n",
      "2022-10-05 17:34:24,290 volttron.platform.vip.zmq_connection DEBUG: ZMQ connection 4f5e0d5f-e05f-48c5-92d7-b78ff2b31806\n",
      "2022-10-05 17:34:24,292 volttron.platform.vip.zmq_connection DEBUG: connecting to url ipc://@/home/kefei/.volttron/run/vip.socket?publickey=AtHKs50YJxE3okzMqKtfpYGhQHUBRrjZHJdUJNMEJG8&secretkey=6uA1gKcZEFsWyqT6hXKcKrjjFFvU9mRyVgcPF2ckSzY&serverkey=AtHKs50YJxE3okzMqKtfpYGhQHUBRrjZHJdUJNMEJG8\n",
      "2022-10-05 17:34:24,293 volttron.platform.vip.zmq_connection DEBUG: url type is <class 'str'>\n",
      "2022-10-05 17:34:24,314 volttron.platform.vip.agent.core INFO: Connected to platform: router: 3809ae5a-a311-40ab-a7be-55aad2a72cdb version: 1.0 identity: 4f5e0d5f-e05f-48c5-92d7-b78ff2b31806\n",
      "2022-10-05 17:34:24,316 volttron.platform.vip.agent.core DEBUG: Running onstart methods.\n"
     ]
    }
   ],
   "source": [
    "a = build_agent()"
   ]
  },
  {
   "cell_type": "code",
   "execution_count": 3,
   "id": "2bc06ad7",
   "metadata": {
    "scrolled": true
   },
   "outputs": [
    {
     "name": "stderr",
     "output_type": "stream",
     "text": [
      "2022-10-05 15:11:38,305 volttron.platform.vip.agent.subsystems.auth WARNING: Auth entry not found for c3631194-60fa-45a6-a91c-e73864b02e38: rpc_method_authorizations not updated. If this agent does have an auth entry, verify that the 'identity' field has been included in the auth entry. This should be set to the identity of the agent\n"
     ]
    },
    {
     "name": "stdout",
     "output_type": "stream",
     "text": [
      "UUID AGENT                    IDENTITY            TAG                STATUS          HEALTH\r\n",
      "5f listeneragent-3.3        listeneragent-3.3_1 listener           running [3419]  GOOD\r\n",
      "56 platform_driveragent-4.0 platform.driver     platform_driver    running [3418]  GOOD\r\n",
      "53 sqlhistorianagent-4.0.0  platform.historian  platform_historian                 \r\n"
     ]
    }
   ],
   "source": [
    "! vctl status"
   ]
  },
  {
   "cell_type": "code",
   "execution_count": 4,
   "id": "1acb1fd9",
   "metadata": {},
   "outputs": [
    {
     "name": "stdout",
     "output_type": "stream",
     "text": [
      "devices/campus-vm/building-vm/Dnp3\r\n",
      "udd-Dnp3.csv\r\n"
     ]
    }
   ],
   "source": [
    "! vctl config list platform.driver"
   ]
  },
  {
   "cell_type": "code",
   "execution_count": 5,
   "id": "1aba49a5",
   "metadata": {},
   "outputs": [
    {
     "name": "stdout",
     "output_type": "stream",
     "text": [
      "[\r\n",
      "  {\r\n",
      "    \"Point Name\": \"AnalogInput_index0\",\r\n",
      "    \"Volttron Point Name\": \"AnalogInput_index0\",\r\n",
      "    \"Group\": \"30\",\r\n",
      "    \"Variation\": \"6\",\r\n",
      "    \"Index\": \"0\",\r\n",
      "    \"Scaling\": \"1\",\r\n",
      "    \"Units\": \"NA\",\r\n",
      "    \"Writable\": \"FALSE\",\r\n",
      "    \"Notes\": \"Double Analogue input without status\"\r\n",
      "  },\r\n",
      "  {\r\n",
      "    \"Point Name\": \"AnalogInput_index1\",\r\n",
      "    \"Volttron Point Name\": \"AnalogInput_index1\",\r\n",
      "    \"Group\": \"30\",\r\n",
      "    \"Variation\": \"6\",\r\n",
      "    \"Index\": \"1\",\r\n",
      "    \"Scaling\": \"1\",\r\n",
      "    \"Units\": \"NA\",\r\n",
      "    \"Writable\": \"FALSE\",\r\n",
      "    \"Notes\": \"Double Analogue input without status\"\r\n",
      "  },\r\n",
      "  {\r\n",
      "    \"Point Name\": \"AnalogInput_index2\",\r\n",
      "    \"Volttron Point Name\": \"AnalogInput_index2\",\r\n",
      "    \"Group\": \"30\",\r\n",
      "    \"Variation\": \"6\",\r\n",
      "    \"Index\": \"2\",\r\n",
      "    \"Scaling\": \"1\",\r\n",
      "    \"Units\": \"NA\",\r\n",
      "    \"Writable\": \"FALSE\",\r\n",
      "    \"Notes\": \"Double Analogue input without status\"\r\n",
      "  },\r\n",
      "  {\r\n",
      "    \"Point Name\": \"AnalogInput_index3\",\r\n",
      "    \"Volttron Point Name\": \"AnalogInput_index3\",\r\n",
      "    \"Group\": \"30\",\r\n",
      "    \"Variation\": \"6\",\r\n",
      "    \"Index\": \"3\",\r\n",
      "    \"Scaling\": \"1\",\r\n",
      "    \"Units\": \"NA\",\r\n",
      "    \"Writable\": \"FALSE\",\r\n",
      "    \"Notes\": \"Double Analogue input without status\"\r\n",
      "  },\r\n",
      "  {\r\n",
      "    \"Point Name\": \"BinaryInput_index0\",\r\n",
      "    \"Volttron Point Name\": \"BinaryInput_index0\",\r\n",
      "    \"Group\": \"1\",\r\n",
      "    \"Variation\": \"2\",\r\n",
      "    \"Index\": \"0\",\r\n",
      "    \"Scaling\": \"1\",\r\n",
      "    \"Units\": \"NA\",\r\n",
      "    \"Writable\": \"FALSE\",\r\n",
      "    \"Notes\": \"Single bit binary input with status\"\r\n",
      "  },\r\n",
      "  {\r\n",
      "    \"Point Name\": \"BinaryInput_index1\",\r\n",
      "    \"Volttron Point Name\": \"BinaryInput_index1\",\r\n",
      "    \"Group\": \"1\",\r\n",
      "    \"Variation\": \"2\",\r\n",
      "    \"Index\": \"1\",\r\n",
      "    \"Scaling\": \"1\",\r\n",
      "    \"Units\": \"NA\",\r\n",
      "    \"Writable\": \"FALSE\",\r\n",
      "    \"Notes\": \"Single bit binary input with status\"\r\n",
      "  },\r\n",
      "  {\r\n",
      "    \"Point Name\": \"BinaryInput_index2\",\r\n",
      "    \"Volttron Point Name\": \"BinaryInput_index2\",\r\n",
      "    \"Group\": \"1\",\r\n",
      "    \"Variation\": \"2\",\r\n",
      "    \"Index\": \"2\",\r\n",
      "    \"Scaling\": \"1\",\r\n",
      "    \"Units\": \"NA\",\r\n",
      "    \"Writable\": \"FALSE\",\r\n",
      "    \"Notes\": \"Single bit binary input with status\"\r\n",
      "  },\r\n",
      "  {\r\n",
      "    \"Point Name\": \"BinaryInput_index3\",\r\n",
      "    \"Volttron Point Name\": \"BinaryInput_index3\",\r\n",
      "    \"Group\": \"1\",\r\n",
      "    \"Variation\": \"2\",\r\n",
      "    \"Index\": \"3\",\r\n",
      "    \"Scaling\": \"1\",\r\n",
      "    \"Units\": \"NA\",\r\n",
      "    \"Writable\": \"FALSE\",\r\n",
      "    \"Notes\": \"Single bit binary input with status\"\r\n",
      "  },\r\n",
      "  {\r\n",
      "    \"Point Name\": \"AnalogOutput_index0\",\r\n",
      "    \"Volttron Point Name\": \"AnalogOutput_index0\",\r\n",
      "    \"Group\": \"40\",\r\n",
      "    \"Variation\": \"4\",\r\n",
      "    \"Index\": \"0\",\r\n",
      "    \"Scaling\": \"1\",\r\n",
      "    \"Units\": \"NA\",\r\n",
      "    \"Writable\": \"TRUE\",\r\n",
      "    \"Notes\": \"Double-precision floating point with flags\"\r\n",
      "  },\r\n",
      "  {\r\n",
      "    \"Point Name\": \"AnalogOutput_index1\",\r\n",
      "    \"Volttron Point Name\": \"AnalogOutput_index1\",\r\n",
      "    \"Group\": \"40\",\r\n",
      "    \"Variation\": \"4\",\r\n",
      "    \"Index\": \"1\",\r\n",
      "    \"Scaling\": \"1\",\r\n",
      "    \"Units\": \"NA\",\r\n",
      "    \"Writable\": \"TRUE\",\r\n",
      "    \"Notes\": \"Double-precision floating point with flags\"\r\n",
      "  },\r\n",
      "  {\r\n",
      "    \"Point Name\": \"AnalogOutput_index2\",\r\n",
      "    \"Volttron Point Name\": \"AnalogOutput_index2\",\r\n",
      "    \"Group\": \"40\",\r\n",
      "    \"Variation\": \"4\",\r\n",
      "    \"Index\": \"2\",\r\n",
      "    \"Scaling\": \"1\",\r\n",
      "    \"Units\": \"NA\",\r\n",
      "    \"Writable\": \"TRUE\",\r\n",
      "    \"Notes\": \"Double-precision floating point with flags\"\r\n",
      "  },\r\n",
      "  {\r\n",
      "    \"Point Name\": \"AnalogOutput_index3\",\r\n",
      "    \"Volttron Point Name\": \"AnalogOutput_index3\",\r\n",
      "    \"Group\": \"40\",\r\n",
      "    \"Variation\": \"4\",\r\n",
      "    \"Index\": \"3\",\r\n",
      "    \"Scaling\": \"1\",\r\n",
      "    \"Units\": \"NA\",\r\n",
      "    \"Writable\": \"TRUE\",\r\n",
      "    \"Notes\": \"Double-precision floating point with flags\"\r\n",
      "  },\r\n",
      "  {\r\n",
      "    \"Point Name\": \"BinaryOutput_index0\",\r\n",
      "    \"Volttron Point Name\": \"BinaryOutput_index0\",\r\n",
      "    \"Group\": \"10\",\r\n",
      "    \"Variation\": \"2\",\r\n",
      "    \"Index\": \"0\",\r\n",
      "    \"Scaling\": \"1\",\r\n",
      "    \"Units\": \"NA\",\r\n",
      "    \"Writable\": \"TRUE\",\r\n",
      "    \"Notes\": \"Binary\\u00a0Output with flags\"\r\n",
      "  },\r\n",
      "  {\r\n",
      "    \"Point Name\": \"BinaryOutput_index1\",\r\n",
      "    \"Volttron Point Name\": \"BinaryOutput_index1\",\r\n",
      "    \"Group\": \"10\",\r\n",
      "    \"Variation\": \"2\",\r\n",
      "    \"Index\": \"1\",\r\n",
      "    \"Scaling\": \"1\",\r\n",
      "    \"Units\": \"NA\",\r\n",
      "    \"Writable\": \"TRUE\",\r\n",
      "    \"Notes\": \"Binary\\u00a0Output with flags\"\r\n",
      "  },\r\n",
      "  {\r\n",
      "    \"Point Name\": \"BinaryOutput_index2\",\r\n",
      "    \"Volttron Point Name\": \"BinaryOutput_index2\",\r\n",
      "    \"Group\": \"10\",\r\n",
      "    \"Variation\": \"2\",\r\n",
      "    \"Index\": \"2\",\r\n",
      "    \"Scaling\": \"1\",\r\n",
      "    \"Units\": \"NA\",\r\n",
      "    \"Writable\": \"TRUE\",\r\n",
      "    \"Notes\": \"Binary\\u00a0Output with flags\"\r\n",
      "  },\r\n",
      "  {\r\n",
      "    \"Point Name\": \"BinaryOutput_index3\",\r\n",
      "    \"Volttron Point Name\": \"BinaryOutput_index3\",\r\n",
      "    \"Group\": \"10\",\r\n",
      "    \"Variation\": \"2\",\r\n",
      "    \"Index\": \"3\",\r\n",
      "    \"Scaling\": \"1\",\r\n",
      "    \"Units\": \"NA\",\r\n",
      "    \"Writable\": \"TRUE\",\r\n",
      "    \"Notes\": \"Binary\\u00a0Output with flags\"\r\n",
      "  }\r\n",
      "]\r\n"
     ]
    }
   ],
   "source": [
    "! vctl config get platform.driver udd-Dnp3.csv"
   ]
  },
  {
   "cell_type": "code",
   "execution_count": 6,
   "id": "701aa33c",
   "metadata": {},
   "outputs": [
    {
     "name": "stdout",
     "output_type": "stream",
     "text": [
      "{\r\n",
      "  \"driver_config\": {\r\n",
      "    \"master_ip\": \"0.0.0.0\",\r\n",
      "    \"outstation_ip\": \"127.0.0.1\",\r\n",
      "    \"master_id\": 2,\r\n",
      "    \"outstation_id\": 1,\r\n",
      "    \"port\": 20000\r\n",
      "  },\r\n",
      "  \"registry_config\": \"config://udd-Dnp3.csv\",\r\n",
      "  \"driver_type\": \"udd_dnp3\",\r\n",
      "  \"interval\": 5,\r\n",
      "  \"timezone\": \"UTC\",\r\n",
      "  \"campus\": \"campus-vm\",\r\n",
      "  \"building\": \"building-vm\",\r\n",
      "  \"unit\": \"Dnp3\",\r\n",
      "  \"publish_depth_first_all\": true,\r\n",
      "  \"heart_beat_point\": \"random_bool\"\r\n",
      "}\r\n"
     ]
    }
   ],
   "source": [
    "! vctl config get platform.driver devices/campus-vm/building-vm/Dnp3"
   ]
  },
  {
   "cell_type": "code",
   "execution_count": 7,
   "id": "563c2926",
   "metadata": {},
   "outputs": [],
   "source": [
    "# campus-vm/building-vm/Dnp3"
   ]
  },
  {
   "cell_type": "code",
   "execution_count": 12,
   "id": "8024b8e2",
   "metadata": {},
   "outputs": [
    {
     "name": "stdout",
     "output_type": "stream",
     "text": [
      "Starting 5fba478e-016b-4c7f-a3eb-9aed201592f2 listeneragent-3.3\n",
      "Starting 5610fc87-cde8-4c40-9751-d20a9f4c6b3b platform_driveragent-4.0\n"
     ]
    }
   ],
   "source": [
    "! vctl start --tag listener platform_driver"
   ]
  },
  {
   "cell_type": "code",
   "execution_count": 29,
   "id": "42bbc6e7",
   "metadata": {},
   "outputs": [
    {
     "name": "stdout",
     "output_type": "stream",
     "text": [
      "Stopping 5fba478e-016b-4c7f-a3eb-9aed201592f2 listeneragent-3.3\n",
      "Stopping 5610fc87-cde8-4c40-9751-d20a9f4c6b3b platform_driveragent-4.0\n"
     ]
    }
   ],
   "source": [
    "! vctl stop --tag listener platform_driver"
   ]
  },
  {
   "cell_type": "code",
   "execution_count": 15,
   "id": "bc3a3e9e",
   "metadata": {},
   "outputs": [
    {
     "data": {
      "text/plain": [
       "3.4262493198982904"
      ]
     },
     "execution_count": 15,
     "metadata": {},
     "output_type": "execute_result"
    }
   ],
   "source": [
    "a.vip.rpc.call(\"platform.driver\", \"get_point\",\n",
    "              \"campus-vm/building-vm/Dnp3\", \n",
    "               \"AnalogInput_index0\").get()"
   ]
  },
  {
   "cell_type": "code",
   "execution_count": 4,
   "id": "96ce1487",
   "metadata": {
    "scrolled": false
   },
   "outputs": [
    {
     "name": "stdout",
     "output_type": "stream",
     "text": [
      "2022-10-05 17:34:47.562300 3.441029565111029\n"
     ]
    },
    {
     "name": "stderr",
     "output_type": "stream",
     "text": [
      "KeyboardInterrupt\n",
      "2022-10-05T21:34:51Z\n"
     ]
    },
    {
     "ename": "KeyboardInterrupt",
     "evalue": "",
     "output_type": "error",
     "traceback": [
      "\u001b[0;31m---------------------------------------------------------------------------\u001b[0m",
      "\u001b[0;31mKeyboardInterrupt\u001b[0m                         Traceback (most recent call last)",
      "Cell \u001b[0;32mIn [4], line 4\u001b[0m\n\u001b[1;32m      2\u001b[0m \u001b[38;5;28;01mimport\u001b[39;00m \u001b[38;5;21;01mdatetime\u001b[39;00m\n\u001b[1;32m      3\u001b[0m \u001b[38;5;28;01mwhile\u001b[39;00m \u001b[38;5;28;01mTrue\u001b[39;00m:\n\u001b[0;32m----> 4\u001b[0m     sleep(\u001b[38;5;241m5\u001b[39m)\n\u001b[1;32m      5\u001b[0m     rs \u001b[38;5;241m=\u001b[39m a\u001b[38;5;241m.\u001b[39mvip\u001b[38;5;241m.\u001b[39mrpc\u001b[38;5;241m.\u001b[39mcall(\u001b[38;5;124m\"\u001b[39m\u001b[38;5;124mplatform.driver\u001b[39m\u001b[38;5;124m\"\u001b[39m, \u001b[38;5;124m\"\u001b[39m\u001b[38;5;124mget_point\u001b[39m\u001b[38;5;124m\"\u001b[39m,\n\u001b[1;32m      6\u001b[0m                   \u001b[38;5;124m\"\u001b[39m\u001b[38;5;124mcampus-vm/building-vm/Dnp3\u001b[39m\u001b[38;5;124m\"\u001b[39m, \n\u001b[1;32m      7\u001b[0m                    \u001b[38;5;124m\"\u001b[39m\u001b[38;5;124mAnalogInput_index0\u001b[39m\u001b[38;5;124m\"\u001b[39m)\u001b[38;5;241m.\u001b[39mget()\n\u001b[1;32m      8\u001b[0m     \u001b[38;5;28mprint\u001b[39m(datetime\u001b[38;5;241m.\u001b[39mdatetime\u001b[38;5;241m.\u001b[39mnow(), rs)\n",
      "File \u001b[0;32m~/project/volttron/env/lib/python3.8/site-packages/gevent/hub.py:166\u001b[0m, in \u001b[0;36msleep\u001b[0;34m(seconds, ref)\u001b[0m\n\u001b[1;32m    161\u001b[0m \u001b[38;5;28;01mwith\u001b[39;00m loop\u001b[38;5;241m.\u001b[39mtimer(seconds, ref\u001b[38;5;241m=\u001b[39mref) \u001b[38;5;28;01mas\u001b[39;00m t:\n\u001b[1;32m    162\u001b[0m     \u001b[38;5;66;03m# Sleeping is expected to be an \"absolute\" measure with\u001b[39;00m\n\u001b[1;32m    163\u001b[0m     \u001b[38;5;66;03m# respect to time.time(), not a relative measure, so it's\u001b[39;00m\n\u001b[1;32m    164\u001b[0m     \u001b[38;5;66;03m# important to update the loop's notion of now before we start\u001b[39;00m\n\u001b[1;32m    165\u001b[0m     loop\u001b[38;5;241m.\u001b[39mupdate_now()\n\u001b[0;32m--> 166\u001b[0m     \u001b[43mhub\u001b[49m\u001b[38;5;241;43m.\u001b[39;49m\u001b[43mwait\u001b[49m\u001b[43m(\u001b[49m\u001b[43mt\u001b[49m\u001b[43m)\u001b[49m\n",
      "File \u001b[0;32msrc/gevent/_hub_primitives.py:46\u001b[0m, in \u001b[0;36mgevent._gevent_c_hub_primitives.WaitOperationsGreenlet.wait\u001b[0;34m()\u001b[0m\n",
      "File \u001b[0;32msrc/gevent/_hub_primitives.py:55\u001b[0m, in \u001b[0;36mgevent._gevent_c_hub_primitives.WaitOperationsGreenlet.wait\u001b[0;34m()\u001b[0m\n",
      "File \u001b[0;32msrc/gevent/_waiter.py:154\u001b[0m, in \u001b[0;36mgevent._gevent_c_waiter.Waiter.get\u001b[0;34m()\u001b[0m\n",
      "File \u001b[0;32msrc/gevent/_greenlet_primitives.py:61\u001b[0m, in \u001b[0;36mgevent._gevent_c_greenlet_primitives.SwitchOutGreenletWithLoop.switch\u001b[0;34m()\u001b[0m\n",
      "File \u001b[0;32msrc/gevent/_greenlet_primitives.py:61\u001b[0m, in \u001b[0;36mgevent._gevent_c_greenlet_primitives.SwitchOutGreenletWithLoop.switch\u001b[0;34m()\u001b[0m\n",
      "File \u001b[0;32msrc/gevent/_greenlet_primitives.py:65\u001b[0m, in \u001b[0;36mgevent._gevent_c_greenlet_primitives.SwitchOutGreenletWithLoop.switch\u001b[0;34m()\u001b[0m\n",
      "File \u001b[0;32msrc/gevent/_gevent_c_greenlet_primitives.pxd:35\u001b[0m, in \u001b[0;36mgevent._gevent_c_greenlet_primitives._greenlet_switch\u001b[0;34m()\u001b[0m\n",
      "\u001b[0;31mKeyboardInterrupt\u001b[0m: "
     ]
    }
   ],
   "source": [
    "from time import sleep\n",
    "import datetime\n",
    "while True:\n",
    "    sleep(5)\n",
    "    rs = a.vip.rpc.call(\"platform.driver\", \"get_point\",\n",
    "                  \"campus-vm/building-vm/Dnp3\", \n",
    "                   \"AnalogInput_index0\").get()\n",
    "    print(datetime.datetime.now(), rs)"
   ]
  },
  {
   "cell_type": "code",
   "execution_count": 26,
   "id": "ebb41483",
   "metadata": {
    "scrolled": false
   },
   "outputs": [
    {
     "name": "stdout",
     "output_type": "stream",
     "text": [
      "2022-10-05 15:17:23.550281 {'success_flag': True, 'value_to_set': 7.8766, 'set_pt_response': None, 'get_pt_response': 7.8766}\n"
     ]
    }
   ],
   "source": [
    "rs = a.vip.rpc.call(\"platform.driver\", \"set_point\",\n",
    "              \"campus-vm/building-vm/Dnp3\", \n",
    "               \"AnalogOutput_index0\", 7.8766).get()\n",
    "print(datetime.datetime.now(), rs)"
   ]
  },
  {
   "cell_type": "code",
   "execution_count": 3,
   "id": "9c203e40",
   "metadata": {},
   "outputs": [
    {
     "ename": "NameError",
     "evalue": "name 'datetime' is not defined",
     "output_type": "error",
     "traceback": [
      "\u001b[0;31m---------------------------------------------------------------------------\u001b[0m",
      "\u001b[0;31mNameError\u001b[0m                                 Traceback (most recent call last)",
      "Cell \u001b[0;32mIn [3], line 5\u001b[0m\n\u001b[1;32m      1\u001b[0m \u001b[38;5;66;03m# verify with retrieving value workflow\u001b[39;00m\n\u001b[1;32m      2\u001b[0m rs \u001b[38;5;241m=\u001b[39m a\u001b[38;5;241m.\u001b[39mvip\u001b[38;5;241m.\u001b[39mrpc\u001b[38;5;241m.\u001b[39mcall(\u001b[38;5;124m\"\u001b[39m\u001b[38;5;124mplatform.driver\u001b[39m\u001b[38;5;124m\"\u001b[39m, \u001b[38;5;124m\"\u001b[39m\u001b[38;5;124mget_point\u001b[39m\u001b[38;5;124m\"\u001b[39m,\n\u001b[1;32m      3\u001b[0m               \u001b[38;5;124m\"\u001b[39m\u001b[38;5;124mcampus-vm/building-vm/Dnp3\u001b[39m\u001b[38;5;124m\"\u001b[39m, \n\u001b[1;32m      4\u001b[0m                \u001b[38;5;124m\"\u001b[39m\u001b[38;5;124mAnalogOutput_index0\u001b[39m\u001b[38;5;124m\"\u001b[39m)\u001b[38;5;241m.\u001b[39mget()\n\u001b[0;32m----> 5\u001b[0m \u001b[38;5;28mprint\u001b[39m(datetime\u001b[38;5;241m.\u001b[39mdatetime\u001b[38;5;241m.\u001b[39mnow(), rs)\n",
      "\u001b[0;31mNameError\u001b[0m: name 'datetime' is not defined"
     ]
    },
    {
     "name": "stderr",
     "output_type": "stream",
     "text": [
      "2022-10-05 17:34:31,860 volttron.platform.vip.agent.subsystems.auth WARNING: Auth entry not found for 4f5e0d5f-e05f-48c5-92d7-b78ff2b31806: rpc_method_authorizations not updated. If this agent does have an auth entry, verify that the 'identity' field has been included in the auth entry. This should be set to the identity of the agent\n"
     ]
    }
   ],
   "source": [
    "# verify with retrieving value workflow\n",
    "rs = a.vip.rpc.call(\"platform.driver\", \"get_point\",\n",
    "              \"campus-vm/building-vm/Dnp3\", \n",
    "               \"AnalogOutput_index0\").get()\n",
    "print(datetime.datetime.now(), rs)"
   ]
  },
  {
   "cell_type": "code",
   "execution_count": null,
   "id": "2247ed58",
   "metadata": {},
   "outputs": [],
   "source": [
    "# from volttron.platform.vip.agent.utils import build_agent\n",
    "# a = build_agent()\n",
    "# rs = a.vip.rpc.call(\"platform.driver\", \"set_point\",\n",
    "#               \"campus-vm/building-vm/Dnp3\", \n",
    "#                \"AnalogOutput_index0\", 6.67).get()"
   ]
  },
  {
   "cell_type": "code",
   "execution_count": null,
   "id": "58e49f68",
   "metadata": {
    "scrolled": false
   },
   "outputs": [
    {
     "name": "stdout",
     "output_type": "stream",
     "text": [
      "=======================\n",
      "val to set 0.10749311127116079\n",
      "2022-10-06 11:43:08.971837 {'success_flag': True, 'value_to_set': 0.10749311127116079, 'set_pt_response': None, 'get_pt_response': 0.10749311127116079}\n",
      "2022-10-06 11:43:08.979475 0.10749311127116079\n",
      "=======================\n",
      "val to set 0.7187041286788112\n",
      "2022-10-06 11:43:14.189627 {'success_flag': True, 'value_to_set': 0.7187041286788112, 'set_pt_response': None, 'get_pt_response': 0.7187041286788112}\n",
      "2022-10-06 11:43:14.192194 0.7187041286788112\n",
      "=======================\n",
      "val to set 0.980671471861773\n",
      "2022-10-06 11:43:19.405772 {'success_flag': True, 'value_to_set': 0.980671471861773, 'set_pt_response': None, 'get_pt_response': 0.980671471861773}\n",
      "2022-10-06 11:43:19.413591 0.980671471861773\n",
      "=======================\n",
      "val to set 0.8571987432964798\n",
      "2022-10-06 11:43:24.641519 {'success_flag': True, 'value_to_set': 0.8571987432964798, 'set_pt_response': None, 'get_pt_response': 0.8571987432964798}\n",
      "2022-10-06 11:43:24.645335 0.8571987432964798\n",
      "=======================\n",
      "val to set 0.9841772169161189\n",
      "2022-10-06 11:43:29.856007 {'success_flag': True, 'value_to_set': 0.9841772169161189, 'set_pt_response': None, 'get_pt_response': 0.9841772169161189}\n",
      "2022-10-06 11:43:29.861622 0.9841772169161189\n",
      "=======================\n",
      "val to set 0.06766576316476014\n",
      "2022-10-06 11:43:35.072569 {'success_flag': True, 'value_to_set': 0.06766576316476014, 'set_pt_response': None, 'get_pt_response': 0.06766576316476014}\n",
      "2022-10-06 11:43:35.077727 0.06766576316476014\n",
      "=======================\n",
      "val to set 0.778416728949627\n",
      "2022-10-06 11:43:40.288468 {'success_flag': True, 'value_to_set': 0.778416728949627, 'set_pt_response': None, 'get_pt_response': 0.778416728949627}\n",
      "2022-10-06 11:43:40.291310 0.778416728949627\n"
     ]
    }
   ],
   "source": [
    "# from time import sleep\n",
    "# import datetime\n",
    "import random\n",
    "while True:\n",
    "    sleep(5)\n",
    "    print(\"=======================\")\n",
    "    val_to_set = random.random()\n",
    "    print(f\"val to set {val_to_set}\")\n",
    "    rs = a.vip.rpc.call(\"platform.driver\", \"set_point\",\n",
    "              \"campus-vm/building-vm/Dnp3\", \n",
    "               \"AnalogOutput_index0\", val_to_set).get()\n",
    "    print(datetime.datetime.now(), rs)\n",
    "    \n",
    "#     sleep(1)\n",
    "    \n",
    "    # verify\n",
    "    rs = a.vip.rpc.call(\"platform.driver\", \"get_point\",\n",
    "              \"campus-vm/building-vm/Dnp3\", \n",
    "               \"AnalogOutput_index0\").get()\n",
    "    print(datetime.datetime.now(), rs)"
   ]
  },
  {
   "cell_type": "code",
   "execution_count": null,
   "id": "821d6c0c",
   "metadata": {},
   "outputs": [],
   "source": []
  }
 ],
 "metadata": {
  "kernelspec": {
   "display_name": "Python 3 (ipykernel)",
   "language": "python",
   "name": "python3"
  },
  "language_info": {
   "codemirror_mode": {
    "name": "ipython",
    "version": 3
   },
   "file_extension": ".py",
   "mimetype": "text/x-python",
   "name": "python",
   "nbconvert_exporter": "python",
   "pygments_lexer": "ipython3",
   "version": "3.8.10"
  }
 },
 "nbformat": 4,
 "nbformat_minor": 5
}
