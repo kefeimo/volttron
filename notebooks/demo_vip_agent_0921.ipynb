{
 "cells": [
  {
   "cell_type": "markdown",
   "id": "ac1e590f",
   "metadata": {},
   "source": [
    "### important commands\n",
    "./start-volttron\n",
    "vctl status\n",
    "vctl start --tag listener platform_historian platform_driver\n",
    "vctl status\n",
    "tail -f volttron.log\n",
    "vctl stop --tag listener platform_historian platform_driver\n",
    "\n",
    "vctl start --tag listener platform_driver\n",
    "vctl stop --tag listener platform_driver\n",
    "\n",
    "\n",
    "vctl config list\n",
    "vctl config list platform.driver\n",
    "vctl config delete platform.driver --all\n",
    "\n",
    "vctl config store platform.driver devices/campus-vm/building-vm/Dnp3 /home/kefei/sandbox/volttron/examples/configurations/drivers/udd-Dnp3.config --json\n",
    "vctl config store platform.driver udd-Dnp3.csv /home/kefei/sandbox/volttron/examples/configurations/drivers/udd-Dnp3.csv --csv\n",
    "\n",
    "vctl config get platform.driver udd-Dnp3.csv"
   ]
  },
  {
   "cell_type": "code",
   "execution_count": 1,
   "id": "718f8fb6",
   "metadata": {},
   "outputs": [],
   "source": [
    "from volttron.platform.vip.agent.utils import build_agent"
   ]
  },
  {
   "cell_type": "code",
   "execution_count": 2,
   "id": "67f84b66",
   "metadata": {},
   "outputs": [
    {
     "name": "stderr",
     "output_type": "stream",
     "text": [
      "2022-10-05 10:38:52,194 root DEBUG: Creating ZMQ Core None\n",
      "2022-10-05 10:38:52,195 volttron.platform.vip.agent.core DEBUG: address: ipc://@/home/kefei/.volttron/run/vip.socket\n",
      "2022-10-05 10:38:52,196 volttron.platform.vip.agent.core DEBUG: identity: 02f4f702-560c-4026-9a3b-7eaec2292289\n",
      "2022-10-05 10:38:52,196 volttron.platform.vip.agent.core DEBUG: agent_uuid: None\n",
      "2022-10-05 10:38:52,204 volttron.platform.vip.agent.core DEBUG: serverkey: None\n",
      "2022-10-05 10:38:52,395 volttron.platform.vip.agent.core DEBUG: AGENT RUNNING on ZMQ Core 02f4f702-560c-4026-9a3b-7eaec2292289\n",
      "2022-10-05 10:38:52,396 volttron.platform.vip.agent.core INFO: CORE address:ipc://@/home/kefei/.volttron/run/vip.socket?publickey=AtHKs50YJxE3okzMqKtfpYGhQHUBRrjZHJdUJNMEJG8&secretkey=6uA1gKcZEFsWyqT6hXKcKrjjFFvU9mRyVgcPF2ckSzY&serverkey=AtHKs50YJxE3okzMqKtfpYGhQHUBRrjZHJdUJNMEJG8\n",
      "2022-10-05 10:38:52,397 volttron.platform.vip.zmq_connection DEBUG: ZMQ connection 02f4f702-560c-4026-9a3b-7eaec2292289\n",
      "2022-10-05 10:38:52,399 volttron.platform.vip.zmq_connection DEBUG: connecting to url ipc://@/home/kefei/.volttron/run/vip.socket?publickey=AtHKs50YJxE3okzMqKtfpYGhQHUBRrjZHJdUJNMEJG8&secretkey=6uA1gKcZEFsWyqT6hXKcKrjjFFvU9mRyVgcPF2ckSzY&serverkey=AtHKs50YJxE3okzMqKtfpYGhQHUBRrjZHJdUJNMEJG8\n",
      "2022-10-05 10:38:52,401 volttron.platform.vip.zmq_connection DEBUG: url type is <class 'str'>\n",
      "2022-10-05 10:38:52,437 volttron.platform.vip.agent.core INFO: Connected to platform: router: e7a12e71-afb9-4caf-9521-a551a823a76e version: 1.0 identity: 02f4f702-560c-4026-9a3b-7eaec2292289\n",
      "2022-10-05 10:38:52,438 volttron.platform.vip.agent.core DEBUG: Running onstart methods.\n"
     ]
    }
   ],
   "source": [
    "a = build_agent()"
   ]
  },
  {
   "cell_type": "code",
   "execution_count": 36,
   "id": "2bc06ad7",
   "metadata": {
    "scrolled": true
   },
   "outputs": [
    {
     "name": "stdout",
     "output_type": "stream",
     "text": [
      "UUID AGENT                    IDENTITY            TAG                STATUS          HEALTH\n",
      "5f listeneragent-3.3        listeneragent-3.3_1 listener           running [15639] GOOD\n",
      "56 platform_driveragent-4.0 platform.driver     platform_driver    running [15640] GOOD\n",
      "53 sqlhistorianagent-4.0.0  platform.historian  platform_historian                 \n"
     ]
    }
   ],
   "source": [
    "! vctl status"
   ]
  },
  {
   "cell_type": "code",
   "execution_count": 4,
   "id": "1acb1fd9",
   "metadata": {},
   "outputs": [
    {
     "name": "stdout",
     "output_type": "stream",
     "text": [
      "devices/campus-vm/building-vm/Dnp3\r\n",
      "udd-Dnp3.csv\r\n"
     ]
    }
   ],
   "source": [
    "! vctl config list platform.driver"
   ]
  },
  {
   "cell_type": "code",
   "execution_count": 5,
   "id": "1aba49a5",
   "metadata": {},
   "outputs": [
    {
     "name": "stdout",
     "output_type": "stream",
     "text": [
      "[\r\n",
      "  {\r\n",
      "    \"Point Name\": \"AnalogInput_index0\",\r\n",
      "    \"Volttron Point Name\": \"AnalogInput_index0\",\r\n",
      "    \"Group\": \"30\",\r\n",
      "    \"Variation\": \"6\",\r\n",
      "    \"Index\": \"0\",\r\n",
      "    \"Scaling\": \"1\",\r\n",
      "    \"Units\": \"NA\",\r\n",
      "    \"Writable\": \"FALSE\",\r\n",
      "    \"Notes\": \"Double Analogue input without status\"\r\n",
      "  },\r\n",
      "  {\r\n",
      "    \"Point Name\": \"AnalogInput_index1\",\r\n",
      "    \"Volttron Point Name\": \"AnalogInput_index1\",\r\n",
      "    \"Group\": \"30\",\r\n",
      "    \"Variation\": \"6\",\r\n",
      "    \"Index\": \"1\",\r\n",
      "    \"Scaling\": \"1\",\r\n",
      "    \"Units\": \"NA\",\r\n",
      "    \"Writable\": \"FALSE\",\r\n",
      "    \"Notes\": \"Double Analogue input without status\"\r\n",
      "  },\r\n",
      "  {\r\n",
      "    \"Point Name\": \"AnalogInput_index2\",\r\n",
      "    \"Volttron Point Name\": \"AnalogInput_index2\",\r\n",
      "    \"Group\": \"30\",\r\n",
      "    \"Variation\": \"6\",\r\n",
      "    \"Index\": \"2\",\r\n",
      "    \"Scaling\": \"1\",\r\n",
      "    \"Units\": \"NA\",\r\n",
      "    \"Writable\": \"FALSE\",\r\n",
      "    \"Notes\": \"Double Analogue input without status\"\r\n",
      "  },\r\n",
      "  {\r\n",
      "    \"Point Name\": \"AnalogInput_index3\",\r\n",
      "    \"Volttron Point Name\": \"AnalogInput_index3\",\r\n",
      "    \"Group\": \"30\",\r\n",
      "    \"Variation\": \"6\",\r\n",
      "    \"Index\": \"3\",\r\n",
      "    \"Scaling\": \"1\",\r\n",
      "    \"Units\": \"NA\",\r\n",
      "    \"Writable\": \"FALSE\",\r\n",
      "    \"Notes\": \"Double Analogue input without status\"\r\n",
      "  },\r\n",
      "  {\r\n",
      "    \"Point Name\": \"BinaryInput_index0\",\r\n",
      "    \"Volttron Point Name\": \"BinaryInput_index0\",\r\n",
      "    \"Group\": \"1\",\r\n",
      "    \"Variation\": \"2\",\r\n",
      "    \"Index\": \"0\",\r\n",
      "    \"Scaling\": \"1\",\r\n",
      "    \"Units\": \"NA\",\r\n",
      "    \"Writable\": \"FALSE\",\r\n",
      "    \"Notes\": \"Single bit binary input with status\"\r\n",
      "  },\r\n",
      "  {\r\n",
      "    \"Point Name\": \"BinaryInput_index1\",\r\n",
      "    \"Volttron Point Name\": \"BinaryInput_index1\",\r\n",
      "    \"Group\": \"1\",\r\n",
      "    \"Variation\": \"2\",\r\n",
      "    \"Index\": \"1\",\r\n",
      "    \"Scaling\": \"1\",\r\n",
      "    \"Units\": \"NA\",\r\n",
      "    \"Writable\": \"FALSE\",\r\n",
      "    \"Notes\": \"Single bit binary input with status\"\r\n",
      "  },\r\n",
      "  {\r\n",
      "    \"Point Name\": \"BinaryInput_index2\",\r\n",
      "    \"Volttron Point Name\": \"BinaryInput_index2\",\r\n",
      "    \"Group\": \"1\",\r\n",
      "    \"Variation\": \"2\",\r\n",
      "    \"Index\": \"2\",\r\n",
      "    \"Scaling\": \"1\",\r\n",
      "    \"Units\": \"NA\",\r\n",
      "    \"Writable\": \"FALSE\",\r\n",
      "    \"Notes\": \"Single bit binary input with status\"\r\n",
      "  },\r\n",
      "  {\r\n",
      "    \"Point Name\": \"BinaryInput_index3\",\r\n",
      "    \"Volttron Point Name\": \"BinaryInput_index3\",\r\n",
      "    \"Group\": \"1\",\r\n",
      "    \"Variation\": \"2\",\r\n",
      "    \"Index\": \"3\",\r\n",
      "    \"Scaling\": \"1\",\r\n",
      "    \"Units\": \"NA\",\r\n",
      "    \"Writable\": \"FALSE\",\r\n",
      "    \"Notes\": \"Single bit binary input with status\"\r\n",
      "  },\r\n",
      "  {\r\n",
      "    \"Point Name\": \"AnalogOutput_index0\",\r\n",
      "    \"Volttron Point Name\": \"AnalogOutput_index0\",\r\n",
      "    \"Group\": \"40\",\r\n",
      "    \"Variation\": \"4\",\r\n",
      "    \"Index\": \"0\",\r\n",
      "    \"Scaling\": \"1\",\r\n",
      "    \"Units\": \"NA\",\r\n",
      "    \"Writable\": \"TRUE\",\r\n",
      "    \"Notes\": \"Double-precision floating point with flags\"\r\n",
      "  },\r\n",
      "  {\r\n",
      "    \"Point Name\": \"AnalogOutput_index1\",\r\n",
      "    \"Volttron Point Name\": \"AnalogOutput_index1\",\r\n",
      "    \"Group\": \"40\",\r\n",
      "    \"Variation\": \"4\",\r\n",
      "    \"Index\": \"1\",\r\n",
      "    \"Scaling\": \"1\",\r\n",
      "    \"Units\": \"NA\",\r\n",
      "    \"Writable\": \"TRUE\",\r\n",
      "    \"Notes\": \"Double-precision floating point with flags\"\r\n",
      "  },\r\n",
      "  {\r\n",
      "    \"Point Name\": \"AnalogOutput_index2\",\r\n",
      "    \"Volttron Point Name\": \"AnalogOutput_index2\",\r\n",
      "    \"Group\": \"40\",\r\n",
      "    \"Variation\": \"4\",\r\n",
      "    \"Index\": \"2\",\r\n",
      "    \"Scaling\": \"1\",\r\n",
      "    \"Units\": \"NA\",\r\n",
      "    \"Writable\": \"TRUE\",\r\n",
      "    \"Notes\": \"Double-precision floating point with flags\"\r\n",
      "  },\r\n",
      "  {\r\n",
      "    \"Point Name\": \"AnalogOutput_index3\",\r\n",
      "    \"Volttron Point Name\": \"AnalogOutput_index3\",\r\n",
      "    \"Group\": \"40\",\r\n",
      "    \"Variation\": \"4\",\r\n",
      "    \"Index\": \"3\",\r\n",
      "    \"Scaling\": \"1\",\r\n",
      "    \"Units\": \"NA\",\r\n",
      "    \"Writable\": \"TRUE\",\r\n",
      "    \"Notes\": \"Double-precision floating point with flags\"\r\n",
      "  },\r\n",
      "  {\r\n",
      "    \"Point Name\": \"BinaryOutput_index0\",\r\n",
      "    \"Volttron Point Name\": \"BinaryOutput_index0\",\r\n",
      "    \"Group\": \"10\",\r\n",
      "    \"Variation\": \"2\",\r\n",
      "    \"Index\": \"0\",\r\n",
      "    \"Scaling\": \"1\",\r\n",
      "    \"Units\": \"NA\",\r\n",
      "    \"Writable\": \"TRUE\",\r\n",
      "    \"Notes\": \"Binary\\u00a0Output with flags\"\r\n",
      "  },\r\n",
      "  {\r\n",
      "    \"Point Name\": \"BinaryOutput_index1\",\r\n",
      "    \"Volttron Point Name\": \"BinaryOutput_index1\",\r\n",
      "    \"Group\": \"10\",\r\n",
      "    \"Variation\": \"2\",\r\n",
      "    \"Index\": \"1\",\r\n",
      "    \"Scaling\": \"1\",\r\n",
      "    \"Units\": \"NA\",\r\n",
      "    \"Writable\": \"TRUE\",\r\n",
      "    \"Notes\": \"Binary\\u00a0Output with flags\"\r\n",
      "  },\r\n",
      "  {\r\n",
      "    \"Point Name\": \"BinaryOutput_index2\",\r\n",
      "    \"Volttron Point Name\": \"BinaryOutput_index2\",\r\n",
      "    \"Group\": \"10\",\r\n",
      "    \"Variation\": \"2\",\r\n",
      "    \"Index\": \"2\",\r\n",
      "    \"Scaling\": \"1\",\r\n",
      "    \"Units\": \"NA\",\r\n",
      "    \"Writable\": \"TRUE\",\r\n",
      "    \"Notes\": \"Binary\\u00a0Output with flags\"\r\n",
      "  },\r\n",
      "  {\r\n",
      "    \"Point Name\": \"BinaryOutput_index3\",\r\n",
      "    \"Volttron Point Name\": \"BinaryOutput_index3\",\r\n",
      "    \"Group\": \"10\",\r\n",
      "    \"Variation\": \"2\",\r\n",
      "    \"Index\": \"3\",\r\n",
      "    \"Scaling\": \"1\",\r\n",
      "    \"Units\": \"NA\",\r\n",
      "    \"Writable\": \"TRUE\",\r\n",
      "    \"Notes\": \"Binary\\u00a0Output with flags\"\r\n",
      "  }\r\n",
      "]\r\n"
     ]
    }
   ],
   "source": [
    "! vctl config get platform.driver udd-Dnp3.csv"
   ]
  },
  {
   "cell_type": "code",
   "execution_count": 6,
   "id": "701aa33c",
   "metadata": {},
   "outputs": [
    {
     "name": "stdout",
     "output_type": "stream",
     "text": [
      "{\r\n",
      "  \"driver_config\": {\r\n",
      "    \"master_ip\": \"0.0.0.0\",\r\n",
      "    \"outstation_ip\": \"127.0.0.1\",\r\n",
      "    \"master_id\": 2,\r\n",
      "    \"outstation_id\": 1,\r\n",
      "    \"port\": 20000\r\n",
      "  },\r\n",
      "  \"registry_config\": \"config://udd-Dnp3.csv\",\r\n",
      "  \"driver_type\": \"udd_dnp3\",\r\n",
      "  \"interval\": 5,\r\n",
      "  \"timezone\": \"UTC\",\r\n",
      "  \"campus\": \"campus-vm\",\r\n",
      "  \"building\": \"building-vm\",\r\n",
      "  \"unit\": \"Dnp3\",\r\n",
      "  \"publish_depth_first_all\": true,\r\n",
      "  \"heart_beat_point\": \"random_bool\"\r\n",
      "}\r\n"
     ]
    }
   ],
   "source": [
    "! vctl config get platform.driver devices/campus-vm/building-vm/Dnp3"
   ]
  },
  {
   "cell_type": "code",
   "execution_count": 7,
   "id": "563c2926",
   "metadata": {},
   "outputs": [],
   "source": [
    "# campus-vm/building-vm/Dnp3"
   ]
  },
  {
   "cell_type": "code",
   "execution_count": 34,
   "id": "8024b8e2",
   "metadata": {},
   "outputs": [
    {
     "name": "stdout",
     "output_type": "stream",
     "text": [
      "Starting 5fba478e-016b-4c7f-a3eb-9aed201592f2 listeneragent-3.3\n",
      "Starting 5610fc87-cde8-4c40-9751-d20a9f4c6b3b platform_driveragent-4.0\n"
     ]
    }
   ],
   "source": [
    "! vctl start --tag listener platform_driver"
   ]
  },
  {
   "cell_type": "code",
   "execution_count": 62,
   "id": "42bbc6e7",
   "metadata": {},
   "outputs": [
    {
     "name": "stdout",
     "output_type": "stream",
     "text": [
      "Stopping 5fba478e-016b-4c7f-a3eb-9aed201592f2 listeneragent-3.3\n",
      "Stopping 5610fc87-cde8-4c40-9751-d20a9f4c6b3b platform_driveragent-4.0\n"
     ]
    }
   ],
   "source": [
    "! vctl stop --tag listener platform_driver"
   ]
  },
  {
   "cell_type": "code",
   "execution_count": 43,
   "id": "bc3a3e9e",
   "metadata": {},
   "outputs": [
    {
     "data": {
      "text/plain": [
       "3.7861315662128767"
      ]
     },
     "execution_count": 43,
     "metadata": {},
     "output_type": "execute_result"
    }
   ],
   "source": [
    "a.vip.rpc.call(\"platform.driver\", \"get_point\",\n",
    "              \"campus-vm/building-vm/Dnp3\", \n",
    "               \"AnalogInput_index0\").get()"
   ]
  },
  {
   "cell_type": "code",
   "execution_count": 49,
   "id": "96ce1487",
   "metadata": {
    "scrolled": false
   },
   "outputs": [
    {
     "name": "stdout",
     "output_type": "stream",
     "text": [
      "2022-10-05 13:39:26.939080 4.884166285376181\n",
      "2022-10-05 13:39:31.953959 4.884166285376181\n",
      "2022-10-05 13:39:36.969497 3.3863717583216433\n"
     ]
    },
    {
     "name": "stderr",
     "output_type": "stream",
     "text": [
      "KeyboardInterrupt\n",
      "2022-10-05T17:39:37Z\n"
     ]
    },
    {
     "ename": "KeyboardInterrupt",
     "evalue": "",
     "output_type": "error",
     "traceback": [
      "\u001b[0;31m---------------------------------------------------------------------------\u001b[0m",
      "\u001b[0;31mKeyboardInterrupt\u001b[0m                         Traceback (most recent call last)",
      "Cell \u001b[0;32mIn [49], line 4\u001b[0m\n\u001b[1;32m      2\u001b[0m \u001b[38;5;28;01mimport\u001b[39;00m \u001b[38;5;21;01mdatetime\u001b[39;00m\n\u001b[1;32m      3\u001b[0m \u001b[38;5;28;01mwhile\u001b[39;00m \u001b[38;5;28;01mTrue\u001b[39;00m:\n\u001b[0;32m----> 4\u001b[0m     sleep(\u001b[38;5;241m5\u001b[39m)\n\u001b[1;32m      5\u001b[0m     rs \u001b[38;5;241m=\u001b[39m a\u001b[38;5;241m.\u001b[39mvip\u001b[38;5;241m.\u001b[39mrpc\u001b[38;5;241m.\u001b[39mcall(\u001b[38;5;124m\"\u001b[39m\u001b[38;5;124mplatform.driver\u001b[39m\u001b[38;5;124m\"\u001b[39m, \u001b[38;5;124m\"\u001b[39m\u001b[38;5;124mget_point\u001b[39m\u001b[38;5;124m\"\u001b[39m,\n\u001b[1;32m      6\u001b[0m                   \u001b[38;5;124m\"\u001b[39m\u001b[38;5;124mcampus-vm/building-vm/Dnp3\u001b[39m\u001b[38;5;124m\"\u001b[39m, \n\u001b[1;32m      7\u001b[0m                    \u001b[38;5;124m\"\u001b[39m\u001b[38;5;124mAnalogInput_index0\u001b[39m\u001b[38;5;124m\"\u001b[39m)\u001b[38;5;241m.\u001b[39mget()\n\u001b[1;32m      8\u001b[0m     \u001b[38;5;28mprint\u001b[39m(datetime\u001b[38;5;241m.\u001b[39mdatetime\u001b[38;5;241m.\u001b[39mnow(), rs)\n",
      "File \u001b[0;32m~/project/volttron/env/lib/python3.8/site-packages/gevent/hub.py:166\u001b[0m, in \u001b[0;36msleep\u001b[0;34m(seconds, ref)\u001b[0m\n\u001b[1;32m    161\u001b[0m \u001b[38;5;28;01mwith\u001b[39;00m loop\u001b[38;5;241m.\u001b[39mtimer(seconds, ref\u001b[38;5;241m=\u001b[39mref) \u001b[38;5;28;01mas\u001b[39;00m t:\n\u001b[1;32m    162\u001b[0m     \u001b[38;5;66;03m# Sleeping is expected to be an \"absolute\" measure with\u001b[39;00m\n\u001b[1;32m    163\u001b[0m     \u001b[38;5;66;03m# respect to time.time(), not a relative measure, so it's\u001b[39;00m\n\u001b[1;32m    164\u001b[0m     \u001b[38;5;66;03m# important to update the loop's notion of now before we start\u001b[39;00m\n\u001b[1;32m    165\u001b[0m     loop\u001b[38;5;241m.\u001b[39mupdate_now()\n\u001b[0;32m--> 166\u001b[0m     \u001b[43mhub\u001b[49m\u001b[38;5;241;43m.\u001b[39;49m\u001b[43mwait\u001b[49m\u001b[43m(\u001b[49m\u001b[43mt\u001b[49m\u001b[43m)\u001b[49m\n",
      "File \u001b[0;32msrc/gevent/_hub_primitives.py:46\u001b[0m, in \u001b[0;36mgevent._gevent_c_hub_primitives.WaitOperationsGreenlet.wait\u001b[0;34m()\u001b[0m\n",
      "File \u001b[0;32msrc/gevent/_hub_primitives.py:55\u001b[0m, in \u001b[0;36mgevent._gevent_c_hub_primitives.WaitOperationsGreenlet.wait\u001b[0;34m()\u001b[0m\n",
      "File \u001b[0;32msrc/gevent/_waiter.py:154\u001b[0m, in \u001b[0;36mgevent._gevent_c_waiter.Waiter.get\u001b[0;34m()\u001b[0m\n",
      "File \u001b[0;32msrc/gevent/_greenlet_primitives.py:61\u001b[0m, in \u001b[0;36mgevent._gevent_c_greenlet_primitives.SwitchOutGreenletWithLoop.switch\u001b[0;34m()\u001b[0m\n",
      "File \u001b[0;32msrc/gevent/_greenlet_primitives.py:61\u001b[0m, in \u001b[0;36mgevent._gevent_c_greenlet_primitives.SwitchOutGreenletWithLoop.switch\u001b[0;34m()\u001b[0m\n",
      "File \u001b[0;32msrc/gevent/_greenlet_primitives.py:65\u001b[0m, in \u001b[0;36mgevent._gevent_c_greenlet_primitives.SwitchOutGreenletWithLoop.switch\u001b[0;34m()\u001b[0m\n",
      "File \u001b[0;32msrc/gevent/_gevent_c_greenlet_primitives.pxd:35\u001b[0m, in \u001b[0;36mgevent._gevent_c_greenlet_primitives._greenlet_switch\u001b[0;34m()\u001b[0m\n",
      "\u001b[0;31mKeyboardInterrupt\u001b[0m: "
     ]
    }
   ],
   "source": [
    "from time import sleep\n",
    "import datetime\n",
    "while True:\n",
    "    sleep(5)\n",
    "    rs = a.vip.rpc.call(\"platform.driver\", \"get_point\",\n",
    "                  \"campus-vm/building-vm/Dnp3\", \n",
    "                   \"AnalogInput_index0\").get()\n",
    "    print(datetime.datetime.now(), rs)"
   ]
  },
  {
   "cell_type": "code",
   "execution_count": 23,
   "id": "ebb41483",
   "metadata": {
    "scrolled": false
   },
   "outputs": [
    {
     "name": "stdout",
     "output_type": "stream",
     "text": [
      "2022-10-05 11:21:39.936143 {'success_flag': True, 'value_to_set': 0.543, 'set_pt_response': None, 'get_pt_response': 0.543}\n"
     ]
    }
   ],
   "source": [
    "rs = a.vip.rpc.call(\"platform.driver\", \"set_point\",\n",
    "              \"campus-vm/building-vm/Dnp3\", \n",
    "               \"AnalogOutput_index0\", 0.543).get()\n",
    "print(datetime.datetime.now(), rs)"
   ]
  },
  {
   "cell_type": "code",
   "execution_count": 25,
   "id": "9c203e40",
   "metadata": {},
   "outputs": [
    {
     "name": "stdout",
     "output_type": "stream",
     "text": [
      "2022-10-05 11:23:19.028844 0.543\n"
     ]
    }
   ],
   "source": [
    "# verify with retrieving value workflow\n",
    "rs = a.vip.rpc.call(\"platform.driver\", \"get_point\",\n",
    "              \"campus-vm/building-vm/Dnp3\", \n",
    "               \"AnalogOutput_index0\").get()\n",
    "print(datetime.datetime.now(), rs)"
   ]
  },
  {
   "cell_type": "code",
   "execution_count": 51,
   "id": "2247ed58",
   "metadata": {},
   "outputs": [],
   "source": [
    "# from volttron.platform.vip.agent.utils import build_agent\n",
    "# a = build_agent()\n",
    "# rs = a.vip.rpc.call(\"platform.driver\", \"set_point\",\n",
    "#               \"campus-vm/building-vm/Dnp3\", \n",
    "#                \"AnalogOutput_index0\", 6.67).get()"
   ]
  },
  {
   "cell_type": "code",
   "execution_count": 61,
   "id": "58e49f68",
   "metadata": {},
   "outputs": [
    {
     "name": "stdout",
     "output_type": "stream",
     "text": [
      "=======================\n",
      "val to set 0.7862633761695772\n",
      "2022-10-05 14:00:37.834445 {'success_flag': True, 'value_to_set': 0.7862633761695772, 'set_pt_response': None, 'get_pt_response': 0.7862633761695772}\n",
      "2022-10-05 14:00:38.839869 0.7862633761695772\n",
      "=======================\n",
      "val to set 0.8401831281406417\n",
      "2022-10-05 14:00:44.058328 {'success_flag': True, 'value_to_set': 0.8401831281406417, 'set_pt_response': None, 'get_pt_response': 0.8401831281406417}\n",
      "2022-10-05 14:00:45.065688 0.8401831281406417\n",
      "=======================\n",
      "val to set 0.6327053544346082\n",
      "2022-10-05 14:00:50.284245 {'success_flag': True, 'value_to_set': 0.6327053544346082, 'set_pt_response': None, 'get_pt_response': 0.6327053544346082}\n",
      "2022-10-05 14:00:51.299379 0.6327053544346082\n",
      "=======================\n",
      "val to set 0.6390370934381595\n",
      "2022-10-05 14:00:56.313360 {'success_flag': False, 'value_to_set': 0.6390370934381595, 'set_pt_response': None, 'get_pt_response': 0.6327053544346082}\n",
      "2022-10-05 14:00:57.327154 0.6327053544346082\n",
      "=======================\n",
      "val to set 0.8786389853478055\n",
      "2022-10-05 14:01:02.337768 {'success_flag': False, 'value_to_set': 0.8786389853478055, 'set_pt_response': None, 'get_pt_response': 0.6390370934381595}\n",
      "2022-10-05 14:01:03.551777 0.8786389853478055\n",
      "=======================\n",
      "val to set 0.08719201882401029\n",
      "2022-10-05 14:01:08.759155 {'success_flag': True, 'value_to_set': 0.08719201882401029, 'set_pt_response': None, 'get_pt_response': 0.08719201882401029}\n",
      "2022-10-05 14:01:09.766696 0.08719201882401029\n",
      "=======================\n",
      "val to set 0.7427126104981918\n",
      "2022-10-05 14:01:14.979916 {'success_flag': True, 'value_to_set': 0.7427126104981918, 'set_pt_response': None, 'get_pt_response': 0.7427126104981918}\n",
      "2022-10-05 14:01:16.000577 0.7427126104981918\n",
      "=======================\n",
      "val to set 0.44165022069753235\n",
      "2022-10-05 14:01:21.016656 {'success_flag': False, 'value_to_set': 0.44165022069753235, 'set_pt_response': None, 'get_pt_response': 0.7427126104981918}\n",
      "2022-10-05 14:01:22.024439 0.7427126104981918\n",
      "=======================\n",
      "val to set 0.7699125741703037\n",
      "2022-10-05 14:01:27.048061 {'success_flag': False, 'value_to_set': 0.7699125741703037, 'set_pt_response': None, 'get_pt_response': 0.44165022069753235}\n",
      "2022-10-05 14:01:28.270905 0.7699125741703037\n",
      "=======================\n",
      "val to set 0.2254127827996627\n",
      "2022-10-05 14:01:33.484205 {'success_flag': True, 'value_to_set': 0.2254127827996627, 'set_pt_response': None, 'get_pt_response': 0.2254127827996627}\n",
      "2022-10-05 14:01:34.490476 0.2254127827996627\n",
      "=======================\n",
      "val to set 0.5441636800439403\n",
      "2022-10-05 14:01:39.699725 {'success_flag': True, 'value_to_set': 0.5441636800439403, 'set_pt_response': None, 'get_pt_response': 0.5441636800439403}\n",
      "2022-10-05 14:01:40.702799 0.5441636800439403\n",
      "=======================\n",
      "val to set 0.7712831466863885\n",
      "2022-10-05 14:01:45.718346 {'success_flag': False, 'value_to_set': 0.7712831466863885, 'set_pt_response': None, 'get_pt_response': 0.5441636800439403}\n",
      "2022-10-05 14:01:46.732974 0.5441636800439403\n",
      "=======================\n",
      "val to set 0.7221776246937678\n",
      "2022-10-05 14:01:51.738769 {'success_flag': False, 'value_to_set': 0.7221776246937678, 'set_pt_response': None, 'get_pt_response': 0.7712831466863885}\n",
      "2022-10-05 14:01:52.952982 0.7221776246937678\n",
      "=======================\n",
      "val to set 0.3609071904434332\n",
      "2022-10-05 14:01:58.177784 {'success_flag': True, 'value_to_set': 0.3609071904434332, 'set_pt_response': None, 'get_pt_response': 0.3609071904434332}\n",
      "2022-10-05 14:01:59.181997 0.3609071904434332\n",
      "=======================\n",
      "val to set 0.02504454898513231\n",
      "2022-10-05 14:02:04.388474 {'success_flag': True, 'value_to_set': 0.02504454898513231, 'set_pt_response': None, 'get_pt_response': 0.02504454898513231}\n",
      "2022-10-05 14:02:05.394830 0.02504454898513231\n",
      "=======================\n",
      "val to set 0.046640418037109055\n",
      "2022-10-05 14:02:10.426169 {'success_flag': False, 'value_to_set': 0.046640418037109055, 'set_pt_response': None, 'get_pt_response': 0.02504454898513231}\n",
      "2022-10-05 14:02:11.434104 0.02504454898513231\n",
      "=======================\n",
      "val to set 0.7544798608160038\n",
      "2022-10-05 14:02:16.447767 {'success_flag': False, 'value_to_set': 0.7544798608160038, 'set_pt_response': None, 'get_pt_response': 0.046640418037109055}\n",
      "2022-10-05 14:02:17.655763 0.7544798608160038\n",
      "=======================\n",
      "val to set 0.6361929165426737\n",
      "2022-10-05 14:02:22.865233 {'success_flag': True, 'value_to_set': 0.6361929165426737, 'set_pt_response': None, 'get_pt_response': 0.6361929165426737}\n",
      "2022-10-05 14:02:23.874811 0.6361929165426737\n",
      "=======================\n",
      "val to set 0.4957088277206525\n",
      "2022-10-05 14:02:29.085288 {'success_flag': True, 'value_to_set': 0.4957088277206525, 'set_pt_response': None, 'get_pt_response': 0.4957088277206525}\n",
      "2022-10-05 14:02:30.089458 0.4957088277206525\n",
      "=======================\n",
      "val to set 0.7447534515223985\n",
      "2022-10-05 14:02:35.303428 {'success_flag': True, 'value_to_set': 0.7447534515223985, 'set_pt_response': None, 'get_pt_response': 0.7447534515223985}\n",
      "2022-10-05 14:02:36.308380 0.7447534515223985\n",
      "=======================\n",
      "val to set 0.5566948163367407\n",
      "2022-10-05 14:02:41.316148 {'success_flag': False, 'value_to_set': 0.5566948163367407, 'set_pt_response': None, 'get_pt_response': 0.7447534515223985}\n",
      "2022-10-05 14:02:42.325376 0.7447534515223985\n",
      "=======================\n",
      "val to set 0.7262916366839196\n",
      "2022-10-05 14:02:47.338689 {'success_flag': False, 'value_to_set': 0.7262916366839196, 'set_pt_response': None, 'get_pt_response': 0.5566948163367407}\n",
      "2022-10-05 14:02:48.572630 0.7262916366839196\n",
      "=======================\n",
      "val to set 0.43297540369666954\n",
      "2022-10-05 14:02:53.785745 {'success_flag': True, 'value_to_set': 0.43297540369666954, 'set_pt_response': None, 'get_pt_response': 0.43297540369666954}\n",
      "2022-10-05 14:02:54.795199 0.43297540369666954\n",
      "=======================\n",
      "val to set 0.38979976181689535\n",
      "2022-10-05 14:03:00.003105 {'success_flag': True, 'value_to_set': 0.38979976181689535, 'set_pt_response': None, 'get_pt_response': 0.38979976181689535}\n",
      "2022-10-05 14:03:01.016024 0.38979976181689535\n",
      "=======================\n",
      "val to set 0.9320677832928113\n",
      "2022-10-05 14:03:06.022599 {'success_flag': False, 'value_to_set': 0.9320677832928113, 'set_pt_response': None, 'get_pt_response': 0.38979976181689535}\n",
      "2022-10-05 14:03:07.028278 0.38979976181689535\n",
      "=======================\n",
      "val to set 0.6805909910517686\n",
      "2022-10-05 14:03:12.046228 {'success_flag': False, 'value_to_set': 0.6805909910517686, 'set_pt_response': None, 'get_pt_response': 0.9320677832928113}\n",
      "2022-10-05 14:03:13.262670 0.6805909910517686\n",
      "=======================\n",
      "val to set 0.633304243829528\n",
      "2022-10-05 14:03:18.475492 {'success_flag': True, 'value_to_set': 0.633304243829528, 'set_pt_response': None, 'get_pt_response': 0.633304243829528}\n",
      "2022-10-05 14:03:19.481388 0.633304243829528\n",
      "=======================\n",
      "val to set 0.6776830069169348\n",
      "2022-10-05 14:03:24.687991 {'success_flag': True, 'value_to_set': 0.6776830069169348, 'set_pt_response': None, 'get_pt_response': 0.6776830069169348}\n",
      "2022-10-05 14:03:25.694038 0.6776830069169348\n",
      "=======================\n",
      "val to set 0.8734885090088232\n",
      "2022-10-05 14:03:30.700180 {'success_flag': False, 'value_to_set': 0.8734885090088232, 'set_pt_response': None, 'get_pt_response': 0.6776830069169348}\n",
      "2022-10-05 14:03:31.707248 0.6776830069169348\n",
      "=======================\n",
      "val to set 0.9996902568454274\n",
      "2022-10-05 14:03:36.713746 {'success_flag': False, 'value_to_set': 0.9996902568454274, 'set_pt_response': None, 'get_pt_response': 0.8734885090088232}\n",
      "2022-10-05 14:03:37.922437 0.9996902568454274\n",
      "=======================\n",
      "val to set 0.16766152524566447\n",
      "2022-10-05 14:03:43.137003 {'success_flag': True, 'value_to_set': 0.16766152524566447, 'set_pt_response': None, 'get_pt_response': 0.16766152524566447}\n",
      "2022-10-05 14:03:44.141734 0.16766152524566447\n"
     ]
    },
    {
     "name": "stderr",
     "output_type": "stream",
     "text": [
      "KeyboardInterrupt\n",
      "2022-10-05T18:03:45Z\n"
     ]
    },
    {
     "ename": "KeyboardInterrupt",
     "evalue": "",
     "output_type": "error",
     "traceback": [
      "\u001b[0;31m---------------------------------------------------------------------------\u001b[0m",
      "\u001b[0;31mKeyboardInterrupt\u001b[0m                         Traceback (most recent call last)",
      "Cell \u001b[0;32mIn [61], line 5\u001b[0m\n\u001b[1;32m      3\u001b[0m \u001b[38;5;28;01mimport\u001b[39;00m \u001b[38;5;21;01mrandom\u001b[39;00m\n\u001b[1;32m      4\u001b[0m \u001b[38;5;28;01mwhile\u001b[39;00m \u001b[38;5;28;01mTrue\u001b[39;00m:\n\u001b[0;32m----> 5\u001b[0m     sleep(\u001b[38;5;241m5\u001b[39m)\n\u001b[1;32m      6\u001b[0m     \u001b[38;5;28mprint\u001b[39m(\u001b[38;5;124m\"\u001b[39m\u001b[38;5;124m=======================\u001b[39m\u001b[38;5;124m\"\u001b[39m)\n\u001b[1;32m      7\u001b[0m     val_to_set \u001b[38;5;241m=\u001b[39m random\u001b[38;5;241m.\u001b[39mrandom()\n",
      "File \u001b[0;32m~/project/volttron/env/lib/python3.8/site-packages/gevent/hub.py:166\u001b[0m, in \u001b[0;36msleep\u001b[0;34m(seconds, ref)\u001b[0m\n\u001b[1;32m    161\u001b[0m \u001b[38;5;28;01mwith\u001b[39;00m loop\u001b[38;5;241m.\u001b[39mtimer(seconds, ref\u001b[38;5;241m=\u001b[39mref) \u001b[38;5;28;01mas\u001b[39;00m t:\n\u001b[1;32m    162\u001b[0m     \u001b[38;5;66;03m# Sleeping is expected to be an \"absolute\" measure with\u001b[39;00m\n\u001b[1;32m    163\u001b[0m     \u001b[38;5;66;03m# respect to time.time(), not a relative measure, so it's\u001b[39;00m\n\u001b[1;32m    164\u001b[0m     \u001b[38;5;66;03m# important to update the loop's notion of now before we start\u001b[39;00m\n\u001b[1;32m    165\u001b[0m     loop\u001b[38;5;241m.\u001b[39mupdate_now()\n\u001b[0;32m--> 166\u001b[0m     \u001b[43mhub\u001b[49m\u001b[38;5;241;43m.\u001b[39;49m\u001b[43mwait\u001b[49m\u001b[43m(\u001b[49m\u001b[43mt\u001b[49m\u001b[43m)\u001b[49m\n",
      "File \u001b[0;32msrc/gevent/_hub_primitives.py:46\u001b[0m, in \u001b[0;36mgevent._gevent_c_hub_primitives.WaitOperationsGreenlet.wait\u001b[0;34m()\u001b[0m\n",
      "File \u001b[0;32msrc/gevent/_hub_primitives.py:55\u001b[0m, in \u001b[0;36mgevent._gevent_c_hub_primitives.WaitOperationsGreenlet.wait\u001b[0;34m()\u001b[0m\n",
      "File \u001b[0;32msrc/gevent/_waiter.py:154\u001b[0m, in \u001b[0;36mgevent._gevent_c_waiter.Waiter.get\u001b[0;34m()\u001b[0m\n",
      "File \u001b[0;32msrc/gevent/_greenlet_primitives.py:61\u001b[0m, in \u001b[0;36mgevent._gevent_c_greenlet_primitives.SwitchOutGreenletWithLoop.switch\u001b[0;34m()\u001b[0m\n",
      "File \u001b[0;32msrc/gevent/_greenlet_primitives.py:61\u001b[0m, in \u001b[0;36mgevent._gevent_c_greenlet_primitives.SwitchOutGreenletWithLoop.switch\u001b[0;34m()\u001b[0m\n",
      "File \u001b[0;32msrc/gevent/_greenlet_primitives.py:65\u001b[0m, in \u001b[0;36mgevent._gevent_c_greenlet_primitives.SwitchOutGreenletWithLoop.switch\u001b[0;34m()\u001b[0m\n",
      "File \u001b[0;32msrc/gevent/_gevent_c_greenlet_primitives.pxd:35\u001b[0m, in \u001b[0;36mgevent._gevent_c_greenlet_primitives._greenlet_switch\u001b[0;34m()\u001b[0m\n",
      "\u001b[0;31mKeyboardInterrupt\u001b[0m: "
     ]
    }
   ],
   "source": [
    "# from time import sleep\n",
    "# import datetime\n",
    "import random\n",
    "while True:\n",
    "    sleep(5)\n",
    "    print(\"=======================\")\n",
    "    val_to_set = random.random()\n",
    "    print(f\"val to set {val_to_set}\")\n",
    "    rs = a.vip.rpc.call(\"platform.driver\", \"set_point\",\n",
    "              \"campus-vm/building-vm/Dnp3\", \n",
    "               \"AnalogOutput_index0\", val_to_set).get()\n",
    "    print(datetime.datetime.now(), rs)\n",
    "    \n",
    "    sleep(1)\n",
    "    \n",
    "    # verify\n",
    "    rs = a.vip.rpc.call(\"platform.driver\", \"get_point\",\n",
    "              \"campus-vm/building-vm/Dnp3\", \n",
    "               \"AnalogOutput_index0\").get()\n",
    "    print(datetime.datetime.now(), rs)"
   ]
  },
  {
   "cell_type": "code",
   "execution_count": null,
   "id": "821d6c0c",
   "metadata": {},
   "outputs": [],
   "source": []
  }
 ],
 "metadata": {
  "kernelspec": {
   "display_name": "Python 3 (ipykernel)",
   "language": "python",
   "name": "python3"
  },
  "language_info": {
   "codemirror_mode": {
    "name": "ipython",
    "version": 3
   },
   "file_extension": ".py",
   "mimetype": "text/x-python",
   "name": "python",
   "nbconvert_exporter": "python",
   "pygments_lexer": "ipython3",
   "version": "3.8.10"
  }
 },
 "nbformat": 4,
 "nbformat_minor": 5
}
