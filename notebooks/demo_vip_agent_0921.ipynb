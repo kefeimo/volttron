{
 "cells": [
  {
   "cell_type": "markdown",
   "id": "ac1e590f",
   "metadata": {},
   "source": [
    "### important commands\n",
    "./start-volttron\n",
    "vctl status\n",
    "vctl start --tag listener platform_historian platform_driver\n",
    "vctl status\n",
    "tail -f volttron.log\n",
    "vctl stop --tag listener platform_historian platform_driver\n",
    "\n",
    "vctl start --tag listener platform_driver\n",
    "vctl stop --tag listener platform_driver\n",
    "\n",
    "\n",
    "vctl config list\n",
    "vctl config list platform.driver\n",
    "vctl config delete platform.driver --all\n",
    "\n",
    "vctl config store platform.driver devices/campus-vm/building-vm/Dnp3 /home/kefei/sandbox/volttron/examples/configurations/drivers/udd-Dnp3.config --json\n",
    "vctl config store platform.driver udd-Dnp3.csv /home/kefei/sandbox/volttron/examples/configurations/drivers/udd-Dnp3.csv --csv\n",
    "\n",
    "vctl config get platform.driver udd-Dnp3.csv"
   ]
  },
  {
   "cell_type": "code",
   "execution_count": 1,
   "id": "718f8fb6",
   "metadata": {},
   "outputs": [],
   "source": [
    "from volttron.platform.vip.agent.utils import build_agent"
   ]
  },
  {
   "cell_type": "code",
   "execution_count": 2,
   "id": "67f84b66",
   "metadata": {},
   "outputs": [
    {
     "name": "stderr",
     "output_type": "stream",
     "text": [
      "2022-09-30 20:12:05,183 root DEBUG: Creating ZMQ Core None\n",
      "2022-09-30 20:12:05,184 volttron.platform.vip.agent.core DEBUG: address: ipc://@/home/kefei/.volttron/run/vip.socket\n",
      "2022-09-30 20:12:05,185 volttron.platform.vip.agent.core DEBUG: identity: 17e3327f-d0b2-4456-b535-27ccc91c3b72\n",
      "2022-09-30 20:12:05,185 volttron.platform.vip.agent.core DEBUG: agent_uuid: None\n",
      "2022-09-30 20:12:05,185 volttron.platform.vip.agent.core DEBUG: serverkey: None\n",
      "2022-09-30 20:12:05,186 volttron.platform.vip.agent.core DEBUG: AGENT RUNNING on ZMQ Core 17e3327f-d0b2-4456-b535-27ccc91c3b72\n",
      "2022-09-30 20:12:05,187 volttron.platform.vip.zmq_connection DEBUG: ZMQ connection 17e3327f-d0b2-4456-b535-27ccc91c3b72\n",
      "2022-09-30 20:12:05,188 volttron.platform.vip.zmq_connection DEBUG: connecting to url ipc://@/home/kefei/.volttron/run/vip.socket?publickey=RSEE4FXYHJemqqRHehqxSt2Dpx-lu6Q7Y7lFj8RghDI&secretkey=9P1W5BymKqCiQ7aNh_KVhepkDUlv6pA4zwFfHFc_BC8&serverkey=RSEE4FXYHJemqqRHehqxSt2Dpx-lu6Q7Y7lFj8RghDI\n",
      "2022-09-30 20:12:05,189 volttron.platform.vip.zmq_connection DEBUG: url type is <class 'str'>\n",
      "2022-09-30 20:12:05,202 volttron.platform.vip.agent.core INFO: Connected to platform: router: 773af51b-8cc7-408c-b11b-32666f34cbc6 version: 1.0 identity: 17e3327f-d0b2-4456-b535-27ccc91c3b72\n",
      "2022-09-30 20:12:05,202 volttron.platform.vip.agent.core DEBUG: Running onstart methods.\n"
     ]
    }
   ],
   "source": [
    "a = build_agent()"
   ]
  },
  {
   "cell_type": "code",
   "execution_count": 3,
   "id": "2bc06ad7",
   "metadata": {
    "scrolled": true
   },
   "outputs": [
    {
     "name": "stdout",
     "output_type": "stream",
     "text": [
      "UUID AGENT                    IDENTITY            TAG             STATUS          HEALTH\r\n",
      "6 listeneragent-3.3        listeneragent-3.3_1 listener        running [27862] GOOD\r\n",
      "9 platform_driveragent-4.0 platform.driver     platform_driver running [27863] GOOD\r\n"
     ]
    }
   ],
   "source": [
    "! vctl status"
   ]
  },
  {
   "cell_type": "code",
   "execution_count": 4,
   "id": "1acb1fd9",
   "metadata": {},
   "outputs": [
    {
     "name": "stdout",
     "output_type": "stream",
     "text": [
      "devices/campus-vm/building-vm/Dnp3\r\n",
      "udd-Dnp3.csv\r\n"
     ]
    },
    {
     "name": "stderr",
     "output_type": "stream",
     "text": [
      "2022-09-30 20:12:06,333 volttron.platform.vip.agent.subsystems.auth WARNING: Auth entry not found for 17e3327f-d0b2-4456-b535-27ccc91c3b72: rpc_method_authorizations not updated. If this agent does have an auth entry, verify that the 'identity' field has been included in the auth entry. This should be set to the identity of the agent\n"
     ]
    }
   ],
   "source": [
    "! vctl config list platform.driver"
   ]
  },
  {
   "cell_type": "code",
   "execution_count": 5,
   "id": "1aba49a5",
   "metadata": {},
   "outputs": [
    {
     "name": "stdout",
     "output_type": "stream",
     "text": [
      "[\r\n",
      "  {\r\n",
      "    \"Point Name\": \"AnalogInput_index0\",\r\n",
      "    \"Volttron Point Name\": \"AnalogInput_index0\",\r\n",
      "    \"Group\": \"30\",\r\n",
      "    \"Variation\": \"6\",\r\n",
      "    \"Index\": \"0\",\r\n",
      "    \"Scaling\": \"1\",\r\n",
      "    \"Units\": \"NA\",\r\n",
      "    \"Writable\": \"FALSE\",\r\n",
      "    \"Notes\": \"Double Analogue input without status\"\r\n",
      "  },\r\n",
      "  {\r\n",
      "    \"Point Name\": \"AnalogInput_index1\",\r\n",
      "    \"Volttron Point Name\": \"AnalogInput_index1\",\r\n",
      "    \"Group\": \"30\",\r\n",
      "    \"Variation\": \"6\",\r\n",
      "    \"Index\": \"1\",\r\n",
      "    \"Scaling\": \"1\",\r\n",
      "    \"Units\": \"NA\",\r\n",
      "    \"Writable\": \"FALSE\",\r\n",
      "    \"Notes\": \"Double Analogue input without status\"\r\n",
      "  },\r\n",
      "  {\r\n",
      "    \"Point Name\": \"AnalogInput_index2\",\r\n",
      "    \"Volttron Point Name\": \"AnalogInput_index2\",\r\n",
      "    \"Group\": \"30\",\r\n",
      "    \"Variation\": \"6\",\r\n",
      "    \"Index\": \"2\",\r\n",
      "    \"Scaling\": \"1\",\r\n",
      "    \"Units\": \"NA\",\r\n",
      "    \"Writable\": \"FALSE\",\r\n",
      "    \"Notes\": \"Double Analogue input without status\"\r\n",
      "  },\r\n",
      "  {\r\n",
      "    \"Point Name\": \"AnalogInput_index3\",\r\n",
      "    \"Volttron Point Name\": \"AnalogInput_index3\",\r\n",
      "    \"Group\": \"30\",\r\n",
      "    \"Variation\": \"6\",\r\n",
      "    \"Index\": \"3\",\r\n",
      "    \"Scaling\": \"1\",\r\n",
      "    \"Units\": \"NA\",\r\n",
      "    \"Writable\": \"FALSE\",\r\n",
      "    \"Notes\": \"Double Analogue input without status\"\r\n",
      "  },\r\n",
      "  {\r\n",
      "    \"Point Name\": \"BinaryInput_index0\",\r\n",
      "    \"Volttron Point Name\": \"BinaryInput_index0\",\r\n",
      "    \"Group\": \"1\",\r\n",
      "    \"Variation\": \"2\",\r\n",
      "    \"Index\": \"0\",\r\n",
      "    \"Scaling\": \"1\",\r\n",
      "    \"Units\": \"NA\",\r\n",
      "    \"Writable\": \"FALSE\",\r\n",
      "    \"Notes\": \"Single bit binary input with status\"\r\n",
      "  },\r\n",
      "  {\r\n",
      "    \"Point Name\": \"BinaryInput_index1\",\r\n",
      "    \"Volttron Point Name\": \"BinaryInput_index1\",\r\n",
      "    \"Group\": \"1\",\r\n",
      "    \"Variation\": \"2\",\r\n",
      "    \"Index\": \"1\",\r\n",
      "    \"Scaling\": \"1\",\r\n",
      "    \"Units\": \"NA\",\r\n",
      "    \"Writable\": \"FALSE\",\r\n",
      "    \"Notes\": \"Single bit binary input with status\"\r\n",
      "  },\r\n",
      "  {\r\n",
      "    \"Point Name\": \"BinaryInput_index2\",\r\n",
      "    \"Volttron Point Name\": \"BinaryInput_index2\",\r\n",
      "    \"Group\": \"1\",\r\n",
      "    \"Variation\": \"2\",\r\n",
      "    \"Index\": \"2\",\r\n",
      "    \"Scaling\": \"1\",\r\n",
      "    \"Units\": \"NA\",\r\n",
      "    \"Writable\": \"FALSE\",\r\n",
      "    \"Notes\": \"Single bit binary input with status\"\r\n",
      "  },\r\n",
      "  {\r\n",
      "    \"Point Name\": \"BinaryInput_index3\",\r\n",
      "    \"Volttron Point Name\": \"BinaryInput_index3\",\r\n",
      "    \"Group\": \"1\",\r\n",
      "    \"Variation\": \"2\",\r\n",
      "    \"Index\": \"3\",\r\n",
      "    \"Scaling\": \"1\",\r\n",
      "    \"Units\": \"NA\",\r\n",
      "    \"Writable\": \"FALSE\",\r\n",
      "    \"Notes\": \"Single bit binary input with status\"\r\n",
      "  },\r\n",
      "  {\r\n",
      "    \"Point Name\": \"AnalogOutput_index0\",\r\n",
      "    \"Volttron Point Name\": \"AnalogOutput_index0\",\r\n",
      "    \"Group\": \"40\",\r\n",
      "    \"Variation\": \"4\",\r\n",
      "    \"Index\": \"0\",\r\n",
      "    \"Scaling\": \"1\",\r\n",
      "    \"Units\": \"NA\",\r\n",
      "    \"Writable\": \"TRUE\",\r\n",
      "    \"Notes\": \"Double-precision floating point with flags\"\r\n",
      "  },\r\n",
      "  {\r\n",
      "    \"Point Name\": \"AnalogOutput_index1\",\r\n",
      "    \"Volttron Point Name\": \"AnalogOutput_index1\",\r\n",
      "    \"Group\": \"40\",\r\n",
      "    \"Variation\": \"4\",\r\n",
      "    \"Index\": \"1\",\r\n",
      "    \"Scaling\": \"1\",\r\n",
      "    \"Units\": \"NA\",\r\n",
      "    \"Writable\": \"TRUE\",\r\n",
      "    \"Notes\": \"Double-precision floating point with flags\"\r\n",
      "  },\r\n",
      "  {\r\n",
      "    \"Point Name\": \"AnalogOutput_index2\",\r\n",
      "    \"Volttron Point Name\": \"AnalogOutput_index2\",\r\n",
      "    \"Group\": \"40\",\r\n",
      "    \"Variation\": \"4\",\r\n",
      "    \"Index\": \"2\",\r\n",
      "    \"Scaling\": \"1\",\r\n",
      "    \"Units\": \"NA\",\r\n",
      "    \"Writable\": \"TRUE\",\r\n",
      "    \"Notes\": \"Double-precision floating point with flags\"\r\n",
      "  },\r\n",
      "  {\r\n",
      "    \"Point Name\": \"AnalogOutput_index3\",\r\n",
      "    \"Volttron Point Name\": \"AnalogOutput_index3\",\r\n",
      "    \"Group\": \"40\",\r\n",
      "    \"Variation\": \"4\",\r\n",
      "    \"Index\": \"3\",\r\n",
      "    \"Scaling\": \"1\",\r\n",
      "    \"Units\": \"NA\",\r\n",
      "    \"Writable\": \"TRUE\",\r\n",
      "    \"Notes\": \"Double-precision floating point with flags\"\r\n",
      "  },\r\n",
      "  {\r\n",
      "    \"Point Name\": \"BinaryOutput_index0\",\r\n",
      "    \"Volttron Point Name\": \"BinaryOutput_index0\",\r\n",
      "    \"Group\": \"10\",\r\n",
      "    \"Variation\": \"2\",\r\n",
      "    \"Index\": \"0\",\r\n",
      "    \"Scaling\": \"1\",\r\n",
      "    \"Units\": \"NA\",\r\n",
      "    \"Writable\": \"TRUE\",\r\n",
      "    \"Notes\": \"Binary\\u00a0Output with flags\"\r\n",
      "  },\r\n",
      "  {\r\n",
      "    \"Point Name\": \"BinaryOutput_index1\",\r\n",
      "    \"Volttron Point Name\": \"BinaryOutput_index1\",\r\n",
      "    \"Group\": \"10\",\r\n",
      "    \"Variation\": \"2\",\r\n",
      "    \"Index\": \"1\",\r\n",
      "    \"Scaling\": \"1\",\r\n",
      "    \"Units\": \"NA\",\r\n",
      "    \"Writable\": \"TRUE\",\r\n",
      "    \"Notes\": \"Binary\\u00a0Output with flags\"\r\n",
      "  },\r\n",
      "  {\r\n",
      "    \"Point Name\": \"BinaryOutput_index2\",\r\n",
      "    \"Volttron Point Name\": \"BinaryOutput_index2\",\r\n",
      "    \"Group\": \"10\",\r\n",
      "    \"Variation\": \"2\",\r\n",
      "    \"Index\": \"2\",\r\n",
      "    \"Scaling\": \"1\",\r\n",
      "    \"Units\": \"NA\",\r\n",
      "    \"Writable\": \"TRUE\",\r\n",
      "    \"Notes\": \"Binary\\u00a0Output with flags\"\r\n",
      "  },\r\n",
      "  {\r\n",
      "    \"Point Name\": \"BinaryOutput_index3\",\r\n",
      "    \"Volttron Point Name\": \"BinaryOutput_index3\",\r\n",
      "    \"Group\": \"10\",\r\n",
      "    \"Variation\": \"2\",\r\n",
      "    \"Index\": \"3\",\r\n",
      "    \"Scaling\": \"1\",\r\n",
      "    \"Units\": \"NA\",\r\n",
      "    \"Writable\": \"TRUE\",\r\n",
      "    \"Notes\": \"Binary\\u00a0Output with flags\"\r\n",
      "  }\r\n",
      "]\r\n"
     ]
    }
   ],
   "source": [
    "! vctl config get platform.driver udd-Dnp3.csv"
   ]
  },
  {
   "cell_type": "code",
   "execution_count": 6,
   "id": "701aa33c",
   "metadata": {},
   "outputs": [
    {
     "name": "stdout",
     "output_type": "stream",
     "text": [
      "{\r\n",
      "  \"driver_config\": {\r\n",
      "    \"master_ip\": \"0.0.0.0\",\r\n",
      "    \"outstation_ip\": \"127.0.0.1\",\r\n",
      "    \"master_id\": 2,\r\n",
      "    \"outstation_id\": 1,\r\n",
      "    \"port\": 20000\r\n",
      "  },\r\n",
      "  \"registry_config\": \"config://udd-Dnp3.csv\",\r\n",
      "  \"driver_type\": \"udd_dnp3\",\r\n",
      "  \"interval\": 5,\r\n",
      "  \"timezone\": \"UTC\",\r\n",
      "  \"campus\": \"campus-vm\",\r\n",
      "  \"building\": \"building-vm\",\r\n",
      "  \"unit\": \"Dnp3\",\r\n",
      "  \"publish_depth_first_all\": true,\r\n",
      "  \"heart_beat_point\": \"random_bool\"\r\n",
      "}\r\n"
     ]
    }
   ],
   "source": [
    "! vctl config get platform.driver devices/campus-vm/building-vm/Dnp3"
   ]
  },
  {
   "cell_type": "code",
   "execution_count": 7,
   "id": "563c2926",
   "metadata": {},
   "outputs": [],
   "source": [
    "# campus-vm/building-vm/Dnp3"
   ]
  },
  {
   "cell_type": "code",
   "execution_count": 8,
   "id": "bc3a3e9e",
   "metadata": {},
   "outputs": [
    {
     "data": {
      "text/plain": [
       "'testing_value'"
      ]
     },
     "execution_count": 8,
     "metadata": {},
     "output_type": "execute_result"
    }
   ],
   "source": [
    "a.vip.rpc.call(\"platform.driver\", \"get_point\",\n",
    "              \"campus-vm/building-vm/Dnp3\", \n",
    "               \"AnalogInput_index0\").get()"
   ]
  },
  {
   "cell_type": "code",
   "execution_count": 18,
   "id": "96ce1487",
   "metadata": {
    "scrolled": true
   },
   "outputs": [
    {
     "name": "stdout",
     "output_type": "stream",
     "text": [
      "2022-09-30 21:06:44.688182 None\n",
      "2022-09-30 21:06:49.894308 0.0\n",
      "2022-09-30 21:06:55.102170 2.8\n",
      "2022-09-30 21:07:00.105505 2.8\n",
      "2022-09-30 21:07:05.110146 2.8\n",
      "2022-09-30 21:07:10.117270 7.8\n",
      "2022-09-30 21:07:15.120781 7.8\n",
      "2022-09-30 21:07:20.126422 7.8\n"
     ]
    },
    {
     "name": "stderr",
     "output_type": "stream",
     "text": [
      "KeyboardInterrupt\n",
      "2022-09-30T21:07:20Z\n"
     ]
    },
    {
     "ename": "KeyboardInterrupt",
     "evalue": "",
     "output_type": "error",
     "traceback": [
      "\u001b[0;31m---------------------------------------------------------------------------\u001b[0m",
      "\u001b[0;31mKeyboardInterrupt\u001b[0m                         Traceback (most recent call last)",
      "Input \u001b[0;32mIn [18]\u001b[0m, in \u001b[0;36m<cell line: 4>\u001b[0;34m()\u001b[0m\n\u001b[1;32m      2\u001b[0m \u001b[38;5;28;01mimport\u001b[39;00m \u001b[38;5;21;01mdatetime\u001b[39;00m\n\u001b[1;32m      3\u001b[0m \u001b[38;5;28;01mwhile\u001b[39;00m \u001b[38;5;28;01mTrue\u001b[39;00m:\n\u001b[0;32m----> 4\u001b[0m     \u001b[43msleep\u001b[49m\u001b[43m(\u001b[49m\u001b[38;5;241;43m5\u001b[39;49m\u001b[43m)\u001b[49m\n\u001b[1;32m      5\u001b[0m     rs \u001b[38;5;241m=\u001b[39m a\u001b[38;5;241m.\u001b[39mvip\u001b[38;5;241m.\u001b[39mrpc\u001b[38;5;241m.\u001b[39mcall(\u001b[38;5;124m\"\u001b[39m\u001b[38;5;124mplatform.driver\u001b[39m\u001b[38;5;124m\"\u001b[39m, \u001b[38;5;124m\"\u001b[39m\u001b[38;5;124mget_point\u001b[39m\u001b[38;5;124m\"\u001b[39m,\n\u001b[1;32m      6\u001b[0m               \u001b[38;5;124m\"\u001b[39m\u001b[38;5;124mcampus-vm/building-vm/Dnp3\u001b[39m\u001b[38;5;124m\"\u001b[39m, \n\u001b[1;32m      7\u001b[0m                \u001b[38;5;124m\"\u001b[39m\u001b[38;5;124mAnalogInput_index0\u001b[39m\u001b[38;5;124m\"\u001b[39m)\u001b[38;5;241m.\u001b[39mget()\n\u001b[1;32m      8\u001b[0m     \u001b[38;5;28mprint\u001b[39m(datetime\u001b[38;5;241m.\u001b[39mdatetime\u001b[38;5;241m.\u001b[39mnow(), rs)\n",
      "File \u001b[0;32m~/volttron/env/lib/python3.8/site-packages/gevent/hub.py:163\u001b[0m, in \u001b[0;36msleep\u001b[0;34m(seconds, ref)\u001b[0m\n\u001b[1;32m    158\u001b[0m \u001b[38;5;28;01mwith\u001b[39;00m loop\u001b[38;5;241m.\u001b[39mtimer(seconds, ref\u001b[38;5;241m=\u001b[39mref) \u001b[38;5;28;01mas\u001b[39;00m t:\n\u001b[1;32m    159\u001b[0m     \u001b[38;5;66;03m# Sleeping is expected to be an \"absolute\" measure with\u001b[39;00m\n\u001b[1;32m    160\u001b[0m     \u001b[38;5;66;03m# respect to time.time(), not a relative measure, so it's\u001b[39;00m\n\u001b[1;32m    161\u001b[0m     \u001b[38;5;66;03m# important to update the loop's notion of now before we start\u001b[39;00m\n\u001b[1;32m    162\u001b[0m     loop\u001b[38;5;241m.\u001b[39mupdate_now()\n\u001b[0;32m--> 163\u001b[0m     \u001b[43mhub\u001b[49m\u001b[38;5;241;43m.\u001b[39;49m\u001b[43mwait\u001b[49m\u001b[43m(\u001b[49m\u001b[43mt\u001b[49m\u001b[43m)\u001b[49m\n",
      "File \u001b[0;32msrc/gevent/_hub_primitives.py:46\u001b[0m, in \u001b[0;36mgevent._gevent_c_hub_primitives.WaitOperationsGreenlet.wait\u001b[0;34m()\u001b[0m\n",
      "File \u001b[0;32msrc/gevent/_hub_primitives.py:55\u001b[0m, in \u001b[0;36mgevent._gevent_c_hub_primitives.WaitOperationsGreenlet.wait\u001b[0;34m()\u001b[0m\n",
      "File \u001b[0;32msrc/gevent/_waiter.py:151\u001b[0m, in \u001b[0;36mgevent._gevent_c_waiter.Waiter.get\u001b[0;34m()\u001b[0m\n",
      "File \u001b[0;32msrc/gevent/_greenlet_primitives.py:61\u001b[0m, in \u001b[0;36mgevent._gevent_c_greenlet_primitives.SwitchOutGreenletWithLoop.switch\u001b[0;34m()\u001b[0m\n",
      "File \u001b[0;32msrc/gevent/_greenlet_primitives.py:61\u001b[0m, in \u001b[0;36mgevent._gevent_c_greenlet_primitives.SwitchOutGreenletWithLoop.switch\u001b[0;34m()\u001b[0m\n",
      "File \u001b[0;32msrc/gevent/_greenlet_primitives.py:65\u001b[0m, in \u001b[0;36mgevent._gevent_c_greenlet_primitives.SwitchOutGreenletWithLoop.switch\u001b[0;34m()\u001b[0m\n",
      "File \u001b[0;32msrc/gevent/_gevent_c_greenlet_primitives.pxd:35\u001b[0m, in \u001b[0;36mgevent._gevent_c_greenlet_primitives._greenlet_switch\u001b[0;34m()\u001b[0m\n",
      "\u001b[0;31mKeyboardInterrupt\u001b[0m: "
     ]
    }
   ],
   "source": [
    "from time import sleep\n",
    "import datetime\n",
    "while True:\n",
    "    sleep(5)\n",
    "    rs = a.vip.rpc.call(\"platform.driver\", \"get_point\",\n",
    "              \"campus-vm/building-vm/Dnp3\", \n",
    "               \"AnalogInput_index0\").get()\n",
    "    print(datetime.datetime.now(), rs)"
   ]
  },
  {
   "cell_type": "code",
   "execution_count": 17,
   "id": "ebb41483",
   "metadata": {
    "scrolled": false
   },
   "outputs": [
    {
     "name": "stdout",
     "output_type": "stream",
     "text": [
      "2022-09-30 20:56:08.116950 {'success_flag': False, 'value_to_set': 0.543, 'set_pt_response': None, 'get_pt_response': None}\n",
      "2022-09-30 20:56:13.124476 {'success_flag': False, 'value_to_set': 0.543, 'set_pt_response': None, 'get_pt_response': None}\n",
      "2022-09-30 20:56:18.129986 {'success_flag': False, 'value_to_set': 0.543, 'set_pt_response': None, 'get_pt_response': None}\n",
      "2022-09-30 20:56:23.138527 {'success_flag': False, 'value_to_set': 0.543, 'set_pt_response': None, 'get_pt_response': None}\n",
      "2022-09-30 20:56:28.150411 {'success_flag': False, 'value_to_set': 0.543, 'set_pt_response': None, 'get_pt_response': None}\n",
      "2022-09-30 20:56:33.155530 {'success_flag': False, 'value_to_set': 0.543, 'set_pt_response': None, 'get_pt_response': None}\n",
      "2022-09-30 20:56:38.159830 {'success_flag': True, 'value_to_set': 0.543, 'set_pt_response': None, 'get_pt_response': 0.543}\n",
      "2022-09-30 20:56:43.365219 {'success_flag': True, 'value_to_set': 0.543, 'set_pt_response': None, 'get_pt_response': 0.543}\n",
      "2022-09-30 20:56:48.772820 {'success_flag': False, 'value_to_set': 0.543, 'set_pt_response': None, 'get_pt_response': None}\n"
     ]
    },
    {
     "name": "stderr",
     "output_type": "stream",
     "text": [
      "KeyboardInterrupt\n",
      "2022-09-30T20:56:50Z\n"
     ]
    },
    {
     "ename": "KeyboardInterrupt",
     "evalue": "",
     "output_type": "error",
     "traceback": [
      "\u001b[0;31m---------------------------------------------------------------------------\u001b[0m",
      "\u001b[0;31mKeyboardInterrupt\u001b[0m                         Traceback (most recent call last)",
      "Input \u001b[0;32mIn [17]\u001b[0m, in \u001b[0;36m<cell line: 4>\u001b[0;34m()\u001b[0m\n\u001b[1;32m      2\u001b[0m \u001b[38;5;28;01mimport\u001b[39;00m \u001b[38;5;21;01mdatetime\u001b[39;00m\n\u001b[1;32m      3\u001b[0m \u001b[38;5;28;01mwhile\u001b[39;00m \u001b[38;5;28;01mTrue\u001b[39;00m:\n\u001b[0;32m----> 4\u001b[0m     \u001b[43msleep\u001b[49m\u001b[43m(\u001b[49m\u001b[38;5;241;43m5\u001b[39;49m\u001b[43m)\u001b[49m\n\u001b[1;32m      5\u001b[0m     rs \u001b[38;5;241m=\u001b[39m a\u001b[38;5;241m.\u001b[39mvip\u001b[38;5;241m.\u001b[39mrpc\u001b[38;5;241m.\u001b[39mcall(\u001b[38;5;124m\"\u001b[39m\u001b[38;5;124mplatform.driver\u001b[39m\u001b[38;5;124m\"\u001b[39m, \u001b[38;5;124m\"\u001b[39m\u001b[38;5;124mset_point\u001b[39m\u001b[38;5;124m\"\u001b[39m,\n\u001b[1;32m      6\u001b[0m               \u001b[38;5;124m\"\u001b[39m\u001b[38;5;124mcampus-vm/building-vm/Dnp3\u001b[39m\u001b[38;5;124m\"\u001b[39m, \n\u001b[1;32m      7\u001b[0m                \u001b[38;5;124m\"\u001b[39m\u001b[38;5;124mAnalogOutput_index0\u001b[39m\u001b[38;5;124m\"\u001b[39m, \u001b[38;5;241m0.543\u001b[39m)\u001b[38;5;241m.\u001b[39mget()\n\u001b[1;32m      8\u001b[0m     \u001b[38;5;28mprint\u001b[39m(datetime\u001b[38;5;241m.\u001b[39mdatetime\u001b[38;5;241m.\u001b[39mnow(), rs)\n",
      "File \u001b[0;32m~/volttron/env/lib/python3.8/site-packages/gevent/hub.py:163\u001b[0m, in \u001b[0;36msleep\u001b[0;34m(seconds, ref)\u001b[0m\n\u001b[1;32m    158\u001b[0m \u001b[38;5;28;01mwith\u001b[39;00m loop\u001b[38;5;241m.\u001b[39mtimer(seconds, ref\u001b[38;5;241m=\u001b[39mref) \u001b[38;5;28;01mas\u001b[39;00m t:\n\u001b[1;32m    159\u001b[0m     \u001b[38;5;66;03m# Sleeping is expected to be an \"absolute\" measure with\u001b[39;00m\n\u001b[1;32m    160\u001b[0m     \u001b[38;5;66;03m# respect to time.time(), not a relative measure, so it's\u001b[39;00m\n\u001b[1;32m    161\u001b[0m     \u001b[38;5;66;03m# important to update the loop's notion of now before we start\u001b[39;00m\n\u001b[1;32m    162\u001b[0m     loop\u001b[38;5;241m.\u001b[39mupdate_now()\n\u001b[0;32m--> 163\u001b[0m     \u001b[43mhub\u001b[49m\u001b[38;5;241;43m.\u001b[39;49m\u001b[43mwait\u001b[49m\u001b[43m(\u001b[49m\u001b[43mt\u001b[49m\u001b[43m)\u001b[49m\n",
      "File \u001b[0;32msrc/gevent/_hub_primitives.py:46\u001b[0m, in \u001b[0;36mgevent._gevent_c_hub_primitives.WaitOperationsGreenlet.wait\u001b[0;34m()\u001b[0m\n",
      "File \u001b[0;32msrc/gevent/_hub_primitives.py:55\u001b[0m, in \u001b[0;36mgevent._gevent_c_hub_primitives.WaitOperationsGreenlet.wait\u001b[0;34m()\u001b[0m\n",
      "File \u001b[0;32msrc/gevent/_waiter.py:151\u001b[0m, in \u001b[0;36mgevent._gevent_c_waiter.Waiter.get\u001b[0;34m()\u001b[0m\n",
      "File \u001b[0;32msrc/gevent/_greenlet_primitives.py:61\u001b[0m, in \u001b[0;36mgevent._gevent_c_greenlet_primitives.SwitchOutGreenletWithLoop.switch\u001b[0;34m()\u001b[0m\n",
      "File \u001b[0;32msrc/gevent/_greenlet_primitives.py:61\u001b[0m, in \u001b[0;36mgevent._gevent_c_greenlet_primitives.SwitchOutGreenletWithLoop.switch\u001b[0;34m()\u001b[0m\n",
      "File \u001b[0;32msrc/gevent/_greenlet_primitives.py:65\u001b[0m, in \u001b[0;36mgevent._gevent_c_greenlet_primitives.SwitchOutGreenletWithLoop.switch\u001b[0;34m()\u001b[0m\n",
      "File \u001b[0;32msrc/gevent/_gevent_c_greenlet_primitives.pxd:35\u001b[0m, in \u001b[0;36mgevent._gevent_c_greenlet_primitives._greenlet_switch\u001b[0;34m()\u001b[0m\n",
      "\u001b[0;31mKeyboardInterrupt\u001b[0m: "
     ]
    }
   ],
   "source": [
    "from time import sleep\n",
    "import datetime\n",
    "while True:\n",
    "    sleep(5)\n",
    "    rs = a.vip.rpc.call(\"platform.driver\", \"set_point\",\n",
    "              \"campus-vm/building-vm/Dnp3\", \n",
    "               \"AnalogOutput_index0\", 0.543).get()\n",
    "    print(datetime.datetime.now(), rs)"
   ]
  },
  {
   "cell_type": "code",
   "execution_count": null,
   "id": "aa306903",
   "metadata": {},
   "outputs": [],
   "source": [
    "from time import sleep\n",
    "import datetime\n",
    "while True:\n",
    "    sleep(5)\n",
    "    rs = a.vip.rpc.call(\"platform.driver\", \"get_point\",\n",
    "              \"campus-vm/building-vm/Dnp3\", \n",
    "               \"AnalogOutput_index0\").get()\n",
    "    print(datetime.datetime.now(), rs)"
   ]
  },
  {
   "cell_type": "code",
   "execution_count": null,
   "id": "2247ed58",
   "metadata": {},
   "outputs": [],
   "source": []
  }
 ],
 "metadata": {
  "kernelspec": {
   "display_name": "Python 3 (ipykernel)",
   "language": "python",
   "name": "python3"
  },
  "language_info": {
   "codemirror_mode": {
    "name": "ipython",
    "version": 3
   },
   "file_extension": ".py",
   "mimetype": "text/x-python",
   "name": "python",
   "nbconvert_exporter": "python",
   "pygments_lexer": "ipython3",
   "version": "3.8.10"
  }
 },
 "nbformat": 4,
 "nbformat_minor": 5
}
