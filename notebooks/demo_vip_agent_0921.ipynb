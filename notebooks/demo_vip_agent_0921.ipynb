{
 "cells": [
  {
   "cell_type": "markdown",
   "id": "ac1e590f",
   "metadata": {},
   "source": [
    "### important commands\n",
    "./start-volttron\n",
    "vctl status\n",
    "vctl start --tag listener platform_historian platform_driver\n",
    "vctl status\n",
    "tail -f volttron.log\n",
    "vctl stop --tag listener platform_historian platform_driver\n",
    "\n",
    "vctl start --tag listener platform_driver\n",
    "vctl stop --tag listener platform_driver\n",
    "\n",
    "\n",
    "vctl config list\n",
    "vctl config list platform.driver\n",
    "vctl config delete platform.driver --all\n",
    "\n",
    "vctl config store platform.driver devices/campus-vm/building-vm/Dnp3 /home/kefei/sandbox/volttron/examples/configurations/drivers/udd-Dnp3.config --json\n",
    "vctl config store platform.driver udd-Dnp3.csv /home/kefei/sandbox/volttron/examples/configurations/drivers/udd-Dnp3.csv --csv\n",
    "\n",
    "vctl config get platform.driver udd-Dnp3.csv"
   ]
  },
  {
   "cell_type": "code",
   "execution_count": 6,
   "id": "718f8fb6",
   "metadata": {},
   "outputs": [],
   "source": [
    "from volttron.platform.vip.agent.utils import build_agent\n",
    "from volttron.platform.agent.known_identities import PLATFORM_DRIVER"
   ]
  },
  {
   "cell_type": "code",
   "execution_count": 3,
   "id": "67f84b66",
   "metadata": {},
   "outputs": [
    {
     "name": "stderr",
     "output_type": "stream",
     "text": [
      "2022-10-22 22:55:35,489 root DEBUG: Creating ZMQ Core None\n",
      "2022-10-22 22:55:35,492 volttron.platform.vip.agent.core DEBUG: address: ipc://@/home/kefei/.volttron/run/vip.socket\n",
      "2022-10-22 22:55:35,495 volttron.platform.vip.agent.core DEBUG: identity: 4f889f56-d4c3-4e21-9541-f1420dc6baf3\n",
      "2022-10-22 22:55:35,497 volttron.platform.vip.agent.core DEBUG: agent_uuid: None\n",
      "2022-10-22 22:55:35,500 volttron.platform.vip.agent.core DEBUG: serverkey: None\n",
      "2022-10-22 22:55:35,502 volttron.platform.vip.agent.core DEBUG: AGENT RUNNING on ZMQ Core 4f889f56-d4c3-4e21-9541-f1420dc6baf3\n",
      "2022-10-22 22:55:35,505 volttron.platform.vip.agent.core INFO: CORE address:ipc://@/home/kefei/.volttron/run/vip.socket?publickey=AtHKs50YJxE3okzMqKtfpYGhQHUBRrjZHJdUJNMEJG8&secretkey=6uA1gKcZEFsWyqT6hXKcKrjjFFvU9mRyVgcPF2ckSzY&serverkey=AtHKs50YJxE3okzMqKtfpYGhQHUBRrjZHJdUJNMEJG8\n",
      "2022-10-22 22:55:35,508 volttron.platform.vip.zmq_connection DEBUG: ZMQ connection 4f889f56-d4c3-4e21-9541-f1420dc6baf3\n",
      "2022-10-22 22:55:35,515 volttron.platform.vip.zmq_connection DEBUG: connecting to url ipc://@/home/kefei/.volttron/run/vip.socket?publickey=AtHKs50YJxE3okzMqKtfpYGhQHUBRrjZHJdUJNMEJG8&secretkey=6uA1gKcZEFsWyqT6hXKcKrjjFFvU9mRyVgcPF2ckSzY&serverkey=AtHKs50YJxE3okzMqKtfpYGhQHUBRrjZHJdUJNMEJG8\n",
      "2022-10-22 22:55:35,520 volttron.platform.vip.zmq_connection DEBUG: url type is <class 'str'>\n",
      "2022-10-22 22:55:35,551 volttron.platform.vip.agent.core INFO: Connected to platform: router: 6bef2a3b-ca53-4ba2-97cf-f3c2b6bb4172 version: 1.0 identity: 4f889f56-d4c3-4e21-9541-f1420dc6baf3\n",
      "2022-10-22 22:55:35,553 volttron.platform.vip.agent.core DEBUG: Running onstart methods.\n"
     ]
    }
   ],
   "source": [
    "a = build_agent()"
   ]
  },
  {
   "cell_type": "code",
   "execution_count": 4,
   "id": "2bc06ad7",
   "metadata": {
    "scrolled": true
   },
   "outputs": [
    {
     "name": "stderr",
     "output_type": "stream",
     "text": [
      "2022-10-22 22:55:44,374 volttron.platform.vip.agent.subsystems.auth WARNING: Couldn't update authorization for 75b8252f-f613-4fd3-b300-2487cb328e9a in a timely manner.\n",
      "Traceback (most recent call last):\n",
      "  File \"src/gevent/greenlet.py\", line 906, in gevent._gevent_cgreenlet.Greenlet.run\n",
      "  File \"/home/kefei/project/volttron/volttron/platform/vip/agent/subsystems/auth.py\", line 326, in update_rpc_method_capabilities\n",
      "    if updated_rpc_authorizations is None:\n",
      "UnboundLocalError: local variable 'updated_rpc_authorizations' referenced before assignment\n",
      "2022-10-23T03:55:44Z <Greenlet at 0x7f8ecadb6590: <bound method Auth.update_rpc_method_capabilities of <volttron.platform.vip.agent.subsystems.auth.Auth object at 0x7f8ea95accd0>>> failed with UnboundLocalError\n",
      "\n",
      "2022-10-22 22:55:44,382 volttron.platform.vip.agent.subsystems.auth WARNING: Auth entry not found for 4f889f56-d4c3-4e21-9541-f1420dc6baf3: rpc_method_authorizations not updated. If this agent does have an auth entry, verify that the 'identity' field has been included in the auth entry. This should be set to the identity of the agent\n"
     ]
    },
    {
     "name": "stdout",
     "output_type": "stream",
     "text": [
      "UUID AGENT                    IDENTITY            TAG                STATUS          HEALTH\r\n",
      "5f listeneragent-3.3        listeneragent-3.3_1 listener                           \r\n",
      "56 platform_driveragent-4.0 platform.driver     platform_driver                    \r\n",
      "53 sqlhistorianagent-4.0.0  platform.historian  platform_historian                 \r\n"
     ]
    }
   ],
   "source": [
    "! vctl status"
   ]
  },
  {
   "cell_type": "code",
   "execution_count": 36,
   "id": "1acb1fd9",
   "metadata": {},
   "outputs": [
    {
     "name": "stdout",
     "output_type": "stream",
     "text": [
      "devices/campus-vm/building-vm/Dnp3\r\n",
      "udd-Dnp3.csv\r\n"
     ]
    }
   ],
   "source": [
    "! vctl config list platform.driver"
   ]
  },
  {
   "cell_type": "code",
   "execution_count": 42,
   "outputs": [
    {
     "data": {
      "text/plain": "'{\\n    \"driver_config\": {\"master_ip\": \"0.0.0.0\", \"outstation_ip\": \"127.0.0.1\",\\n        \"master_id\": 2, \"outstation_id\": 1,\\n        \"port\":  20000},\\n    \"registry_config\":\"config://udd-Dnp3.csv\",\\n\\t\\t\"driver_type\": \"udd_dnp3\",\\n    \"interval\": 5,\\n    \"timezone\": \"UTC\",\\n    \"campus\": \"campus-vm\",\\n    \"building\": \"building-vm\",\\n    \"unit\": \"Dnp3\",\\n\\t\\t\"publish_depth_first_all\": true,\\n    \"heart_beat_point\": \"random_bool\"\\n}\\n'"
     },
     "execution_count": 42,
     "metadata": {},
     "output_type": "execute_result"
    }
   ],
   "source": [
    "a.vip.rpc.call('config.store',\n",
    "               'manage_get',\n",
    "               PLATFORM_DRIVER,\n",
    "               \"devices/campus-vm/building-vm/Dnp3\"\n",
    "\n",
    "                          ).get()\n",
    "\n",
    "\n"
   ],
   "metadata": {
    "collapsed": false
   }
  },
  {
   "cell_type": "code",
   "execution_count": 41,
   "outputs": [
    {
     "data": {
      "text/plain": "['devices/campus-vm/building-vm/Dnp3', 'udd-Dnp3.csv']"
     },
     "execution_count": 41,
     "metadata": {},
     "output_type": "execute_result"
    }
   ],
   "source": [
    "a.vip.rpc.call('config.store',\n",
    "               'manage_list_configs',\n",
    "               PLATFORM_DRIVER,\n",
    "\n",
    "                          ).get()"
   ],
   "metadata": {
    "collapsed": false
   }
  },
  {
   "cell_type": "code",
   "execution_count": 34,
   "outputs": [
    {
     "name": "stderr",
     "output_type": "stream",
     "text": [
      "KeyboardInterrupt\n",
      "2022-10-23T04:25:38Z\n"
     ]
    },
    {
     "ename": "KeyboardInterrupt",
     "evalue": "",
     "output_type": "error",
     "traceback": [
      "\u001B[0;31m---------------------------------------------------------------------------\u001B[0m",
      "\u001B[0;31mKeyboardInterrupt\u001B[0m                         Traceback (most recent call last)",
      "Cell \u001B[0;32mIn [34], line 1\u001B[0m\n\u001B[0;32m----> 1\u001B[0m a\u001B[38;5;241m.\u001B[39mvip\u001B[38;5;241m.\u001B[39mrpc\u001B[38;5;241m.\u001B[39mcall(\u001B[38;5;124m'\u001B[39m\u001B[38;5;124mplatform.driver\u001B[39m\u001B[38;5;124m'\u001B[39m,\n\u001B[1;32m      2\u001B[0m                \u001B[38;5;124m'\u001B[39m\u001B[38;5;124mlist\u001B[39m\u001B[38;5;124m'\u001B[39m,\n\u001B[1;32m      3\u001B[0m                           )\u001B[38;5;241m.\u001B[39mget()\n",
      "File \u001B[0;32msrc/gevent/event.py:329\u001B[0m, in \u001B[0;36mgevent._gevent_cevent.AsyncResult.get\u001B[0;34m()\u001B[0m\n",
      "File \u001B[0;32msrc/gevent/event.py:356\u001B[0m, in \u001B[0;36mgevent._gevent_cevent.AsyncResult.get\u001B[0;34m()\u001B[0m\n",
      "File \u001B[0;32msrc/gevent/_abstract_linkable.py:487\u001B[0m, in \u001B[0;36mgevent._gevent_c_abstract_linkable.AbstractLinkable._wait_core\u001B[0;34m()\u001B[0m\n",
      "File \u001B[0;32msrc/gevent/_abstract_linkable.py:490\u001B[0m, in \u001B[0;36mgevent._gevent_c_abstract_linkable.AbstractLinkable._wait_core\u001B[0;34m()\u001B[0m\n",
      "File \u001B[0;32msrc/gevent/_abstract_linkable.py:442\u001B[0m, in \u001B[0;36mgevent._gevent_c_abstract_linkable.AbstractLinkable._AbstractLinkable__wait_to_be_notified\u001B[0;34m()\u001B[0m\n",
      "File \u001B[0;32msrc/gevent/_abstract_linkable.py:451\u001B[0m, in \u001B[0;36mgevent._gevent_c_abstract_linkable.AbstractLinkable._switch_to_hub\u001B[0;34m()\u001B[0m\n",
      "File \u001B[0;32msrc/gevent/_greenlet_primitives.py:61\u001B[0m, in \u001B[0;36mgevent._gevent_c_greenlet_primitives.SwitchOutGreenletWithLoop.switch\u001B[0;34m()\u001B[0m\n",
      "File \u001B[0;32msrc/gevent/_greenlet_primitives.py:65\u001B[0m, in \u001B[0;36mgevent._gevent_c_greenlet_primitives.SwitchOutGreenletWithLoop.switch\u001B[0;34m()\u001B[0m\n",
      "File \u001B[0;32msrc/gevent/_gevent_c_greenlet_primitives.pxd:35\u001B[0m, in \u001B[0;36mgevent._gevent_c_greenlet_primitives._greenlet_switch\u001B[0;34m()\u001B[0m\n",
      "\u001B[0;31mKeyboardInterrupt\u001B[0m: "
     ]
    }
   ],
   "source": [
    "\n",
    "a.vip.rpc.call('platform.driver',\n",
    "               'list',\n",
    "                          ).get()"
   ],
   "metadata": {
    "collapsed": false
   }
  },
  {
   "cell_type": "code",
   "execution_count": 8,
   "id": "1aba49a5",
   "metadata": {},
   "outputs": [
    {
     "name": "stdout",
     "output_type": "stream",
     "text": [
      "[\r\n",
      "  {\r\n",
      "    \"Point Name\": \"AnalogInput_index0\",\r\n",
      "    \"Volttron Point Name\": \"AnalogInput_index0\",\r\n",
      "    \"Group\": \"30\",\r\n",
      "    \"Variation\": \"6\",\r\n",
      "    \"Index\": \"0\",\r\n",
      "    \"Scaling\": \"1\",\r\n",
      "    \"Units\": \"NA\",\r\n",
      "    \"Writable\": \"FALSE\",\r\n",
      "    \"Notes\": \"Double Analogue input without status\"\r\n",
      "  },\r\n",
      "  {\r\n",
      "    \"Point Name\": \"AnalogInput_index1\",\r\n",
      "    \"Volttron Point Name\": \"AnalogInput_index1\",\r\n",
      "    \"Group\": \"30\",\r\n",
      "    \"Variation\": \"6\",\r\n",
      "    \"Index\": \"1\",\r\n",
      "    \"Scaling\": \"1\",\r\n",
      "    \"Units\": \"NA\",\r\n",
      "    \"Writable\": \"FALSE\",\r\n",
      "    \"Notes\": \"Double Analogue input without status\"\r\n",
      "  },\r\n",
      "  {\r\n",
      "    \"Point Name\": \"AnalogInput_index2\",\r\n",
      "    \"Volttron Point Name\": \"AnalogInput_index2\",\r\n",
      "    \"Group\": \"30\",\r\n",
      "    \"Variation\": \"6\",\r\n",
      "    \"Index\": \"2\",\r\n",
      "    \"Scaling\": \"1\",\r\n",
      "    \"Units\": \"NA\",\r\n",
      "    \"Writable\": \"FALSE\",\r\n",
      "    \"Notes\": \"Double Analogue input without status\"\r\n",
      "  },\r\n",
      "  {\r\n",
      "    \"Point Name\": \"AnalogInput_index3\",\r\n",
      "    \"Volttron Point Name\": \"AnalogInput_index3\",\r\n",
      "    \"Group\": \"30\",\r\n",
      "    \"Variation\": \"6\",\r\n",
      "    \"Index\": \"3\",\r\n",
      "    \"Scaling\": \"1\",\r\n",
      "    \"Units\": \"NA\",\r\n",
      "    \"Writable\": \"FALSE\",\r\n",
      "    \"Notes\": \"Double Analogue input without status\"\r\n",
      "  },\r\n",
      "  {\r\n",
      "    \"Point Name\": \"BinaryInput_index0\",\r\n",
      "    \"Volttron Point Name\": \"BinaryInput_index0\",\r\n",
      "    \"Group\": \"1\",\r\n",
      "    \"Variation\": \"2\",\r\n",
      "    \"Index\": \"0\",\r\n",
      "    \"Scaling\": \"1\",\r\n",
      "    \"Units\": \"NA\",\r\n",
      "    \"Writable\": \"FALSE\",\r\n",
      "    \"Notes\": \"Single bit binary input with status\"\r\n",
      "  },\r\n",
      "  {\r\n",
      "    \"Point Name\": \"BinaryInput_index1\",\r\n",
      "    \"Volttron Point Name\": \"BinaryInput_index1\",\r\n",
      "    \"Group\": \"1\",\r\n",
      "    \"Variation\": \"2\",\r\n",
      "    \"Index\": \"1\",\r\n",
      "    \"Scaling\": \"1\",\r\n",
      "    \"Units\": \"NA\",\r\n",
      "    \"Writable\": \"FALSE\",\r\n",
      "    \"Notes\": \"Single bit binary input with status\"\r\n",
      "  },\r\n",
      "  {\r\n",
      "    \"Point Name\": \"BinaryInput_index2\",\r\n",
      "    \"Volttron Point Name\": \"BinaryInput_index2\",\r\n",
      "    \"Group\": \"1\",\r\n",
      "    \"Variation\": \"2\",\r\n",
      "    \"Index\": \"2\",\r\n",
      "    \"Scaling\": \"1\",\r\n",
      "    \"Units\": \"NA\",\r\n",
      "    \"Writable\": \"FALSE\",\r\n",
      "    \"Notes\": \"Single bit binary input with status\"\r\n",
      "  },\r\n",
      "  {\r\n",
      "    \"Point Name\": \"BinaryInput_index3\",\r\n",
      "    \"Volttron Point Name\": \"BinaryInput_index3\",\r\n",
      "    \"Group\": \"1\",\r\n",
      "    \"Variation\": \"2\",\r\n",
      "    \"Index\": \"3\",\r\n",
      "    \"Scaling\": \"1\",\r\n",
      "    \"Units\": \"NA\",\r\n",
      "    \"Writable\": \"FALSE\",\r\n",
      "    \"Notes\": \"Single bit binary input with status\"\r\n",
      "  },\r\n",
      "  {\r\n",
      "    \"Point Name\": \"AnalogOutput_index0\",\r\n",
      "    \"Volttron Point Name\": \"AnalogOutput_index0\",\r\n",
      "    \"Group\": \"40\",\r\n",
      "    \"Variation\": \"4\",\r\n",
      "    \"Index\": \"0\",\r\n",
      "    \"Scaling\": \"1\",\r\n",
      "    \"Units\": \"NA\",\r\n",
      "    \"Writable\": \"TRUE\",\r\n",
      "    \"Notes\": \"Double-precision floating point with flags\"\r\n",
      "  },\r\n",
      "  {\r\n",
      "    \"Point Name\": \"AnalogOutput_index1\",\r\n",
      "    \"Volttron Point Name\": \"AnalogOutput_index1\",\r\n",
      "    \"Group\": \"40\",\r\n",
      "    \"Variation\": \"4\",\r\n",
      "    \"Index\": \"1\",\r\n",
      "    \"Scaling\": \"1\",\r\n",
      "    \"Units\": \"NA\",\r\n",
      "    \"Writable\": \"TRUE\",\r\n",
      "    \"Notes\": \"Double-precision floating point with flags\"\r\n",
      "  },\r\n",
      "  {\r\n",
      "    \"Point Name\": \"AnalogOutput_index2\",\r\n",
      "    \"Volttron Point Name\": \"AnalogOutput_index2\",\r\n",
      "    \"Group\": \"40\",\r\n",
      "    \"Variation\": \"4\",\r\n",
      "    \"Index\": \"2\",\r\n",
      "    \"Scaling\": \"1\",\r\n",
      "    \"Units\": \"NA\",\r\n",
      "    \"Writable\": \"TRUE\",\r\n",
      "    \"Notes\": \"Double-precision floating point with flags\"\r\n",
      "  },\r\n",
      "  {\r\n",
      "    \"Point Name\": \"AnalogOutput_index3\",\r\n",
      "    \"Volttron Point Name\": \"AnalogOutput_index3\",\r\n",
      "    \"Group\": \"40\",\r\n",
      "    \"Variation\": \"4\",\r\n",
      "    \"Index\": \"3\",\r\n",
      "    \"Scaling\": \"1\",\r\n",
      "    \"Units\": \"NA\",\r\n",
      "    \"Writable\": \"TRUE\",\r\n",
      "    \"Notes\": \"Double-precision floating point with flags\"\r\n",
      "  },\r\n",
      "  {\r\n",
      "    \"Point Name\": \"BinaryOutput_index0\",\r\n",
      "    \"Volttron Point Name\": \"BinaryOutput_index0\",\r\n",
      "    \"Group\": \"10\",\r\n",
      "    \"Variation\": \"2\",\r\n",
      "    \"Index\": \"0\",\r\n",
      "    \"Scaling\": \"1\",\r\n",
      "    \"Units\": \"NA\",\r\n",
      "    \"Writable\": \"TRUE\",\r\n",
      "    \"Notes\": \"Binary\\u00a0Output with flags\"\r\n",
      "  },\r\n",
      "  {\r\n",
      "    \"Point Name\": \"BinaryOutput_index1\",\r\n",
      "    \"Volttron Point Name\": \"BinaryOutput_index1\",\r\n",
      "    \"Group\": \"10\",\r\n",
      "    \"Variation\": \"2\",\r\n",
      "    \"Index\": \"1\",\r\n",
      "    \"Scaling\": \"1\",\r\n",
      "    \"Units\": \"NA\",\r\n",
      "    \"Writable\": \"TRUE\",\r\n",
      "    \"Notes\": \"Binary\\u00a0Output with flags\"\r\n",
      "  },\r\n",
      "  {\r\n",
      "    \"Point Name\": \"BinaryOutput_index2\",\r\n",
      "    \"Volttron Point Name\": \"BinaryOutput_index2\",\r\n",
      "    \"Group\": \"10\",\r\n",
      "    \"Variation\": \"2\",\r\n",
      "    \"Index\": \"2\",\r\n",
      "    \"Scaling\": \"1\",\r\n",
      "    \"Units\": \"NA\",\r\n",
      "    \"Writable\": \"TRUE\",\r\n",
      "    \"Notes\": \"Binary\\u00a0Output with flags\"\r\n",
      "  },\r\n",
      "  {\r\n",
      "    \"Point Name\": \"BinaryOutput_index3\",\r\n",
      "    \"Volttron Point Name\": \"BinaryOutput_index3\",\r\n",
      "    \"Group\": \"10\",\r\n",
      "    \"Variation\": \"2\",\r\n",
      "    \"Index\": \"3\",\r\n",
      "    \"Scaling\": \"1\",\r\n",
      "    \"Units\": \"NA\",\r\n",
      "    \"Writable\": \"TRUE\",\r\n",
      "    \"Notes\": \"Binary\\u00a0Output with flags\"\r\n",
      "  }\r\n",
      "]\r\n"
     ]
    }
   ],
   "source": [
    "! vctl config get platform.driver udd-Dnp3.csv"
   ]
  },
  {
   "cell_type": "code",
   "execution_count": 6,
   "id": "701aa33c",
   "metadata": {},
   "outputs": [
    {
     "name": "stdout",
     "output_type": "stream",
     "text": [
      "{\r\n",
      "  \"driver_config\": {\r\n",
      "    \"master_ip\": \"0.0.0.0\",\r\n",
      "    \"outstation_ip\": \"127.0.0.1\",\r\n",
      "    \"master_id\": 2,\r\n",
      "    \"outstation_id\": 1,\r\n",
      "    \"port\": 20000\r\n",
      "  },\r\n",
      "  \"registry_config\": \"config://udd-Dnp3.csv\",\r\n",
      "  \"driver_type\": \"udd_dnp3\",\r\n",
      "  \"interval\": 5,\r\n",
      "  \"timezone\": \"UTC\",\r\n",
      "  \"campus\": \"campus-vm\",\r\n",
      "  \"building\": \"building-vm\",\r\n",
      "  \"unit\": \"Dnp3\",\r\n",
      "  \"publish_depth_first_all\": true,\r\n",
      "  \"heart_beat_point\": \"random_bool\"\r\n",
      "}\r\n"
     ]
    }
   ],
   "source": [
    "! vctl config get platform.driver devices/campus-vm/building-vm/Dnp3"
   ]
  },
  {
   "cell_type": "code",
   "execution_count": 7,
   "id": "563c2926",
   "metadata": {},
   "outputs": [],
   "source": [
    "# campus-vm/building-vm/Dnp3"
   ]
  },
  {
   "cell_type": "code",
   "execution_count": 11,
   "id": "8024b8e2",
   "metadata": {},
   "outputs": [
    {
     "name": "stdout",
     "output_type": "stream",
     "text": [
      "Starting 5fba478e-016b-4c7f-a3eb-9aed201592f2 listeneragent-3.3\r\n",
      "Starting 5610fc87-cde8-4c40-9751-d20a9f4c6b3b platform_driveragent-4.0\r\n"
     ]
    }
   ],
   "source": [
    "! vctl start --tag listener platform_driver"
   ]
  },
  {
   "cell_type": "code",
   "execution_count": 19,
   "id": "42bbc6e7",
   "metadata": {},
   "outputs": [
    {
     "name": "stdout",
     "output_type": "stream",
     "text": [
      "Stopping 5fba478e-016b-4c7f-a3eb-9aed201592f2 listeneragent-3.3\r\n",
      "Stopping 5610fc87-cde8-4c40-9751-d20a9f4c6b3b platform_driveragent-4.0\r\n"
     ]
    }
   ],
   "source": [
    "! vctl stop --tag listener platform_driver"
   ]
  },
  {
   "cell_type": "code",
   "execution_count": 17,
   "id": "bc3a3e9e",
   "metadata": {},
   "outputs": [
    {
     "data": {
      "text/plain": "8.15711694804495"
     },
     "execution_count": 17,
     "metadata": {},
     "output_type": "execute_result"
    }
   ],
   "source": [
    "a.vip.rpc.call(\"platform.driver\", \"get_point\",\n",
    "              \"campus-vm/building-vm/Dnp3\", \n",
    "               \"AnalogInput_index0\").get()"
   ]
  },
  {
   "cell_type": "code",
   "execution_count": 9,
   "id": "96ce1487",
   "metadata": {
    "scrolled": false
   },
   "outputs": [
    {
     "name": "stderr",
     "output_type": "stream",
     "text": [
      "KeyboardInterrupt\n",
      "2022-10-23T03:59:26Z\n"
     ]
    },
    {
     "ename": "KeyboardInterrupt",
     "evalue": "",
     "output_type": "error",
     "traceback": [
      "\u001B[0;31m---------------------------------------------------------------------------\u001B[0m",
      "\u001B[0;31mKeyboardInterrupt\u001B[0m                         Traceback (most recent call last)",
      "Cell \u001B[0;32mIn [9], line 5\u001B[0m\n\u001B[1;32m      3\u001B[0m \u001B[38;5;28;01mwhile\u001B[39;00m \u001B[38;5;28;01mTrue\u001B[39;00m:\n\u001B[1;32m      4\u001B[0m     sleep(\u001B[38;5;241m5\u001B[39m)\n\u001B[0;32m----> 5\u001B[0m     rs \u001B[38;5;241m=\u001B[39m a\u001B[38;5;241m.\u001B[39mvip\u001B[38;5;241m.\u001B[39mrpc\u001B[38;5;241m.\u001B[39mcall(\u001B[38;5;124m\"\u001B[39m\u001B[38;5;124mplatform.driver\u001B[39m\u001B[38;5;124m\"\u001B[39m, \u001B[38;5;124m\"\u001B[39m\u001B[38;5;124mget_point\u001B[39m\u001B[38;5;124m\"\u001B[39m,\n\u001B[1;32m      6\u001B[0m                   \u001B[38;5;124m\"\u001B[39m\u001B[38;5;124mcampus-vm/building-vm/Dnp3\u001B[39m\u001B[38;5;124m\"\u001B[39m, \n\u001B[1;32m      7\u001B[0m                    \u001B[38;5;124m\"\u001B[39m\u001B[38;5;124mAnalogInput_index0\u001B[39m\u001B[38;5;124m\"\u001B[39m)\u001B[38;5;241m.\u001B[39mget()\n\u001B[1;32m      8\u001B[0m     \u001B[38;5;28mprint\u001B[39m(datetime\u001B[38;5;241m.\u001B[39mdatetime\u001B[38;5;241m.\u001B[39mnow(), rs)\n",
      "File \u001B[0;32msrc/gevent/event.py:329\u001B[0m, in \u001B[0;36mgevent._gevent_cevent.AsyncResult.get\u001B[0;34m()\u001B[0m\n",
      "File \u001B[0;32msrc/gevent/event.py:356\u001B[0m, in \u001B[0;36mgevent._gevent_cevent.AsyncResult.get\u001B[0;34m()\u001B[0m\n",
      "File \u001B[0;32msrc/gevent/_abstract_linkable.py:487\u001B[0m, in \u001B[0;36mgevent._gevent_c_abstract_linkable.AbstractLinkable._wait_core\u001B[0;34m()\u001B[0m\n",
      "File \u001B[0;32msrc/gevent/_abstract_linkable.py:490\u001B[0m, in \u001B[0;36mgevent._gevent_c_abstract_linkable.AbstractLinkable._wait_core\u001B[0;34m()\u001B[0m\n",
      "File \u001B[0;32msrc/gevent/_abstract_linkable.py:442\u001B[0m, in \u001B[0;36mgevent._gevent_c_abstract_linkable.AbstractLinkable._AbstractLinkable__wait_to_be_notified\u001B[0;34m()\u001B[0m\n",
      "File \u001B[0;32msrc/gevent/_abstract_linkable.py:451\u001B[0m, in \u001B[0;36mgevent._gevent_c_abstract_linkable.AbstractLinkable._switch_to_hub\u001B[0;34m()\u001B[0m\n",
      "File \u001B[0;32msrc/gevent/_greenlet_primitives.py:61\u001B[0m, in \u001B[0;36mgevent._gevent_c_greenlet_primitives.SwitchOutGreenletWithLoop.switch\u001B[0;34m()\u001B[0m\n",
      "File \u001B[0;32msrc/gevent/_greenlet_primitives.py:65\u001B[0m, in \u001B[0;36mgevent._gevent_c_greenlet_primitives.SwitchOutGreenletWithLoop.switch\u001B[0;34m()\u001B[0m\n",
      "File \u001B[0;32msrc/gevent/_gevent_c_greenlet_primitives.pxd:35\u001B[0m, in \u001B[0;36mgevent._gevent_c_greenlet_primitives._greenlet_switch\u001B[0;34m()\u001B[0m\n",
      "\u001B[0;31mKeyboardInterrupt\u001B[0m: "
     ]
    }
   ],
   "source": [
    "from time import sleep\n",
    "import datetime\n",
    "while True:\n",
    "    sleep(5)\n",
    "    rs = a.vip.rpc.call(\"platform.driver\", \"get_point\",\n",
    "                  \"campus-vm/building-vm/Dnp3\", \n",
    "                   \"AnalogInput_index0\").get()\n",
    "    print(datetime.datetime.now(), rs)"
   ]
  },
  {
   "cell_type": "code",
   "execution_count": 12,
   "id": "ebb41483",
   "metadata": {
    "scrolled": false
   },
   "outputs": [
    {
     "name": "stdout",
     "output_type": "stream",
     "text": [
      "2022-10-07 14:36:23.851004 {'success_flag': True, 'value_to_set': 7.8766, 'set_pt_response': None, 'get_pt_response': 7.8766}\n"
     ]
    }
   ],
   "source": [
    "import datetime\n",
    "rs = a.vip.rpc.call(\"platform.driver\", \"set_point\",\n",
    "              \"campus-vm/building-vm/Dnp3\", \n",
    "               \"AnalogOutput_index0\", 7.8766).get()\n",
    "print(datetime.datetime.now(), rs)"
   ]
  },
  {
   "cell_type": "code",
   "execution_count": 3,
   "id": "9c203e40",
   "metadata": {},
   "outputs": [
    {
     "ename": "NameError",
     "evalue": "name 'datetime' is not defined",
     "output_type": "error",
     "traceback": [
      "\u001B[0;31m---------------------------------------------------------------------------\u001B[0m",
      "\u001B[0;31mNameError\u001B[0m                                 Traceback (most recent call last)",
      "Cell \u001B[0;32mIn [3], line 5\u001B[0m\n\u001B[1;32m      1\u001B[0m \u001B[38;5;66;03m# verify with retrieving value workflow\u001B[39;00m\n\u001B[1;32m      2\u001B[0m rs \u001B[38;5;241m=\u001B[39m a\u001B[38;5;241m.\u001B[39mvip\u001B[38;5;241m.\u001B[39mrpc\u001B[38;5;241m.\u001B[39mcall(\u001B[38;5;124m\"\u001B[39m\u001B[38;5;124mplatform.driver\u001B[39m\u001B[38;5;124m\"\u001B[39m, \u001B[38;5;124m\"\u001B[39m\u001B[38;5;124mget_point\u001B[39m\u001B[38;5;124m\"\u001B[39m,\n\u001B[1;32m      3\u001B[0m               \u001B[38;5;124m\"\u001B[39m\u001B[38;5;124mcampus-vm/building-vm/Dnp3\u001B[39m\u001B[38;5;124m\"\u001B[39m, \n\u001B[1;32m      4\u001B[0m                \u001B[38;5;124m\"\u001B[39m\u001B[38;5;124mAnalogOutput_index0\u001B[39m\u001B[38;5;124m\"\u001B[39m)\u001B[38;5;241m.\u001B[39mget()\n\u001B[0;32m----> 5\u001B[0m \u001B[38;5;28mprint\u001B[39m(datetime\u001B[38;5;241m.\u001B[39mdatetime\u001B[38;5;241m.\u001B[39mnow(), rs)\n",
      "\u001B[0;31mNameError\u001B[0m: name 'datetime' is not defined"
     ]
    },
    {
     "name": "stderr",
     "output_type": "stream",
     "text": [
      "2022-10-05 17:34:31,860 volttron.platform.vip.agent.subsystems.auth WARNING: Auth entry not found for 4f5e0d5f-e05f-48c5-92d7-b78ff2b31806: rpc_method_authorizations not updated. If this agent does have an auth entry, verify that the 'identity' field has been included in the auth entry. This should be set to the identity of the agent\n"
     ]
    }
   ],
   "source": [
    "# verify with retrieving value workflow\n",
    "rs = a.vip.rpc.call(\"platform.driver\", \"get_point\",\n",
    "              \"campus-vm/building-vm/Dnp3\", \n",
    "               \"AnalogOutput_index0\").get()\n",
    "print(datetime.datetime.now(), rs)"
   ]
  },
  {
   "cell_type": "code",
   "execution_count": null,
   "id": "2247ed58",
   "metadata": {},
   "outputs": [],
   "source": [
    "# from volttron.platform.vip.agent.utils import build_agent\n",
    "# a = build_agent()\n",
    "# rs = a.vip.rpc.call(\"platform.driver\", \"set_point\",\n",
    "#               \"campus-vm/building-vm/Dnp3\", \n",
    "#                \"AnalogOutput_index0\", 6.67).get()"
   ]
  },
  {
   "cell_type": "code",
   "execution_count": 14,
   "id": "58e49f68",
   "metadata": {
    "scrolled": false
   },
   "outputs": [
    {
     "name": "stdout",
     "output_type": "stream",
     "text": [
      "=======================\n",
      "val to set 0.22485518929877257\n",
      "2022-10-07 14:37:12.634684 {'success_flag': True, 'value_to_set': 0.22485518929877257, 'set_pt_response': None, 'get_pt_response': 0.22485518929877257}\n",
      "2022-10-07 14:37:12.637544 0.22485518929877257\n",
      "=======================\n",
      "val to set 0.7646784897392008\n",
      "2022-10-07 14:37:17.846657 {'success_flag': True, 'value_to_set': 0.7646784897392008, 'set_pt_response': None, 'get_pt_response': 0.7646784897392008}\n",
      "2022-10-07 14:37:17.849855 0.7646784897392008\n",
      "=======================\n",
      "val to set 0.901314633578504\n",
      "2022-10-07 14:37:23.062770 {'success_flag': True, 'value_to_set': 0.901314633578504, 'set_pt_response': None, 'get_pt_response': 0.901314633578504}\n",
      "2022-10-07 14:37:23.070149 0.901314633578504\n",
      "=======================\n",
      "val to set 0.8920014448258284\n",
      "2022-10-07 14:37:28.279228 {'success_flag': True, 'value_to_set': 0.8920014448258284, 'set_pt_response': None, 'get_pt_response': 0.8920014448258284}\n",
      "2022-10-07 14:37:28.288802 0.8920014448258284\n",
      "=======================\n",
      "val to set 0.6791486995497763\n",
      "2022-10-07 14:37:33.503409 {'success_flag': True, 'value_to_set': 0.6791486995497763, 'set_pt_response': None, 'get_pt_response': 0.6791486995497763}\n",
      "2022-10-07 14:37:33.516900 0.6791486995497763\n",
      "=======================\n",
      "val to set 0.4230956772651745\n",
      "2022-10-07 14:37:38.740294 {'success_flag': True, 'value_to_set': 0.4230956772651745, 'set_pt_response': None, 'get_pt_response': 0.4230956772651745}\n",
      "2022-10-07 14:37:38.745446 0.4230956772651745\n",
      "=======================\n",
      "val to set 0.6690300149115742\n",
      "2022-10-07 14:37:43.957265 {'success_flag': True, 'value_to_set': 0.6690300149115742, 'set_pt_response': None, 'get_pt_response': 0.6690300149115742}\n",
      "2022-10-07 14:37:43.966936 0.6690300149115742\n",
      "=======================\n",
      "val to set 0.4273507509712051\n",
      "2022-10-07 14:37:49.175611 {'success_flag': True, 'value_to_set': 0.4273507509712051, 'set_pt_response': None, 'get_pt_response': 0.4273507509712051}\n",
      "2022-10-07 14:37:49.179869 0.4273507509712051\n",
      "=======================\n",
      "val to set 0.24260292816865914\n",
      "2022-10-07 14:37:54.392758 {'success_flag': True, 'value_to_set': 0.24260292816865914, 'set_pt_response': None, 'get_pt_response': 0.24260292816865914}\n",
      "2022-10-07 14:37:54.397000 0.24260292816865914\n",
      "=======================\n",
      "val to set 0.19125687566192162\n",
      "2022-10-07 14:37:59.606658 {'success_flag': True, 'value_to_set': 0.19125687566192162, 'set_pt_response': None, 'get_pt_response': 0.19125687566192162}\n",
      "2022-10-07 14:37:59.610069 0.19125687566192162\n",
      "=======================\n",
      "val to set 0.41118428870462864\n",
      "2022-10-07 14:38:04.827816 {'success_flag': True, 'value_to_set': 0.41118428870462864, 'set_pt_response': None, 'get_pt_response': 0.41118428870462864}\n",
      "2022-10-07 14:38:04.831111 0.41118428870462864\n",
      "=======================\n",
      "val to set 0.2824582919718851\n",
      "2022-10-07 14:38:10.055137 {'success_flag': True, 'value_to_set': 0.2824582919718851, 'set_pt_response': None, 'get_pt_response': 0.2824582919718851}\n",
      "2022-10-07 14:38:10.065405 0.2824582919718851\n",
      "=======================\n",
      "val to set 0.4011384767125079\n",
      "2022-10-07 14:38:15.276944 {'success_flag': True, 'value_to_set': 0.4011384767125079, 'set_pt_response': None, 'get_pt_response': 0.4011384767125079}\n",
      "2022-10-07 14:38:15.298046 0.4011384767125079\n",
      "=======================\n",
      "val to set 0.16781945298249978\n",
      "2022-10-07 14:38:20.509229 {'success_flag': True, 'value_to_set': 0.16781945298249978, 'set_pt_response': None, 'get_pt_response': 0.16781945298249978}\n",
      "2022-10-07 14:38:20.515838 0.16781945298249978\n",
      "=======================\n",
      "val to set 0.1296735590506891\n",
      "2022-10-07 14:38:27.755294 {'success_flag': True, 'value_to_set': 0.1296735590506891, 'set_pt_response': None, 'get_pt_response': 0.1296735590506891}\n",
      "2022-10-07 14:38:27.757741 0.1296735590506891\n",
      "=======================\n",
      "val to set 0.3887661201776955\n",
      "2022-10-07 14:38:32.979772 {'success_flag': True, 'value_to_set': 0.3887661201776955, 'set_pt_response': None, 'get_pt_response': 0.3887661201776955}\n",
      "2022-10-07 14:38:32.993053 0.3887661201776955\n",
      "=======================\n",
      "val to set 0.48034196666331064\n",
      "2022-10-07 14:38:38.215632 {'success_flag': True, 'value_to_set': 0.48034196666331064, 'set_pt_response': None, 'get_pt_response': 0.48034196666331064}\n",
      "2022-10-07 14:38:38.227155 0.48034196666331064\n",
      "=======================\n",
      "val to set 0.09255715747264626\n",
      "2022-10-07 14:38:43.438248 {'success_flag': True, 'value_to_set': 0.09255715747264626, 'set_pt_response': None, 'get_pt_response': 0.09255715747264626}\n",
      "2022-10-07 14:38:43.445047 0.09255715747264626\n",
      "=======================\n",
      "val to set 0.38811788467382924\n",
      "2022-10-07 14:38:48.665335 {'success_flag': True, 'value_to_set': 0.38811788467382924, 'set_pt_response': None, 'get_pt_response': 0.38811788467382924}\n",
      "2022-10-07 14:38:48.672965 0.38811788467382924\n",
      "=======================\n",
      "val to set 0.7498639610405285\n",
      "2022-10-07 14:38:53.885292 {'success_flag': True, 'value_to_set': 0.7498639610405285, 'set_pt_response': None, 'get_pt_response': 0.7498639610405285}\n",
      "2022-10-07 14:38:53.887781 0.7498639610405285\n",
      "=======================\n",
      "val to set 0.49225554136237726\n",
      "2022-10-07 14:38:59.098112 {'success_flag': True, 'value_to_set': 0.49225554136237726, 'set_pt_response': None, 'get_pt_response': 0.49225554136237726}\n",
      "2022-10-07 14:38:59.104117 0.49225554136237726\n"
     ]
    },
    {
     "name": "stderr",
     "output_type": "stream",
     "text": [
      "KeyboardInterrupt\n",
      "2022-10-07T18:38:59Z\n"
     ]
    },
    {
     "ename": "KeyboardInterrupt",
     "evalue": "",
     "output_type": "error",
     "traceback": [
      "\u001B[0;31m---------------------------------------------------------------------------\u001B[0m",
      "\u001B[0;31mKeyboardInterrupt\u001B[0m                         Traceback (most recent call last)",
      "Cell \u001B[0;32mIn [14], line 5\u001B[0m\n\u001B[1;32m      3\u001B[0m \u001B[38;5;28;01mimport\u001B[39;00m \u001B[38;5;21;01mrandom\u001B[39;00m\n\u001B[1;32m      4\u001B[0m \u001B[38;5;28;01mwhile\u001B[39;00m \u001B[38;5;28;01mTrue\u001B[39;00m:\n\u001B[0;32m----> 5\u001B[0m     sleep(\u001B[38;5;241m5\u001B[39m)\n\u001B[1;32m      6\u001B[0m     \u001B[38;5;28mprint\u001B[39m(\u001B[38;5;124m\"\u001B[39m\u001B[38;5;124m=======================\u001B[39m\u001B[38;5;124m\"\u001B[39m)\n\u001B[1;32m      7\u001B[0m     val_to_set \u001B[38;5;241m=\u001B[39m random\u001B[38;5;241m.\u001B[39mrandom()\n",
      "File \u001B[0;32m~/project/volttron/env/lib/python3.8/site-packages/gevent/hub.py:166\u001B[0m, in \u001B[0;36msleep\u001B[0;34m(seconds, ref)\u001B[0m\n\u001B[1;32m    161\u001B[0m \u001B[38;5;28;01mwith\u001B[39;00m loop\u001B[38;5;241m.\u001B[39mtimer(seconds, ref\u001B[38;5;241m=\u001B[39mref) \u001B[38;5;28;01mas\u001B[39;00m t:\n\u001B[1;32m    162\u001B[0m     \u001B[38;5;66;03m# Sleeping is expected to be an \"absolute\" measure with\u001B[39;00m\n\u001B[1;32m    163\u001B[0m     \u001B[38;5;66;03m# respect to time.time(), not a relative measure, so it's\u001B[39;00m\n\u001B[1;32m    164\u001B[0m     \u001B[38;5;66;03m# important to update the loop's notion of now before we start\u001B[39;00m\n\u001B[1;32m    165\u001B[0m     loop\u001B[38;5;241m.\u001B[39mupdate_now()\n\u001B[0;32m--> 166\u001B[0m     \u001B[43mhub\u001B[49m\u001B[38;5;241;43m.\u001B[39;49m\u001B[43mwait\u001B[49m\u001B[43m(\u001B[49m\u001B[43mt\u001B[49m\u001B[43m)\u001B[49m\n",
      "File \u001B[0;32msrc/gevent/_hub_primitives.py:46\u001B[0m, in \u001B[0;36mgevent._gevent_c_hub_primitives.WaitOperationsGreenlet.wait\u001B[0;34m()\u001B[0m\n",
      "File \u001B[0;32msrc/gevent/_hub_primitives.py:55\u001B[0m, in \u001B[0;36mgevent._gevent_c_hub_primitives.WaitOperationsGreenlet.wait\u001B[0;34m()\u001B[0m\n",
      "File \u001B[0;32msrc/gevent/_waiter.py:154\u001B[0m, in \u001B[0;36mgevent._gevent_c_waiter.Waiter.get\u001B[0;34m()\u001B[0m\n",
      "File \u001B[0;32msrc/gevent/_greenlet_primitives.py:61\u001B[0m, in \u001B[0;36mgevent._gevent_c_greenlet_primitives.SwitchOutGreenletWithLoop.switch\u001B[0;34m()\u001B[0m\n",
      "File \u001B[0;32msrc/gevent/_greenlet_primitives.py:61\u001B[0m, in \u001B[0;36mgevent._gevent_c_greenlet_primitives.SwitchOutGreenletWithLoop.switch\u001B[0;34m()\u001B[0m\n",
      "File \u001B[0;32msrc/gevent/_greenlet_primitives.py:65\u001B[0m, in \u001B[0;36mgevent._gevent_c_greenlet_primitives.SwitchOutGreenletWithLoop.switch\u001B[0;34m()\u001B[0m\n",
      "File \u001B[0;32msrc/gevent/_gevent_c_greenlet_primitives.pxd:35\u001B[0m, in \u001B[0;36mgevent._gevent_c_greenlet_primitives._greenlet_switch\u001B[0;34m()\u001B[0m\n",
      "\u001B[0;31mKeyboardInterrupt\u001B[0m: "
     ]
    }
   ],
   "source": [
    "from time import sleep\n",
    "# import datetime\n",
    "import random\n",
    "while True:\n",
    "    sleep(5)\n",
    "    print(\"=======================\")\n",
    "    val_to_set = random.random()\n",
    "    print(f\"val to set {val_to_set}\")\n",
    "    rs = a.vip.rpc.call(\"platform.driver\", \"set_point\",\n",
    "              \"campus-vm/building-vm/Dnp3\", \n",
    "               \"AnalogOutput_index0\", val_to_set).get()\n",
    "    print(datetime.datetime.now(), rs)\n",
    "    \n",
    "#     sleep(1)\n",
    "    \n",
    "    # verify\n",
    "    rs = a.vip.rpc.call(\"platform.driver\", \"get_point\",\n",
    "              \"campus-vm/building-vm/Dnp3\", \n",
    "               \"AnalogOutput_index0\").get()\n",
    "    print(datetime.datetime.now(), rs)"
   ]
  },
  {
   "cell_type": "code",
   "execution_count": null,
   "id": "821d6c0c",
   "metadata": {},
   "outputs": [],
   "source": []
  }
 ],
 "metadata": {
  "kernelspec": {
   "display_name": "Python 3 (ipykernel)",
   "language": "python",
   "name": "python3"
  },
  "language_info": {
   "codemirror_mode": {
    "name": "ipython",
    "version": 3
   },
   "file_extension": ".py",
   "mimetype": "text/x-python",
   "name": "python",
   "nbconvert_exporter": "python",
   "pygments_lexer": "ipython3",
   "version": "3.8.10"
  }
 },
 "nbformat": 4,
 "nbformat_minor": 5
}
