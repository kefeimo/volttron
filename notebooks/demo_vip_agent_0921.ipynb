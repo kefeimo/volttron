{
 "cells": [
  {
   "cell_type": "markdown",
   "id": "ac1e590f",
   "metadata": {},
   "source": [
    "### important commands\n",
    "./start-volttron\n",
    "vctl status\n",
    "vctl start --tag listener platform_historian platform_driver\n",
    "vctl status\n",
    "tail -f volttron.log\n",
    "vctl stop --tag listener platform_historian platform_driver\n",
    "\n",
    "vctl start --tag listener platform_driver\n",
    "vctl stop --tag listener platform_driver\n",
    "\n",
    "\n",
    "vctl config list\n",
    "vctl config list platform.driver\n",
    "vctl config delete platform.driver --all\n",
    "\n",
    "vctl config store platform.driver devices/campus-vm/building-vm/Dnp3 /home/kefei/sandbox/volttron/examples/configurations/drivers/udd-Dnp3.config --json\n",
    "vctl config store platform.driver udd-Dnp3.csv /home/kefei/sandbox/volttron/examples/configurations/drivers/udd-Dnp3.csv --csv\n",
    "\n",
    "vctl config get platform.driver udd-Dnp3.csv"
   ]
  },
  {
   "cell_type": "code",
   "execution_count": 1,
   "id": "718f8fb6",
   "metadata": {},
   "outputs": [],
   "source": [
    "from volttron.platform.vip.agent.utils import build_agent\n",
    "from volttron.platform.agent.known_identities import PLATFORM_DRIVER"
   ]
  },
  {
   "cell_type": "code",
   "execution_count": 2,
   "id": "67f84b66",
   "metadata": {},
   "outputs": [
    {
     "name": "stderr",
     "output_type": "stream",
     "text": [
      "2022-10-26 13:44:04,401 root DEBUG: Creating ZMQ Core None\n",
      "2022-10-26 13:44:04,408 volttron.platform.vip.agent.core DEBUG: address: ipc://@/home/kefei/.volttron/run/vip.socket\n",
      "2022-10-26 13:44:04,412 volttron.platform.vip.agent.core DEBUG: identity: de4cb51b-2898-4497-bfdf-c178e6900eec\n",
      "2022-10-26 13:44:04,413 volttron.platform.vip.agent.core DEBUG: agent_uuid: None\n",
      "2022-10-26 13:44:04,414 volttron.platform.vip.agent.core DEBUG: serverkey: None\n",
      "2022-10-26 13:44:04,574 volttron.platform.vip.agent.core DEBUG: AGENT RUNNING on ZMQ Core de4cb51b-2898-4497-bfdf-c178e6900eec\n",
      "2022-10-26 13:44:04,576 volttron.platform.vip.agent.core INFO: CORE address:ipc://@/home/kefei/.volttron/run/vip.socket?publickey=AtHKs50YJxE3okzMqKtfpYGhQHUBRrjZHJdUJNMEJG8&secretkey=6uA1gKcZEFsWyqT6hXKcKrjjFFvU9mRyVgcPF2ckSzY&serverkey=AtHKs50YJxE3okzMqKtfpYGhQHUBRrjZHJdUJNMEJG8\n",
      "2022-10-26 13:44:04,578 volttron.platform.vip.zmq_connection DEBUG: ZMQ connection de4cb51b-2898-4497-bfdf-c178e6900eec\n",
      "2022-10-26 13:44:04,584 volttron.platform.vip.zmq_connection DEBUG: connecting to url ipc://@/home/kefei/.volttron/run/vip.socket?publickey=AtHKs50YJxE3okzMqKtfpYGhQHUBRrjZHJdUJNMEJG8&secretkey=6uA1gKcZEFsWyqT6hXKcKrjjFFvU9mRyVgcPF2ckSzY&serverkey=AtHKs50YJxE3okzMqKtfpYGhQHUBRrjZHJdUJNMEJG8\n",
      "2022-10-26 13:44:04,585 volttron.platform.vip.zmq_connection DEBUG: url type is <class 'str'>\n",
      "2022-10-26 13:44:04,610 volttron.platform.vip.agent.core INFO: Connected to platform: router: f3007192-5e31-471d-8960-483131a49c92 version: 1.0 identity: de4cb51b-2898-4497-bfdf-c178e6900eec\n",
      "2022-10-26 13:44:04,611 volttron.platform.vip.agent.core DEBUG: Running onstart methods.\n"
     ]
    }
   ],
   "source": [
    "a = build_agent()"
   ]
  },
  {
   "cell_type": "code",
   "execution_count": 3,
   "id": "2bc06ad7",
   "metadata": {
    "scrolled": true
   },
   "outputs": [
    {
     "name": "stdout",
     "output_type": "stream",
     "text": [
      "UUID AGENT                    IDENTITY            TAG                STATUS          HEALTH\r\n",
      "5f listeneragent-3.3        listeneragent-3.3_1 listener           0               \r\n",
      "56 platform_driveragent-4.0 platform.driver     platform_driver    0               \r\n",
      "53 sqlhistorianagent-4.0.0  platform.historian  platform_historian                 \r\n"
     ]
    },
    {
     "name": "stderr",
     "output_type": "stream",
     "text": [
      "2022-10-24 10:48:04,092 volttron.platform.vip.agent.subsystems.auth WARNING: Auth entry not found for 396706a5-2e44-4ed9-8545-b4b92c14f674: rpc_method_authorizations not updated. If this agent does have an auth entry, verify that the 'identity' field has been included in the auth entry. This should be set to the identity of the agent\n"
     ]
    }
   ],
   "source": [
    "! vctl status"
   ]
  },
  {
   "cell_type": "code",
   "execution_count": 4,
   "id": "1acb1fd9",
   "metadata": {},
   "outputs": [
    {
     "name": "stdout",
     "output_type": "stream",
     "text": [
      "devices/campus-vm/building-vm/Dnp3\r\n",
      "modbus_tk_map.csv\r\n",
      "udd-Dnp3.csv\r\n"
     ]
    }
   ],
   "source": [
    "! vctl config list platform.driver"
   ]
  },
  {
   "cell_type": "code",
   "execution_count": 9,
   "outputs": [
    {
     "data": {
      "text/plain": "'{\\n    \"driver_config\": {\"master_ip\": \"0.0.0.0\", \"outstation_ip\": \"127.0.0.1\",\\n        \"master_id\": 2, \"outstation_id\": 1,\\n        \"port\":  20000},\\n    \"registry_config\":\"config://udd-Dnp3.csv\",\\n\\t\\t\"driver_type\": \"udd_dnp3\",\\n    \"interval\": 5,\\n    \"timezone\": \"UTC\",\\n    \"campus\": \"campus-vm\",\\n    \"building\": \"building-vm\",\\n    \"unit\": \"Dnp3\",\\n\\t\\t\"publish_depth_first_all\": true,\\n    \"heart_beat_point\": \"random_bool\"\\n}\\n'"
     },
     "execution_count": 9,
     "metadata": {},
     "output_type": "execute_result"
    }
   ],
   "source": [
    "a.vip.rpc.call('config.store',\n",
    "               'manage_get',\n",
    "               PLATFORM_DRIVER,\n",
    "               \"devices/campus-vm/building-vm/Dnp3\"\n",
    "                          ).get()\n",
    "\n",
    "a.vip.rpc.call(peer='config.store',\n",
    "               method='manage_get',\n",
    "               identity=PLATFORM_DRIVER,\n",
    "               config_name=\"devices/campus-vm/building-vm/Dnp3\"\n",
    "                          ).get()\n",
    "\n",
    "# json_str = a.vip.rpc.call('config.store',\n",
    "#                'manage_get',\n",
    "#                PLATFORM_DRIVER,\n",
    "#                \"devices/campus-vm/building-vm/Dnp3\"\n",
    "#                           ).get()\n",
    "\n",
    "# json_str\n",
    "# with open('/home/kefei/project/volttron/notebooks/json_str.json', 'w') as out:\n",
    "#     # lines = [','.join(line) for line in my_string.split(',')]\n",
    "#     # my_string = '\\n'.join(lines)\n",
    "#     out.write(json_str)\n",
    "\n",
    "\n"
   ],
   "metadata": {
    "collapsed": false
   }
  },
  {
   "cell_type": "code",
   "execution_count": 18,
   "outputs": [
    {
     "data": {
      "text/plain": "['devices/campus-vm/building-vm/Dnp3', 'udd-Dnp3.csv']"
     },
     "execution_count": 18,
     "metadata": {},
     "output_type": "execute_result"
    }
   ],
   "source": [
    "a.vip.rpc.call(peer='config.store',\n",
    "               method='manage_list_configs',\n",
    "               identity=PLATFORM_DRIVER,\n",
    "\n",
    "                          ).get()"
   ],
   "metadata": {
    "collapsed": false
   }
  },
  {
   "cell_type": "code",
   "execution_count": 17,
   "outputs": [],
   "source": [
    "a.vip.rpc.call('config.store',\n",
    "               'manage_delete_config',\n",
    "               PLATFORM_DRIVER,\n",
    "               \"modbus_tk_map.csv\"\n",
    "\n",
    "                          ).get()"
   ],
   "metadata": {
    "collapsed": false
   }
  },
  {
   "cell_type": "code",
   "execution_count": 12,
   "outputs": [
    {
     "data": {
      "text/plain": "['platform.driver']"
     },
     "execution_count": 12,
     "metadata": {},
     "output_type": "execute_result"
    }
   ],
   "source": [
    "a.vip.rpc.call('config.store',\n",
    "               'manage_list_stores',\n",
    "\n",
    "                          ).get()"
   ],
   "metadata": {
    "collapsed": false
   }
  },
  {
   "cell_type": "code",
   "execution_count": 13,
   "outputs": [
    {
     "name": "stdout",
     "output_type": "stream",
     "text": [
      "700a8c66-45af-42c0-90de-051972dd5a05 has timed out.\r\n",
      "eefc6700-33ee-4414-92fd-1635716a9179 has timed out.\r\n",
      "self.vip.rpc.call(config.store, delete_config, ['config_name', 'trigger_callback', 'send_update']).get()\r\n",
      "self.vip.rpc.call(config.store, get_configs).get()\r\n",
      "self.vip.rpc.call(config.store, manage_delete_config, ['identity', 'config_name']).get()\r\n",
      "self.vip.rpc.call(config.store, manage_delete_store, ['identity']).get()\r\n",
      "self.vip.rpc.call(config.store, manage_get, ['identity', 'config_name', 'raw']).get()\r\n",
      "self.vip.rpc.call(config.store, manage_get_metadata, ['identity', 'config_name']).get()\r\n",
      "self.vip.rpc.call(config.store, manage_list_configs, ['identity']).get()\r\n",
      "self.vip.rpc.call(config.store, manage_list_stores).get()\r\n",
      "self.vip.rpc.call(config.store, manage_store, ['identity', 'config_name', 'raw_contents', 'config_type']).get()\r\n",
      "self.vip.rpc.call(config.store, set_config, ['config_name', 'contents', 'trigger_callback', 'send_update']).get()\r\n",
      "self.vip.rpc.call(control, agent_name, ['uuid']).get()\r\n",
      "self.vip.rpc.call(control, agent_status, ['uuid']).get()\r\n",
      "self.vip.rpc.call(control, agent_version, ['uuid']).get()\r\n",
      "self.vip.rpc.call(control, agent_versions).get()\r\n",
      "self.vip.rpc.call(control, agent_vip_identity, ['uuid']).get()\r\n",
      "self.vip.rpc.call(control, clear_status, ['clear_all']).get()\r\n",
      "self.vip.rpc.call(control, get_all_agent_publickeys).get()\r\n",
      "self.vip.rpc.call(control, identity_exists, ['identity']).get()\r\n",
      "self.vip.rpc.call(control, install_agent, ['filename', 'channel_name', 'vip_identity', 'publickey', 'secretkey', 'force']).get()\r\n",
      "self.vip.rpc.call(control, install_agent_rmq, ['vip_identity', 'filename', 'topic', 'force', 'response_topic']).get()\r\n",
      "self.vip.rpc.call(control, list_agents).get()\r\n",
      "self.vip.rpc.call(control, peerlist).get()\r\n",
      "self.vip.rpc.call(control, prioritize_agent, ['uuid', 'priority']).get()\r\n",
      "self.vip.rpc.call(control, remove_agent, ['uuid', 'remove_auth']).get()\r\n",
      "self.vip.rpc.call(control, restart_agent, ['uuid']).get()\r\n",
      "self.vip.rpc.call(control, serverkey).get()\r\n",
      "self.vip.rpc.call(control, shutdown).get()\r\n",
      "self.vip.rpc.call(control, start_agent, ['uuid']).get()\r\n",
      "self.vip.rpc.call(control, status_agents, ['get_agent_user']).get()\r\n",
      "self.vip.rpc.call(control, stop_agent, ['uuid']).get()\r\n",
      "self.vip.rpc.call(control, stop_platform).get()\r\n",
      "self.vip.rpc.call(control, tag_agent, ['uuid', 'tag']).get()\r\n",
      "self.vip.rpc.call(platform.auth, add_rpc_authorizations, ['identity', 'method', 'authorizations']).get()\r\n",
      "self.vip.rpc.call(platform.auth, approve_authorization, ['user_id']).get()\r\n",
      "self.vip.rpc.call(platform.auth, delete_authorization, ['user_id']).get()\r\n",
      "self.vip.rpc.call(platform.auth, delete_rpc_authorizations, ['identity', 'method', 'denied_authorizations']).get()\r\n",
      "self.vip.rpc.call(platform.auth, deny_authorization, ['user_id']).get()\r\n",
      "self.vip.rpc.call(platform.auth, get_approved_authorizations).get()\r\n",
      "self.vip.rpc.call(platform.auth, get_authorization, ['common_name']).get()\r\n",
      "self.vip.rpc.call(platform.auth, get_authorization_status, ['common_name']).get()\r\n",
      "self.vip.rpc.call(platform.auth, get_authorizations, ['user_id']).get()\r\n",
      "self.vip.rpc.call(platform.auth, get_capabilities, ['user_id']).get()\r\n",
      "self.vip.rpc.call(platform.auth, get_denied_authorizations).get()\r\n",
      "self.vip.rpc.call(platform.auth, get_groups, ['user_id']).get()\r\n",
      "self.vip.rpc.call(platform.auth, get_pending_authorizations).get()\r\n",
      "self.vip.rpc.call(platform.auth, get_roles, ['user_id']).get()\r\n",
      "self.vip.rpc.call(platform.auth, get_user_to_capabilities).get()\r\n",
      "self.vip.rpc.call(platform.auth, update_id_rpc_authorizations, ['identity', 'rpc_methods']).get()\r\n",
      "self.vip.rpc.call(platform.health, get_platform_health).get()\r\n"
     ]
    }
   ],
   "source": [
    "! vctl rpc code"
   ],
   "metadata": {
    "collapsed": false
   }
  },
  {
   "cell_type": "code",
   "execution_count": 6,
   "outputs": [],
   "source": [],
   "metadata": {
    "collapsed": false
   }
  },
  {
   "cell_type": "code",
   "execution_count": 15,
   "outputs": [],
   "source": [
    "\n",
    "# configure store\n",
    "\n",
    "REGISTER_MAP = \"\"\"Register Name,Address,Type,Units,Writable,Default Value,Transform\n",
    "unsigned_short,0,uint16,None,TRUE,0,scale(10)\n",
    "unsigned_int,1,uint32,None,TRUE,0,scale(10)\n",
    "unsigned_long,3,uint64,None,TRUE,0,scale(10)\n",
    "sample_short,7,int16,None,TRUE,0,scale(10)\n",
    "sample_int,8,int32,None,TRUE,0,scale(10)\n",
    "sample_float,10,float,None,TRUE,0.0,scale(10)\n",
    "sample_long,12,int64,None,TRUE,0,scale(10)\n",
    "sample_bool,16,bool,None,TRUE,False,\n",
    "sample_str,17,string[12],None,TRUE,hello world!,\"\"\"\n",
    "\n",
    "a.vip.rpc.call('config.store',\n",
    "                          'manage_store',\n",
    "                          PLATFORM_DRIVER,\n",
    "                          'modbus_tk_map.csv',\n",
    "                          REGISTER_MAP,\n",
    "                          config_type='csv').get()"
   ],
   "metadata": {
    "collapsed": false
   }
  },
  {
   "cell_type": "code",
   "execution_count": 25,
   "outputs": [
    {
     "data": {
      "text/plain": "['devices/campus-vm/building-vm/Dnp3', 'modbus_tk_map.csv', 'udd-Dnp3.csv']"
     },
     "execution_count": 25,
     "metadata": {},
     "output_type": "execute_result"
    }
   ],
   "source": [
    "a.vip.rpc.call(peer='config.store',\n",
    "               method='manage_list_configs',\n",
    "               identity=PLATFORM_DRIVER,\n",
    "\n",
    "\n",
    "                          ).get()"
   ],
   "metadata": {
    "collapsed": false
   }
  },
  {
   "cell_type": "code",
   "execution_count": null,
   "outputs": [],
   "source": [],
   "metadata": {
    "collapsed": false
   }
  },
  {
   "cell_type": "code",
   "execution_count": 24,
   "outputs": [
    {
     "data": {
      "text/plain": "'Point Name,Volttron Point Name,Group,Variation,Index,Scaling,Units,Writable,Notes\\nAnalogInput_index0,AnalogInput_index0,30,6,0,1,NA,FALSE,Double Analogue input without status\\nAnalogInput_index1,AnalogInput_index1,30,6,1,1,NA,FALSE,Double Analogue input without status\\nAnalogInput_index2,AnalogInput_index2,30,6,2,1,NA,FALSE,Double Analogue input without status\\nAnalogInput_index3,AnalogInput_index3,30,6,3,1,NA,FALSE,Double Analogue input without status\\nBinaryInput_index0,BinaryInput_index0,1,2,0,1,NA,FALSE,Single bit binary input with status\\nBinaryInput_index1,BinaryInput_index1,1,2,1,1,NA,FALSE,Single bit binary input with status\\nBinaryInput_index2,BinaryInput_index2,1,2,2,1,NA,FALSE,Single bit binary input with status\\nBinaryInput_index3,BinaryInput_index3,1,2,3,1,NA,FALSE,Single bit binary input with status\\nAnalogOutput_index0,AnalogOutput_index0,40,4,0,1,NA,TRUE,Double-precision floating point with flags\\nAnalogOutput_index1,AnalogOutput_index1,40,4,1,1,NA,TRUE,Double-precision floating point with flags\\nAnalogOutput_index2,AnalogOutput_index2,40,4,2,1,NA,TRUE,Double-precision floating point with flags\\nAnalogOutput_index3,AnalogOutput_index3,40,4,3,1,NA,TRUE,Double-precision floating point with flags\\nBinaryOutput_index0,BinaryOutput_index0,10,2,0,1,NA,TRUE,Binary\\xa0Output with flags\\nBinaryOutput_index1,BinaryOutput_index1,10,2,1,1,NA,TRUE,Binary\\xa0Output with flags\\nBinaryOutput_index2,BinaryOutput_index2,10,2,2,1,NA,TRUE,Binary\\xa0Output with flags\\nBinaryOutput_index3,BinaryOutput_index3,10,2,3,1,NA,TRUE,Binary\\xa0Output with flags\\n'"
     },
     "execution_count": 24,
     "metadata": {},
     "output_type": "execute_result"
    }
   ],
   "source": [
    "a.vip.rpc.call('config.store',\n",
    "               'manage_get',\n",
    "               PLATFORM_DRIVER,\n",
    "               \"modbus_tk_map.csv\").get()\n",
    "\n",
    "csv_config_str = a.vip.rpc.call('config.store',\n",
    "               'manage_get',\n",
    "               PLATFORM_DRIVER,\n",
    "               \"udd-Dnp3.csv\").get()\n",
    "csv_config_str"
   ],
   "metadata": {
    "collapsed": false
   }
  },
  {
   "cell_type": "code",
   "execution_count": 10,
   "outputs": [],
   "source": [
    "\n",
    "my_string = REGISTER_MAP\n",
    "with open('/home/kefei/project/volttron/notebooks/my_file.csv', 'w') as out:\n",
    "    # lines = [','.join(line) for line in my_string.split(',')]\n",
    "    # my_string = '\\n'.join(lines)\n",
    "    out.write(my_string)"
   ],
   "metadata": {
    "collapsed": false
   }
  },
  {
   "cell_type": "code",
   "execution_count": 10,
   "outputs": [],
   "source": [],
   "metadata": {
    "collapsed": false
   }
  },
  {
   "cell_type": "code",
   "execution_count": 10,
   "outputs": [],
   "source": [],
   "metadata": {
    "collapsed": false
   }
  },
  {
   "cell_type": "code",
   "execution_count": 10,
   "outputs": [],
   "source": [],
   "metadata": {
    "collapsed": false
   }
  },
  {
   "cell_type": "code",
   "execution_count": 10,
   "outputs": [],
   "source": [],
   "metadata": {
    "collapsed": false
   }
  },
  {
   "cell_type": "code",
   "execution_count": 11,
   "id": "1aba49a5",
   "metadata": {},
   "outputs": [
    {
     "name": "stdout",
     "output_type": "stream",
     "text": [
      "[\r\n",
      "  {\r\n",
      "    \"Point Name\": \"AnalogInput_index0\",\r\n",
      "    \"Volttron Point Name\": \"AnalogInput_index0\",\r\n",
      "    \"Group\": \"30\",\r\n",
      "    \"Variation\": \"6\",\r\n",
      "    \"Index\": \"0\",\r\n",
      "    \"Scaling\": \"1\",\r\n",
      "    \"Units\": \"NA\",\r\n",
      "    \"Writable\": \"FALSE\",\r\n",
      "    \"Notes\": \"Double Analogue input without status\"\r\n",
      "  },\r\n",
      "  {\r\n",
      "    \"Point Name\": \"AnalogInput_index1\",\r\n",
      "    \"Volttron Point Name\": \"AnalogInput_index1\",\r\n",
      "    \"Group\": \"30\",\r\n",
      "    \"Variation\": \"6\",\r\n",
      "    \"Index\": \"1\",\r\n",
      "    \"Scaling\": \"1\",\r\n",
      "    \"Units\": \"NA\",\r\n",
      "    \"Writable\": \"FALSE\",\r\n",
      "    \"Notes\": \"Double Analogue input without status\"\r\n",
      "  },\r\n",
      "  {\r\n",
      "    \"Point Name\": \"AnalogInput_index2\",\r\n",
      "    \"Volttron Point Name\": \"AnalogInput_index2\",\r\n",
      "    \"Group\": \"30\",\r\n",
      "    \"Variation\": \"6\",\r\n",
      "    \"Index\": \"2\",\r\n",
      "    \"Scaling\": \"1\",\r\n",
      "    \"Units\": \"NA\",\r\n",
      "    \"Writable\": \"FALSE\",\r\n",
      "    \"Notes\": \"Double Analogue input without status\"\r\n",
      "  },\r\n",
      "  {\r\n",
      "    \"Point Name\": \"AnalogInput_index3\",\r\n",
      "    \"Volttron Point Name\": \"AnalogInput_index3\",\r\n",
      "    \"Group\": \"30\",\r\n",
      "    \"Variation\": \"6\",\r\n",
      "    \"Index\": \"3\",\r\n",
      "    \"Scaling\": \"1\",\r\n",
      "    \"Units\": \"NA\",\r\n",
      "    \"Writable\": \"FALSE\",\r\n",
      "    \"Notes\": \"Double Analogue input without status\"\r\n",
      "  },\r\n",
      "  {\r\n",
      "    \"Point Name\": \"BinaryInput_index0\",\r\n",
      "    \"Volttron Point Name\": \"BinaryInput_index0\",\r\n",
      "    \"Group\": \"1\",\r\n",
      "    \"Variation\": \"2\",\r\n",
      "    \"Index\": \"0\",\r\n",
      "    \"Scaling\": \"1\",\r\n",
      "    \"Units\": \"NA\",\r\n",
      "    \"Writable\": \"FALSE\",\r\n",
      "    \"Notes\": \"Single bit binary input with status\"\r\n",
      "  },\r\n",
      "  {\r\n",
      "    \"Point Name\": \"BinaryInput_index1\",\r\n",
      "    \"Volttron Point Name\": \"BinaryInput_index1\",\r\n",
      "    \"Group\": \"1\",\r\n",
      "    \"Variation\": \"2\",\r\n",
      "    \"Index\": \"1\",\r\n",
      "    \"Scaling\": \"1\",\r\n",
      "    \"Units\": \"NA\",\r\n",
      "    \"Writable\": \"FALSE\",\r\n",
      "    \"Notes\": \"Single bit binary input with status\"\r\n",
      "  },\r\n",
      "  {\r\n",
      "    \"Point Name\": \"BinaryInput_index2\",\r\n",
      "    \"Volttron Point Name\": \"BinaryInput_index2\",\r\n",
      "    \"Group\": \"1\",\r\n",
      "    \"Variation\": \"2\",\r\n",
      "    \"Index\": \"2\",\r\n",
      "    \"Scaling\": \"1\",\r\n",
      "    \"Units\": \"NA\",\r\n",
      "    \"Writable\": \"FALSE\",\r\n",
      "    \"Notes\": \"Single bit binary input with status\"\r\n",
      "  },\r\n",
      "  {\r\n",
      "    \"Point Name\": \"BinaryInput_index3\",\r\n",
      "    \"Volttron Point Name\": \"BinaryInput_index3\",\r\n",
      "    \"Group\": \"1\",\r\n",
      "    \"Variation\": \"2\",\r\n",
      "    \"Index\": \"3\",\r\n",
      "    \"Scaling\": \"1\",\r\n",
      "    \"Units\": \"NA\",\r\n",
      "    \"Writable\": \"FALSE\",\r\n",
      "    \"Notes\": \"Single bit binary input with status\"\r\n",
      "  },\r\n",
      "  {\r\n",
      "    \"Point Name\": \"AnalogOutput_index0\",\r\n",
      "    \"Volttron Point Name\": \"AnalogOutput_index0\",\r\n",
      "    \"Group\": \"40\",\r\n",
      "    \"Variation\": \"4\",\r\n",
      "    \"Index\": \"0\",\r\n",
      "    \"Scaling\": \"1\",\r\n",
      "    \"Units\": \"NA\",\r\n",
      "    \"Writable\": \"TRUE\",\r\n",
      "    \"Notes\": \"Double-precision floating point with flags\"\r\n",
      "  },\r\n",
      "  {\r\n",
      "    \"Point Name\": \"AnalogOutput_index1\",\r\n",
      "    \"Volttron Point Name\": \"AnalogOutput_index1\",\r\n",
      "    \"Group\": \"40\",\r\n",
      "    \"Variation\": \"4\",\r\n",
      "    \"Index\": \"1\",\r\n",
      "    \"Scaling\": \"1\",\r\n",
      "    \"Units\": \"NA\",\r\n",
      "    \"Writable\": \"TRUE\",\r\n",
      "    \"Notes\": \"Double-precision floating point with flags\"\r\n",
      "  },\r\n",
      "  {\r\n",
      "    \"Point Name\": \"AnalogOutput_index2\",\r\n",
      "    \"Volttron Point Name\": \"AnalogOutput_index2\",\r\n",
      "    \"Group\": \"40\",\r\n",
      "    \"Variation\": \"4\",\r\n",
      "    \"Index\": \"2\",\r\n",
      "    \"Scaling\": \"1\",\r\n",
      "    \"Units\": \"NA\",\r\n",
      "    \"Writable\": \"TRUE\",\r\n",
      "    \"Notes\": \"Double-precision floating point with flags\"\r\n",
      "  },\r\n",
      "  {\r\n",
      "    \"Point Name\": \"AnalogOutput_index3\",\r\n",
      "    \"Volttron Point Name\": \"AnalogOutput_index3\",\r\n",
      "    \"Group\": \"40\",\r\n",
      "    \"Variation\": \"4\",\r\n",
      "    \"Index\": \"3\",\r\n",
      "    \"Scaling\": \"1\",\r\n",
      "    \"Units\": \"NA\",\r\n",
      "    \"Writable\": \"TRUE\",\r\n",
      "    \"Notes\": \"Double-precision floating point with flags\"\r\n",
      "  },\r\n",
      "  {\r\n",
      "    \"Point Name\": \"BinaryOutput_index0\",\r\n",
      "    \"Volttron Point Name\": \"BinaryOutput_index0\",\r\n",
      "    \"Group\": \"10\",\r\n",
      "    \"Variation\": \"2\",\r\n",
      "    \"Index\": \"0\",\r\n",
      "    \"Scaling\": \"1\",\r\n",
      "    \"Units\": \"NA\",\r\n",
      "    \"Writable\": \"TRUE\",\r\n",
      "    \"Notes\": \"Binary\\u00a0Output with flags\"\r\n",
      "  },\r\n",
      "  {\r\n",
      "    \"Point Name\": \"BinaryOutput_index1\",\r\n",
      "    \"Volttron Point Name\": \"BinaryOutput_index1\",\r\n",
      "    \"Group\": \"10\",\r\n",
      "    \"Variation\": \"2\",\r\n",
      "    \"Index\": \"1\",\r\n",
      "    \"Scaling\": \"1\",\r\n",
      "    \"Units\": \"NA\",\r\n",
      "    \"Writable\": \"TRUE\",\r\n",
      "    \"Notes\": \"Binary\\u00a0Output with flags\"\r\n",
      "  },\r\n",
      "  {\r\n",
      "    \"Point Name\": \"BinaryOutput_index2\",\r\n",
      "    \"Volttron Point Name\": \"BinaryOutput_index2\",\r\n",
      "    \"Group\": \"10\",\r\n",
      "    \"Variation\": \"2\",\r\n",
      "    \"Index\": \"2\",\r\n",
      "    \"Scaling\": \"1\",\r\n",
      "    \"Units\": \"NA\",\r\n",
      "    \"Writable\": \"TRUE\",\r\n",
      "    \"Notes\": \"Binary\\u00a0Output with flags\"\r\n",
      "  },\r\n",
      "  {\r\n",
      "    \"Point Name\": \"BinaryOutput_index3\",\r\n",
      "    \"Volttron Point Name\": \"BinaryOutput_index3\",\r\n",
      "    \"Group\": \"10\",\r\n",
      "    \"Variation\": \"2\",\r\n",
      "    \"Index\": \"3\",\r\n",
      "    \"Scaling\": \"1\",\r\n",
      "    \"Units\": \"NA\",\r\n",
      "    \"Writable\": \"TRUE\",\r\n",
      "    \"Notes\": \"Binary\\u00a0Output with flags\"\r\n",
      "  }\r\n",
      "]\r\n"
     ]
    }
   ],
   "source": [
    "! vctl config get platform.driver udd-Dnp3.csv"
   ]
  },
  {
   "cell_type": "code",
   "execution_count": 12,
   "id": "701aa33c",
   "metadata": {},
   "outputs": [
    {
     "name": "stdout",
     "output_type": "stream",
     "text": [
      "{\r\n",
      "  \"driver_config\": {\r\n",
      "    \"master_ip\": \"0.0.0.0\",\r\n",
      "    \"outstation_ip\": \"127.0.0.1\",\r\n",
      "    \"master_id\": 2,\r\n",
      "    \"outstation_id\": 1,\r\n",
      "    \"port\": 20000\r\n",
      "  },\r\n",
      "  \"registry_config\": \"config://udd-Dnp3.csv\",\r\n",
      "  \"driver_type\": \"udd_dnp3\",\r\n",
      "  \"interval\": 5,\r\n",
      "  \"timezone\": \"UTC\",\r\n",
      "  \"campus\": \"campus-vm\",\r\n",
      "  \"building\": \"building-vm\",\r\n",
      "  \"unit\": \"Dnp3\",\r\n",
      "  \"publish_depth_first_all\": true,\r\n",
      "  \"heart_beat_point\": \"random_bool\"\r\n",
      "}\r\n"
     ]
    }
   ],
   "source": [
    "! vctl config get platform.driver devices/campus-vm/building-vm/Dnp3"
   ]
  },
  {
   "cell_type": "code",
   "execution_count": 13,
   "id": "563c2926",
   "metadata": {},
   "outputs": [],
   "source": [
    "# campus-vm/building-vm/Dnp3"
   ]
  },
  {
   "cell_type": "code",
   "execution_count": 19,
   "id": "8024b8e2",
   "metadata": {},
   "outputs": [
    {
     "name": "stdout",
     "output_type": "stream",
     "text": [
      "Starting 5fba478e-016b-4c7f-a3eb-9aed201592f2 listeneragent-3.3\r\n",
      "Starting 5610fc87-cde8-4c40-9751-d20a9f4c6b3b platform_driveragent-4.0\r\n"
     ]
    }
   ],
   "source": [
    "! vctl start --tag listener platform_driver"
   ]
  },
  {
   "cell_type": "code",
   "execution_count": 15,
   "id": "42bbc6e7",
   "metadata": {},
   "outputs": [
    {
     "name": "stdout",
     "output_type": "stream",
     "text": [
      "Stopping 5fba478e-016b-4c7f-a3eb-9aed201592f2 listeneragent-3.3\r\n",
      "Stopping 5610fc87-cde8-4c40-9751-d20a9f4c6b3b platform_driveragent-4.0\r\n"
     ]
    }
   ],
   "source": [
    "! vctl stop --tag listener platform_driver"
   ]
  },
  {
   "cell_type": "code",
   "execution_count": 4,
   "id": "bc3a3e9e",
   "metadata": {},
   "outputs": [
    {
     "data": {
      "text/plain": "2.908299081716615"
     },
     "execution_count": 4,
     "metadata": {},
     "output_type": "execute_result"
    }
   ],
   "source": [
    "a.vip.rpc.call(\"platform.driver\", \"get_point\",\n",
    "              \"campus-vm/building-vm/Dnp3\", \n",
    "               \"AnalogInput_index0\").get(timeout=5)"
   ]
  },
  {
   "cell_type": "code",
   "execution_count": 3,
   "outputs": [
    {
     "ename": "RemoteError",
     "evalue": "builtins.KeyError('campus-vm/building-vm/Dnp3-wrong')",
     "output_type": "error",
     "traceback": [
      "\u001B[0;31m---------------------------------------------------------------------------\u001B[0m",
      "\u001B[0;31mRemoteError\u001B[0m                               Traceback (most recent call last)",
      "Cell \u001B[0;32mIn [3], line 2\u001B[0m\n\u001B[1;32m      1\u001B[0m \u001B[38;5;66;03m# wrong parameter on purpose\u001B[39;00m\n\u001B[0;32m----> 2\u001B[0m a\u001B[38;5;241m.\u001B[39mvip\u001B[38;5;241m.\u001B[39mrpc\u001B[38;5;241m.\u001B[39mcall(\u001B[38;5;124m\"\u001B[39m\u001B[38;5;124mplatform.driver\u001B[39m\u001B[38;5;124m\"\u001B[39m, \u001B[38;5;124m\"\u001B[39m\u001B[38;5;124mget_point\u001B[39m\u001B[38;5;124m\"\u001B[39m,\n\u001B[1;32m      3\u001B[0m               \u001B[38;5;124m\"\u001B[39m\u001B[38;5;124mcampus-vm/building-vm/Dnp3-wrong\u001B[39m\u001B[38;5;124m\"\u001B[39m,\n\u001B[1;32m      4\u001B[0m                \u001B[38;5;124m\"\u001B[39m\u001B[38;5;124mAnalogInput_index0\u001B[39m\u001B[38;5;124m\"\u001B[39m)\u001B[38;5;241m.\u001B[39mget(timeout\u001B[38;5;241m=\u001B[39m\u001B[38;5;241m5\u001B[39m)\n",
      "File \u001B[0;32msrc/gevent/event.py:329\u001B[0m, in \u001B[0;36mgevent._gevent_cevent.AsyncResult.get\u001B[0;34m()\u001B[0m\n",
      "File \u001B[0;32msrc/gevent/event.py:359\u001B[0m, in \u001B[0;36mgevent._gevent_cevent.AsyncResult.get\u001B[0;34m()\u001B[0m\n",
      "File \u001B[0;32msrc/gevent/event.py:329\u001B[0m, in \u001B[0;36mgevent._gevent_cevent.AsyncResult.get\u001B[0;34m()\u001B[0m\n",
      "File \u001B[0;32msrc/gevent/event.py:329\u001B[0m, in \u001B[0;36mgevent._gevent_cevent.AsyncResult.get\u001B[0;34m()\u001B[0m\n",
      "File \u001B[0;32msrc/gevent/event.py:347\u001B[0m, in \u001B[0;36mgevent._gevent_cevent.AsyncResult.get\u001B[0;34m()\u001B[0m\n",
      "File \u001B[0;32msrc/gevent/event.py:327\u001B[0m, in \u001B[0;36mgevent._gevent_cevent.AsyncResult._raise_exception\u001B[0;34m()\u001B[0m\n",
      "File \u001B[0;32m~/project/volttron/env/lib/python3.8/site-packages/gevent/_compat.py:66\u001B[0m, in \u001B[0;36mreraise\u001B[0;34m(t, value, tb)\u001B[0m\n\u001B[1;32m     64\u001B[0m \u001B[38;5;28;01mif\u001B[39;00m value\u001B[38;5;241m.\u001B[39m__traceback__ \u001B[38;5;129;01mis\u001B[39;00m \u001B[38;5;129;01mnot\u001B[39;00m tb \u001B[38;5;129;01mand\u001B[39;00m tb \u001B[38;5;129;01mis\u001B[39;00m \u001B[38;5;129;01mnot\u001B[39;00m \u001B[38;5;28;01mNone\u001B[39;00m:\n\u001B[1;32m     65\u001B[0m     \u001B[38;5;28;01mraise\u001B[39;00m value\u001B[38;5;241m.\u001B[39mwith_traceback(tb)\n\u001B[0;32m---> 66\u001B[0m \u001B[38;5;28;01mraise\u001B[39;00m value\n",
      "\u001B[0;31mRemoteError\u001B[0m: builtins.KeyError('campus-vm/building-vm/Dnp3-wrong')"
     ]
    },
    {
     "name": "stderr",
     "output_type": "stream",
     "text": [
      "2022-10-26 13:44:23,488 volttron.platform.vip.agent.subsystems.auth WARNING: Auth entry not found for de4cb51b-2898-4497-bfdf-c178e6900eec: rpc_method_authorizations not updated. If this agent does have an auth entry, verify that the 'identity' field has been included in the auth entry. This should be set to the identity of the agent\n"
     ]
    }
   ],
   "source": [
    "# wrong parameter on purpose\n",
    "a.vip.rpc.call(\"platform.driver\", \"get_point\",\n",
    "              \"campus-vm/building-vm/Dnp3-wrong\",\n",
    "               \"AnalogInput_index0\").get(timeout=5)"
   ],
   "metadata": {
    "collapsed": false
   }
  },
  {
   "cell_type": "code",
   "execution_count": 23,
   "outputs": [
    {
     "ename": "RemoteError",
     "evalue": "platform_driver.interfaces.DriverInterfaceError('Point not configured on device: AnalogInput_index0-wrong')",
     "output_type": "error",
     "traceback": [
      "\u001B[0;31m---------------------------------------------------------------------------\u001B[0m",
      "\u001B[0;31mRemoteError\u001B[0m                               Traceback (most recent call last)",
      "Cell \u001B[0;32mIn [23], line 2\u001B[0m\n\u001B[1;32m      1\u001B[0m \u001B[38;5;66;03m# wrong parameter on purpose\u001B[39;00m\n\u001B[0;32m----> 2\u001B[0m a\u001B[38;5;241m.\u001B[39mvip\u001B[38;5;241m.\u001B[39mrpc\u001B[38;5;241m.\u001B[39mcall(\u001B[38;5;124m\"\u001B[39m\u001B[38;5;124mplatform.driver\u001B[39m\u001B[38;5;124m\"\u001B[39m, \u001B[38;5;124m\"\u001B[39m\u001B[38;5;124mget_point\u001B[39m\u001B[38;5;124m\"\u001B[39m,\n\u001B[1;32m      3\u001B[0m               \u001B[38;5;124m\"\u001B[39m\u001B[38;5;124mcampus-vm/building-vm/Dnp3\u001B[39m\u001B[38;5;124m\"\u001B[39m,\n\u001B[1;32m      4\u001B[0m                \u001B[38;5;124m\"\u001B[39m\u001B[38;5;124mAnalogInput_index0-wrong\u001B[39m\u001B[38;5;124m\"\u001B[39m)\u001B[38;5;241m.\u001B[39mget(timeout\u001B[38;5;241m=\u001B[39m\u001B[38;5;241m5\u001B[39m)\n",
      "File \u001B[0;32msrc/gevent/event.py:329\u001B[0m, in \u001B[0;36mgevent._gevent_cevent.AsyncResult.get\u001B[0;34m()\u001B[0m\n",
      "File \u001B[0;32msrc/gevent/event.py:359\u001B[0m, in \u001B[0;36mgevent._gevent_cevent.AsyncResult.get\u001B[0;34m()\u001B[0m\n",
      "File \u001B[0;32msrc/gevent/event.py:329\u001B[0m, in \u001B[0;36mgevent._gevent_cevent.AsyncResult.get\u001B[0;34m()\u001B[0m\n",
      "File \u001B[0;32msrc/gevent/event.py:329\u001B[0m, in \u001B[0;36mgevent._gevent_cevent.AsyncResult.get\u001B[0;34m()\u001B[0m\n",
      "File \u001B[0;32msrc/gevent/event.py:347\u001B[0m, in \u001B[0;36mgevent._gevent_cevent.AsyncResult.get\u001B[0;34m()\u001B[0m\n",
      "File \u001B[0;32msrc/gevent/event.py:327\u001B[0m, in \u001B[0;36mgevent._gevent_cevent.AsyncResult._raise_exception\u001B[0;34m()\u001B[0m\n",
      "File \u001B[0;32m~/project/volttron/env/lib/python3.8/site-packages/gevent/_compat.py:66\u001B[0m, in \u001B[0;36mreraise\u001B[0;34m(t, value, tb)\u001B[0m\n\u001B[1;32m     64\u001B[0m \u001B[38;5;28;01mif\u001B[39;00m value\u001B[38;5;241m.\u001B[39m__traceback__ \u001B[38;5;129;01mis\u001B[39;00m \u001B[38;5;129;01mnot\u001B[39;00m tb \u001B[38;5;129;01mand\u001B[39;00m tb \u001B[38;5;129;01mis\u001B[39;00m \u001B[38;5;129;01mnot\u001B[39;00m \u001B[38;5;28;01mNone\u001B[39;00m:\n\u001B[1;32m     65\u001B[0m     \u001B[38;5;28;01mraise\u001B[39;00m value\u001B[38;5;241m.\u001B[39mwith_traceback(tb)\n\u001B[0;32m---> 66\u001B[0m \u001B[38;5;28;01mraise\u001B[39;00m value\n",
      "\u001B[0;31mRemoteError\u001B[0m: platform_driver.interfaces.DriverInterfaceError('Point not configured on device: AnalogInput_index0-wrong')"
     ]
    }
   ],
   "source": [
    "# wrong parameter on purpose\n",
    "a.vip.rpc.call(\"platform.driver\", \"get_point\",\n",
    "              \"campus-vm/building-vm/Dnp3\",\n",
    "               \"AnalogInput_index0-wrong\").get(timeout=5)"
   ],
   "metadata": {
    "collapsed": false
   }
  },
  {
   "cell_type": "code",
   "execution_count": null,
   "id": "96ce1487",
   "metadata": {
    "scrolled": false
   },
   "outputs": [],
   "source": [
    "from time import sleep\n",
    "import datetime\n",
    "while True:\n",
    "    sleep(5)\n",
    "    rs = a.vip.rpc.call(\"platform.driver\", \"get_point\",\n",
    "                  \"campus-vm/building-vm/Dnp3\", \n",
    "                   \"AnalogInput_index0\").get()\n",
    "    print(datetime.datetime.now(), rs)"
   ]
  },
  {
   "cell_type": "code",
   "execution_count": null,
   "id": "ebb41483",
   "metadata": {
    "scrolled": false
   },
   "outputs": [],
   "source": [
    "import datetime\n",
    "rs = a.vip.rpc.call(\"platform.driver\", \"set_point\",\n",
    "              \"campus-vm/building-vm/Dnp3\", \n",
    "               \"AnalogOutput_index0\", 7.8766).get()\n",
    "print(datetime.datetime.now(), rs)"
   ]
  },
  {
   "cell_type": "code",
   "execution_count": null,
   "id": "9c203e40",
   "metadata": {},
   "outputs": [],
   "source": [
    "# verify with retrieving value workflow\n",
    "rs = a.vip.rpc.call(\"platform.driver\", \"get_point\",\n",
    "              \"campus-vm/building-vm/Dnp3\", \n",
    "               \"AnalogOutput_index0\").get()\n",
    "print(datetime.datetime.now(), rs)"
   ]
  },
  {
   "cell_type": "code",
   "execution_count": null,
   "id": "2247ed58",
   "metadata": {},
   "outputs": [],
   "source": [
    "# from volttron.platform.vip.agent.utils import build_agent\n",
    "# a = build_agent()\n",
    "# rs = a.vip.rpc.call(\"platform.driver\", \"set_point\",\n",
    "#               \"campus-vm/building-vm/Dnp3\", \n",
    "#                \"AnalogOutput_index0\", 6.67).get()"
   ]
  },
  {
   "cell_type": "code",
   "execution_count": null,
   "id": "58e49f68",
   "metadata": {
    "scrolled": false
   },
   "outputs": [],
   "source": [
    "from time import sleep\n",
    "# import datetime\n",
    "import random\n",
    "while True:\n",
    "    sleep(5)\n",
    "    print(\"=======================\")\n",
    "    val_to_set = random.random()\n",
    "    print(f\"val to set {val_to_set}\")\n",
    "    rs = a.vip.rpc.call(\"platform.driver\", \"set_point\",\n",
    "              \"campus-vm/building-vm/Dnp3\", \n",
    "               \"AnalogOutput_index0\", val_to_set).get()\n",
    "    print(datetime.datetime.now(), rs)\n",
    "    \n",
    "#     sleep(1)\n",
    "    \n",
    "    # verify\n",
    "    rs = a.vip.rpc.call(\"platform.driver\", \"get_point\",\n",
    "              \"campus-vm/building-vm/Dnp3\", \n",
    "               \"AnalogOutput_index0\").get()\n",
    "    print(datetime.datetime.now(), rs)"
   ]
  },
  {
   "cell_type": "code",
   "execution_count": null,
   "id": "821d6c0c",
   "metadata": {},
   "outputs": [],
   "source": []
  }
 ],
 "metadata": {
  "kernelspec": {
   "display_name": "Python 3 (ipykernel)",
   "language": "python",
   "name": "python3"
  },
  "language_info": {
   "codemirror_mode": {
    "name": "ipython",
    "version": 3
   },
   "file_extension": ".py",
   "mimetype": "text/x-python",
   "name": "python",
   "nbconvert_exporter": "python",
   "pygments_lexer": "ipython3",
   "version": "3.8.10"
  }
 },
 "nbformat": 4,
 "nbformat_minor": 5
}
