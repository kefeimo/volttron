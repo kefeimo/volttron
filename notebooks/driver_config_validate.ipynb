{
 "cells": [
  {
   "cell_type": "code",
   "execution_count": 1,
   "id": "8b6ae8fa",
   "metadata": {},
   "outputs": [],
   "source": [
    "csv_config =[{'Point Name': 'Heartbeat', 'Volttron Point Name': 'Heartbeat', 'Units': 'On/Off',\n",
    "            'Units Details': 'On/Off', 'Writable': 'TRUE', 'Starting Value': '0', 'Type': 'boolean',\n",
    "            'Notes': 'Point for heartbeat toggle'},\n",
    "            {'Point Name': 'Catfact', 'Volttron Point Name': 'Catfact', 'Units': 'No cat fact',\n",
    "            'Units Details': 'No cat fact', 'Writable': 'TRUE', 'Starting Value': 'No cat fact', 'Type': 'str',\n",
    "            'Notes': 'Cat fact extract from REST API'}]"
   ]
  },
  {
   "cell_type": "code",
   "execution_count": 35,
   "id": "63828175",
   "metadata": {},
   "outputs": [],
   "source": [
    "csv_config_ok =[{'Point Name': 'Heartbeat', 'Volttron Point Name': 'Heartbeat', 'Units': 'On/Off',\n",
    "            'Units Details': 'On/Off', 'read_only': 'TRUE', 'default Value': '0', 'Data Type': 'boolean',\n",
    "            'Description': 'Point for heartbeat toggle'},\n",
    "            {'Point Name': 'Catfact', 'Volttron Point Name': 'Catfact', 'Units': 'No cat fact',\n",
    "            'Units Details': 'No cat fact', 'read_only': 'TRUE', 'default Value': 'No cat fact', 'Data Type': 'str',\n",
    "            'Description': 'Cat fact extract from REST API'}]"
   ]
  },
  {
   "cell_type": "code",
   "execution_count": 2,
   "id": "8d48c614",
   "metadata": {},
   "outputs": [
    {
     "data": {
      "text/plain": [
       "{'Point Name': 'Heartbeat',\n",
       " 'Volttron Point Name': 'Heartbeat',\n",
       " 'Units': 'On/Off',\n",
       " 'Units Details': 'On/Off',\n",
       " 'Writable': 'TRUE',\n",
       " 'Starting Value': '0',\n",
       " 'Type': 'boolean',\n",
       " 'Notes': 'Point for heartbeat toggle'}"
      ]
     },
     "execution_count": 2,
     "metadata": {},
     "output_type": "execute_result"
    }
   ],
   "source": [
    "point_config = csv_config[0]\n",
    "point_config"
   ]
  },
  {
   "cell_type": "code",
   "execution_count": 42,
   "id": "a1aa6444",
   "metadata": {},
   "outputs": [],
   "source": [
    "def _validate_header(point_config: dict):\n",
    "    \"\"\"\n",
    "    Require the header include the following keys \n",
    "    \"PointName\", \"DataType\", \"Units\", \"ReadOnly\", \"DefaultValue\", \"Description\"\n",
    "    (or allow parsing with minimal effort)\n",
    "    \"PointName\" <- \"Point Name\", \"point name\", \"point-name\", but not \"point names\" or \"the point name\" \n",
    "    Parameters\n",
    "    ----------\n",
    "    point_config\n",
    "\n",
    "    Returns\n",
    "    -------\n",
    "\n",
    "    \"\"\"\n",
    "    def _to_alpha_lower(key: str):\n",
    "        return ''.join([x.lower() for x in key if x.isalpha()])\n",
    "    \n",
    "    new_dict = {_to_alpha_lower(k): v for k,v in point_config.items()}\n",
    "    new_keys = new_dict.keys()\n",
    "        \n",
    "    standardized_valid_names = [\"PointName\", \"DataType\", \"Units\", \"ReadOnly\", \"DefaultValue\", \"Description\"]\n",
    "    for valid_name in standardized_valid_names:\n",
    "        if valid_name.lower() not in new_keys:\n",
    "            raise ValueError (f\"`{valid_name}` is not in the config\")\n",
    "    return new_dict"
   ]
  },
  {
   "cell_type": "code",
   "execution_count": 13,
   "id": "90bff1f4",
   "metadata": {},
   "outputs": [
    {
     "data": {
      "text/plain": [
       "'toalphalower'"
      ]
     },
     "execution_count": 13,
     "metadata": {},
     "output_type": "execute_result"
    }
   ],
   "source": [
    "key = \"_to_alpha_lower\"\n",
    "''.join([x.lower() for x in key if x.isalpha()])"
   ]
  },
  {
   "cell_type": "code",
   "execution_count": 43,
   "id": "607b2733",
   "metadata": {},
   "outputs": [
    {
     "ename": "ValueError",
     "evalue": "`DataType` is not in the config",
     "output_type": "error",
     "traceback": [
      "\u001b[0;31m---------------------------------------------------------------------------\u001b[0m",
      "\u001b[0;31mValueError\u001b[0m                                Traceback (most recent call last)",
      "Input \u001b[0;32mIn [43]\u001b[0m, in \u001b[0;36m<cell line: 2>\u001b[0;34m()\u001b[0m\n\u001b[1;32m      1\u001b[0m \u001b[38;5;66;03m# failed example\u001b[39;00m\n\u001b[0;32m----> 2\u001b[0m \u001b[43m_validate_header\u001b[49m\u001b[43m(\u001b[49m\u001b[43mpoint_config\u001b[49m\u001b[43m)\u001b[49m\n",
      "Input \u001b[0;32mIn [42]\u001b[0m, in \u001b[0;36m_validate_header\u001b[0;34m(point_config)\u001b[0m\n\u001b[1;32m     22\u001b[0m \u001b[38;5;28;01mfor\u001b[39;00m valid_name \u001b[38;5;129;01min\u001b[39;00m standardized_valid_names:\n\u001b[1;32m     23\u001b[0m     \u001b[38;5;28;01mif\u001b[39;00m valid_name\u001b[38;5;241m.\u001b[39mlower() \u001b[38;5;129;01mnot\u001b[39;00m \u001b[38;5;129;01min\u001b[39;00m new_keys:\n\u001b[0;32m---> 24\u001b[0m         \u001b[38;5;28;01mraise\u001b[39;00m \u001b[38;5;167;01mValueError\u001b[39;00m (\u001b[38;5;124mf\u001b[39m\u001b[38;5;124m\"\u001b[39m\u001b[38;5;124m`\u001b[39m\u001b[38;5;132;01m{\u001b[39;00mvalid_name\u001b[38;5;132;01m}\u001b[39;00m\u001b[38;5;124m` is not in the config\u001b[39m\u001b[38;5;124m\"\u001b[39m)\n\u001b[1;32m     25\u001b[0m \u001b[38;5;28;01mreturn\u001b[39;00m new_dict\n",
      "\u001b[0;31mValueError\u001b[0m: `DataType` is not in the config"
     ]
    }
   ],
   "source": [
    "# failed example\n",
    "_validate_header(point_config)"
   ]
  },
  {
   "cell_type": "code",
   "execution_count": 44,
   "id": "c04bad7f",
   "metadata": {},
   "outputs": [
    {
     "data": {
      "text/plain": [
       "{'pointname': 'Heartbeat',\n",
       " 'volttronpointname': 'Heartbeat',\n",
       " 'units': 'On/Off',\n",
       " 'unitsdetails': 'On/Off',\n",
       " 'readonly': 'TRUE',\n",
       " 'defaultvalue': '0',\n",
       " 'datatype': 'boolean',\n",
       " 'description': 'Point for heartbeat toggle'}"
      ]
     },
     "execution_count": 44,
     "metadata": {},
     "output_type": "execute_result"
    }
   ],
   "source": [
    "_validate_header(csv_config_ok[0])"
   ]
  },
  {
   "cell_type": "code",
   "execution_count": null,
   "id": "899bd8f4",
   "metadata": {},
   "outputs": [],
   "source": [
    "# def _para_from_dict(valid_point_config: dict):\n",
    "#     \"\"\"\n",
    "#     Return a tuple of\n",
    "#     point_name: str, data_type: str, units: str, read_only: bool,\n",
    "#     default_value=None, description=''\n",
    "#     \"\"\"\n",
    "#     point_name = valid_point_config.get(\"pointname\")\n",
    "#     data_type = valid_point_config.get(\"datatype\")\n",
    "#     units = valid_point_config.get(\"units\")\n",
    "#     read_only = valid_point_config.get(\"readonly\")\n",
    "#     default_value = valid_point_config.get(\"defaultvalue\")\n",
    "#     description = valid_point_config.get(\"description\")\n",
    "#     return point_name: str, data_type: str, units: str, read_only: bool,\n",
    "#     default_value=None, description=''"
   ]
  },
  {
   "cell_type": "code",
   "execution_count": 46,
   "id": "110d63cc",
   "metadata": {},
   "outputs": [],
   "source": [
    "from typing import List"
   ]
  },
  {
   "cell_type": "code",
   "execution_count": 53,
   "id": "71b099be",
   "metadata": {},
   "outputs": [],
   "source": [
    "class DriverConfig():\n",
    "    csv_config: List[dict]\n",
    "    \"\"\"\n",
    "    For validate driver configuration, e.g., driver-config.csv\n",
    "    \"\"\"\n",
    "    def __init__(self, csv_config: List[dict]):\n",
    "        self.csv_config: List[dict] = csv_config\n",
    "        \"\"\"\n",
    "\n",
    "        Parameters\n",
    "        ----------\n",
    "        csv_config\n",
    "\n",
    "        Returns\n",
    "        -------\n",
    "        Examples:\n",
    "            [{'Point Name': 'Heartbeat', 'Volttron Point Name': 'Heartbeat', 'Units': 'On/Off',\n",
    "            'Units Details': 'On/Off', 'Writable': 'TRUE', 'Starting Value': '0', 'Type': 'boolean',\n",
    "            'Notes': 'Point for heartbeat toggle'},\n",
    "            {'Point Name': 'Catfact', 'Volttron Point Name': 'Catfact', 'Units': 'No cat fact',\n",
    "            'Units Details': 'No cat fact', 'Writable': 'TRUE', 'Starting Value': 'No cat fact', 'Type': 'str',\n",
    "            'Notes': 'Cat fact extract from REST API'}]\n",
    "        \"\"\"\n",
    "        \n",
    "\n",
    "    @staticmethod\n",
    "    def _validate_header(point_config: dict):\n",
    "        \"\"\"\n",
    "        Require the header include the following keys\n",
    "        \"PointName\", \"DataType\", \"Units\", \"ReadOnly\", \"DefaultValue\", \"Description\"\n",
    "        (or allow parsing with minimal effort)\n",
    "        \"PointName\" <- \"Point Name\", \"point name\", \"point-name\", but not \"point names\" or \"the point name\"\n",
    "        Parameters\n",
    "        ----------\n",
    "        point_config\n",
    "\n",
    "        Returns\n",
    "        -------\n",
    "\n",
    "        \"\"\"\n",
    "\n",
    "        def _to_alpha_lower(key: str):\n",
    "            return ''.join([x.lower() for x in key if x.isalpha()])\n",
    "\n",
    "        new_dict = {_to_alpha_lower(k): v for k, v in point_config.items()}\n",
    "        new_keys = new_dict.keys()\n",
    "\n",
    "        standardized_valid_names = [\"PointName\", \"DataType\", \"Units\", \"ReadOnly\", \"DefaultValue\", \"Description\"]\n",
    "        for valid_name in standardized_valid_names:\n",
    "            if valid_name.lower() not in new_keys:\n",
    "                raise ValueError(f\"`{valid_name}` is not in the config\")\n",
    "        return new_dict\n",
    "\n",
    "    def key_validate(self) -> List[dict]:\n",
    "        \"\"\"\n",
    "\n",
    "        Returns\n",
    "            EXAMPLE: \n",
    "            {'pointname': 'Heartbeat',\n",
    "            'datatype': 'boolean',\n",
    "            'units': 'On/Off',\n",
    "            'readonly': 'TRUE',\n",
    "            'defaultvalue': '0',\n",
    "            'description': 'Point for heartbeat toggle',\n",
    "            'volttronpointname': 'Heartbeat',            \n",
    "            'unitsdetails': 'On/Off'}\n",
    "        -------\n",
    "\n",
    "        \"\"\"\n",
    "        key_validate_csv = [self._validate_header(point_config) for point_config in self.csv_config]\n",
    "        return key_validate_csv"
   ]
  },
  {
   "cell_type": "code",
   "execution_count": 56,
   "id": "c640a216",
   "metadata": {},
   "outputs": [
    {
     "ename": "TypeError",
     "evalue": "DriverConfig() takes no arguments",
     "output_type": "error",
     "traceback": [
      "\u001b[0;31m---------------------------------------------------------------------------\u001b[0m",
      "\u001b[0;31mTypeError\u001b[0m                                 Traceback (most recent call last)",
      "Input \u001b[0;32mIn [56]\u001b[0m, in \u001b[0;36m<cell line: 2>\u001b[0;34m()\u001b[0m\n\u001b[1;32m      1\u001b[0m csv_config_ok\n\u001b[0;32m----> 2\u001b[0m driver_config\u001b[38;5;241m=\u001b[39m \u001b[43mDriverConfig\u001b[49m\u001b[43m(\u001b[49m\u001b[43mcsv_config_ok\u001b[49m\u001b[43m)\u001b[49m\n\u001b[1;32m      3\u001b[0m valid_csv_config \u001b[38;5;241m=\u001b[39m driver_config\u001b[38;5;241m.\u001b[39mkey_validate()\n",
      "\u001b[0;31mTypeError\u001b[0m: DriverConfig() takes no arguments"
     ]
    }
   ],
   "source": [
    "csv_config_ok\n",
    "driver_config = DriverConfig(csv_config_ok)\n",
    "valid_csv_config = driver_config.key_validate()"
   ]
  },
  {
   "cell_type": "code",
   "execution_count": null,
   "id": "ced15125",
   "metadata": {},
   "outputs": [],
   "source": []
  }
 ],
 "metadata": {
  "kernelspec": {
   "display_name": "Python 3 (ipykernel)",
   "language": "python",
   "name": "python3"
  },
  "language_info": {
   "codemirror_mode": {
    "name": "ipython",
    "version": 3
   },
   "file_extension": ".py",
   "mimetype": "text/x-python",
   "name": "python",
   "nbconvert_exporter": "python",
   "pygments_lexer": "ipython3",
   "version": "3.8.10"
  }
 },
 "nbformat": 4,
 "nbformat_minor": 5
}
