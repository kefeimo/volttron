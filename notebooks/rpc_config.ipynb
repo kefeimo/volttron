{
 "cells": [
  {
   "cell_type": "code",
   "execution_count": 1,
   "metadata": {
    "collapsed": true
   },
   "outputs": [],
   "source": [
    "from volttron.platform.vip.agent.utils import build_agent\n",
    "from volttron.platform.agent.known_identities import PLATFORM_DRIVER\n"
   ]
  },
  {
   "cell_type": "code",
   "execution_count": 2,
   "outputs": [
    {
     "name": "stderr",
     "output_type": "stream",
     "text": [
      "2022-10-26 14:49:31,465 root DEBUG: Creating ZMQ Core None\n",
      "2022-10-26 14:49:31,466 volttron.platform.vip.agent.core DEBUG: address: ipc://@/home/kefei/.volttron/run/vip.socket\n",
      "2022-10-26 14:49:31,467 volttron.platform.vip.agent.core DEBUG: identity: 98956b2b-0365-43d4-9f27-d5b8a776a409\n",
      "2022-10-26 14:49:31,468 volttron.platform.vip.agent.core DEBUG: agent_uuid: None\n",
      "2022-10-26 14:49:31,469 volttron.platform.vip.agent.core DEBUG: serverkey: None\n",
      "2022-10-26 14:49:31,681 volttron.platform.vip.agent.core DEBUG: AGENT RUNNING on ZMQ Core 98956b2b-0365-43d4-9f27-d5b8a776a409\n",
      "2022-10-26 14:49:31,684 volttron.platform.vip.agent.core INFO: CORE address:ipc://@/home/kefei/.volttron/run/vip.socket?publickey=AtHKs50YJxE3okzMqKtfpYGhQHUBRrjZHJdUJNMEJG8&secretkey=6uA1gKcZEFsWyqT6hXKcKrjjFFvU9mRyVgcPF2ckSzY&serverkey=AtHKs50YJxE3okzMqKtfpYGhQHUBRrjZHJdUJNMEJG8\n",
      "2022-10-26 14:49:31,685 volttron.platform.vip.zmq_connection DEBUG: ZMQ connection 98956b2b-0365-43d4-9f27-d5b8a776a409\n",
      "2022-10-26 14:49:31,687 volttron.platform.vip.zmq_connection DEBUG: connecting to url ipc://@/home/kefei/.volttron/run/vip.socket?publickey=AtHKs50YJxE3okzMqKtfpYGhQHUBRrjZHJdUJNMEJG8&secretkey=6uA1gKcZEFsWyqT6hXKcKrjjFFvU9mRyVgcPF2ckSzY&serverkey=AtHKs50YJxE3okzMqKtfpYGhQHUBRrjZHJdUJNMEJG8\n",
      "2022-10-26 14:49:31,688 volttron.platform.vip.zmq_connection DEBUG: url type is <class 'str'>\n",
      "2022-10-26 14:49:31,729 volttron.platform.vip.agent.core INFO: Connected to platform: router: 59ecbea3-507c-417e-bac0-548d6ffb4e08 version: 1.0 identity: 98956b2b-0365-43d4-9f27-d5b8a776a409\n",
      "2022-10-26 14:49:31,730 volttron.platform.vip.agent.core DEBUG: Running onstart methods.\n"
     ]
    }
   ],
   "source": [
    "a = build_agent()\n"
   ],
   "metadata": {
    "collapsed": false
   }
  },
  {
   "cell_type": "code",
   "execution_count": 19,
   "outputs": [
    {
     "name": "stdout",
     "output_type": "stream",
     "text": [
      "UUID AGENT                    IDENTITY            TAG                STATUS          HEALTH\r\n",
      "5f listeneragent-3.3        listeneragent-3.3_1 listener                           \r\n",
      "56 platform_driveragent-4.0 platform.driver     platform_driver                    \r\n",
      "53 sqlhistorianagent-4.0.0  platform.historian  platform_historian                 \r\n"
     ]
    }
   ],
   "source": [
    "! vctl status\n",
    "! vctl config list platform.driver\n"
   ],
   "metadata": {
    "collapsed": false
   }
  },
  {
   "cell_type": "code",
   "execution_count": 4,
   "outputs": [
    {
     "ename": "RemoteError",
     "evalue": "builtins.KeyError('No configuration file \"udd-Dnp3.csv\" for VIP IDENTIY platform.driver')",
     "output_type": "error",
     "traceback": [
      "\u001B[0;31m---------------------------------------------------------------------------\u001B[0m",
      "\u001B[0;31mRemoteError\u001B[0m                               Traceback (most recent call last)",
      "Cell \u001B[0;32mIn [4], line 1\u001B[0m\n\u001B[0;32m----> 1\u001B[0m a\u001B[38;5;241m.\u001B[39mvip\u001B[38;5;241m.\u001B[39mrpc\u001B[38;5;241m.\u001B[39mcall(peer\u001B[38;5;241m=\u001B[39m\u001B[38;5;124m'\u001B[39m\u001B[38;5;124mconfig.store\u001B[39m\u001B[38;5;124m'\u001B[39m,\n\u001B[1;32m      2\u001B[0m                method\u001B[38;5;241m=\u001B[39m\u001B[38;5;124m'\u001B[39m\u001B[38;5;124mmanage_get\u001B[39m\u001B[38;5;124m'\u001B[39m,\n\u001B[1;32m      3\u001B[0m                identity\u001B[38;5;241m=\u001B[39mPLATFORM_DRIVER,\n\u001B[1;32m      4\u001B[0m                config_name\u001B[38;5;241m=\u001B[39m\u001B[38;5;124m\"\u001B[39m\u001B[38;5;124mudd-Dnp3.csv\u001B[39m\u001B[38;5;124m\"\u001B[39m\n\u001B[1;32m      5\u001B[0m                           )\u001B[38;5;241m.\u001B[39mget(timeout\u001B[38;5;241m=\u001B[39m\u001B[38;5;241m5\u001B[39m)\n",
      "File \u001B[0;32msrc/gevent/event.py:329\u001B[0m, in \u001B[0;36mgevent._gevent_cevent.AsyncResult.get\u001B[0;34m()\u001B[0m\n",
      "File \u001B[0;32msrc/gevent/event.py:359\u001B[0m, in \u001B[0;36mgevent._gevent_cevent.AsyncResult.get\u001B[0;34m()\u001B[0m\n",
      "File \u001B[0;32msrc/gevent/event.py:329\u001B[0m, in \u001B[0;36mgevent._gevent_cevent.AsyncResult.get\u001B[0;34m()\u001B[0m\n",
      "File \u001B[0;32msrc/gevent/event.py:329\u001B[0m, in \u001B[0;36mgevent._gevent_cevent.AsyncResult.get\u001B[0;34m()\u001B[0m\n",
      "File \u001B[0;32msrc/gevent/event.py:347\u001B[0m, in \u001B[0;36mgevent._gevent_cevent.AsyncResult.get\u001B[0;34m()\u001B[0m\n",
      "File \u001B[0;32msrc/gevent/event.py:327\u001B[0m, in \u001B[0;36mgevent._gevent_cevent.AsyncResult._raise_exception\u001B[0;34m()\u001B[0m\n",
      "File \u001B[0;32m~/project/volttron/env/lib/python3.8/site-packages/gevent/_compat.py:66\u001B[0m, in \u001B[0;36mreraise\u001B[0;34m(t, value, tb)\u001B[0m\n\u001B[1;32m     64\u001B[0m \u001B[38;5;28;01mif\u001B[39;00m value\u001B[38;5;241m.\u001B[39m__traceback__ \u001B[38;5;129;01mis\u001B[39;00m \u001B[38;5;129;01mnot\u001B[39;00m tb \u001B[38;5;129;01mand\u001B[39;00m tb \u001B[38;5;129;01mis\u001B[39;00m \u001B[38;5;129;01mnot\u001B[39;00m \u001B[38;5;28;01mNone\u001B[39;00m:\n\u001B[1;32m     65\u001B[0m     \u001B[38;5;28;01mraise\u001B[39;00m value\u001B[38;5;241m.\u001B[39mwith_traceback(tb)\n\u001B[0;32m---> 66\u001B[0m \u001B[38;5;28;01mraise\u001B[39;00m value\n",
      "\u001B[0;31mRemoteError\u001B[0m: builtins.KeyError('No configuration file \"udd-Dnp3.csv\" for VIP IDENTIY platform.driver')"
     ]
    },
    {
     "name": "stderr",
     "output_type": "stream",
     "text": [
      "2022-10-26 13:22:52,531 volttron.platform.vip.agent.subsystems.auth WARNING: Auth entry not found for 0635bc43-78b9-491a-828a-2b8be40d09d2: rpc_method_authorizations not updated. If this agent does have an auth entry, verify that the 'identity' field has been included in the auth entry. This should be set to the identity of the agent\n"
     ]
    }
   ],
   "source": [
    "a.vip.rpc.call(peer='config.store',\n",
    "               method='manage_get',\n",
    "               identity=PLATFORM_DRIVER,\n",
    "               config_name=\"udd-Dnp3.csv\"\n",
    "                          ).get(timeout=5)\n"
   ],
   "metadata": {
    "collapsed": false
   }
  },
  {
   "cell_type": "code",
   "execution_count": 5,
   "outputs": [
    {
     "ename": "Timeout",
     "evalue": "5 seconds",
     "output_type": "error",
     "traceback": [
      "\u001B[0;31m---------------------------------------------------------------------------\u001B[0m",
      "\u001B[0;31mTimeout\u001B[0m                                   Traceback (most recent call last)",
      "Cell \u001B[0;32mIn [5], line 1\u001B[0m\n\u001B[0;32m----> 1\u001B[0m a\u001B[38;5;241m.\u001B[39mvip\u001B[38;5;241m.\u001B[39mrpc\u001B[38;5;241m.\u001B[39mcall(\u001B[38;5;124m\"\u001B[39m\u001B[38;5;124mplatform.driver\u001B[39m\u001B[38;5;124m\"\u001B[39m, \u001B[38;5;124m\"\u001B[39m\u001B[38;5;124mget_point\u001B[39m\u001B[38;5;124m\"\u001B[39m,\n\u001B[1;32m      2\u001B[0m               \u001B[38;5;124m\"\u001B[39m\u001B[38;5;124mcampus-vm/building-vm/Dnp3\u001B[39m\u001B[38;5;124m\"\u001B[39m,\n\u001B[1;32m      3\u001B[0m                \u001B[38;5;124m\"\u001B[39m\u001B[38;5;124mAnalogInput_index0\u001B[39m\u001B[38;5;124m\"\u001B[39m)\u001B[38;5;241m.\u001B[39mget(timeout\u001B[38;5;241m=\u001B[39m\u001B[38;5;241m5\u001B[39m)\n",
      "File \u001B[0;32msrc/gevent/event.py:329\u001B[0m, in \u001B[0;36mgevent._gevent_cevent.AsyncResult.get\u001B[0;34m()\u001B[0m\n",
      "File \u001B[0;32msrc/gevent/event.py:356\u001B[0m, in \u001B[0;36mgevent._gevent_cevent.AsyncResult.get\u001B[0;34m()\u001B[0m\n",
      "File \u001B[0;32msrc/gevent/_abstract_linkable.py:487\u001B[0m, in \u001B[0;36mgevent._gevent_c_abstract_linkable.AbstractLinkable._wait_core\u001B[0;34m()\u001B[0m\n",
      "File \u001B[0;32msrc/gevent/_abstract_linkable.py:490\u001B[0m, in \u001B[0;36mgevent._gevent_c_abstract_linkable.AbstractLinkable._wait_core\u001B[0;34m()\u001B[0m\n",
      "File \u001B[0;32msrc/gevent/_abstract_linkable.py:442\u001B[0m, in \u001B[0;36mgevent._gevent_c_abstract_linkable.AbstractLinkable._AbstractLinkable__wait_to_be_notified\u001B[0;34m()\u001B[0m\n",
      "File \u001B[0;32msrc/gevent/_abstract_linkable.py:451\u001B[0m, in \u001B[0;36mgevent._gevent_c_abstract_linkable.AbstractLinkable._switch_to_hub\u001B[0;34m()\u001B[0m\n",
      "File \u001B[0;32msrc/gevent/_greenlet_primitives.py:61\u001B[0m, in \u001B[0;36mgevent._gevent_c_greenlet_primitives.SwitchOutGreenletWithLoop.switch\u001B[0;34m()\u001B[0m\n",
      "File \u001B[0;32msrc/gevent/_greenlet_primitives.py:65\u001B[0m, in \u001B[0;36mgevent._gevent_c_greenlet_primitives.SwitchOutGreenletWithLoop.switch\u001B[0;34m()\u001B[0m\n",
      "File \u001B[0;32msrc/gevent/_gevent_c_greenlet_primitives.pxd:35\u001B[0m, in \u001B[0;36mgevent._gevent_c_greenlet_primitives._greenlet_switch\u001B[0;34m()\u001B[0m\n",
      "\u001B[0;31mTimeout\u001B[0m: 5 seconds"
     ]
    }
   ],
   "source": [
    "a.vip.rpc.call(\"platform.driver\", \"get_point\",\n",
    "              \"campus-vm/building-vm/Dnp3\",\n",
    "               \"AnalogInput_index0\").get(timeout=5)\n"
   ],
   "metadata": {
    "collapsed": false
   }
  },
  {
   "cell_type": "code",
   "execution_count": 6,
   "outputs": [
    {
     "data": {
      "text/plain": "'Point Name,Volttron Point Name,Group,Variation,Index,Scaling,Units,Writable,Notes\\nAnalogInput_index0,AnalogInput_index0,30,6,0,1,NA,FALSE,Double Analogue input without status\\nAnalogInput_index1,AnalogInput_index1,30,6,1,1,NA,FALSE,Double Analogue input without status\\nAnalogInput_index2,AnalogInput_index2,30,6,2,1,NA,FALSE,Double Analogue input without status\\nAnalogInput_index3,AnalogInput_index3,30,6,3,1,NA,FALSE,Double Analogue input without status\\nBinaryInput_index0,BinaryInput_index0,1,2,0,1,NA,FALSE,Single bit binary input with status\\nBinaryInput_index1,BinaryInput_index1,1,2,1,1,NA,FALSE,Single bit binary input with status\\nBinaryInput_index2,BinaryInput_index2,1,2,2,1,NA,FALSE,Single bit binary input with status\\nBinaryInput_index3,BinaryInput_index3,1,2,3,1,NA,FALSE,Single bit binary input with status\\nAnalogOutput_index0,AnalogOutput_index0,40,4,0,1,NA,TRUE,Double-precision floating point with flags\\nAnalogOutput_index1,AnalogOutput_index1,40,4,1,1,NA,TRUE,Double-precision floating point with flags\\nAnalogOutput_index2,AnalogOutput_index2,40,4,2,1,NA,TRUE,Double-precision floating point with flags\\nAnalogOutput_index3,AnalogOutput_index3,40,4,3,1,NA,TRUE,Double-precision floating point with flags\\nBinaryOutput_index0,BinaryOutput_index0,10,2,0,1,NA,TRUE,Binary Output with flags\\nBinaryOutput_index1,BinaryOutput_index1,10,2,1,1,NA,TRUE,Binary Output with flags\\nBinaryOutput_index2,BinaryOutput_index2,10,2,2,1,NA,TRUE,Binary Output with flags\\nBinaryOutput_index3,BinaryOutput_index3,10,2,3,1,NA,TRUE,Binary Output with flags\\n'"
     },
     "execution_count": 6,
     "metadata": {},
     "output_type": "execute_result"
    }
   ],
   "source": [
    "# store csv config using rpc call\n",
    "csv_path = \"/home/kefei/project/volttron/services/core/PlatformDriverAgent/platform_driver/interfaces/udd_dnp3/tests/testing_data/udd-Dnp3-testing.csv\"\n",
    "\n",
    "with open(csv_path, \"r\") as f:\n",
    "    csv_config_str = f.read()\n",
    "\n",
    "csv_config_str\n"
   ],
   "metadata": {
    "collapsed": false
   }
  },
  {
   "cell_type": "code",
   "execution_count": 7,
   "outputs": [
    {
     "ename": "RemoteError",
     "evalue": "builtins.KeyError('No configuration file \"udd-Dnp3.csv\" for VIP IDENTIY platform.driver')",
     "output_type": "error",
     "traceback": [
      "\u001B[0;31m---------------------------------------------------------------------------\u001B[0m",
      "\u001B[0;31mRemoteError\u001B[0m                               Traceback (most recent call last)",
      "Cell \u001B[0;32mIn [7], line 2\u001B[0m\n\u001B[1;32m      1\u001B[0m \u001B[38;5;66;03m# current csv_config in config store\u001B[39;00m\n\u001B[0;32m----> 2\u001B[0m csv_config_str_now \u001B[38;5;241m=\u001B[39m a\u001B[38;5;241m.\u001B[39mvip\u001B[38;5;241m.\u001B[39mrpc\u001B[38;5;241m.\u001B[39mcall(\n\u001B[1;32m      3\u001B[0m     \u001B[38;5;124m'\u001B[39m\u001B[38;5;124mconfig.store\u001B[39m\u001B[38;5;124m'\u001B[39m,\n\u001B[1;32m      4\u001B[0m     \u001B[38;5;124m'\u001B[39m\u001B[38;5;124mmanage_get\u001B[39m\u001B[38;5;124m'\u001B[39m,\n\u001B[1;32m      5\u001B[0m     PLATFORM_DRIVER,\n\u001B[1;32m      6\u001B[0m     \u001B[38;5;124m\"\u001B[39m\u001B[38;5;124mudd-Dnp3.csv\u001B[39m\u001B[38;5;124m\"\u001B[39m\n\u001B[1;32m      7\u001B[0m )\u001B[38;5;241m.\u001B[39mget(\u001B[38;5;241m5\u001B[39m)\n\u001B[1;32m      9\u001B[0m csv_config_str_now\n",
      "File \u001B[0;32msrc/gevent/event.py:329\u001B[0m, in \u001B[0;36mgevent._gevent_cevent.AsyncResult.get\u001B[0;34m()\u001B[0m\n",
      "File \u001B[0;32msrc/gevent/event.py:359\u001B[0m, in \u001B[0;36mgevent._gevent_cevent.AsyncResult.get\u001B[0;34m()\u001B[0m\n",
      "File \u001B[0;32msrc/gevent/event.py:329\u001B[0m, in \u001B[0;36mgevent._gevent_cevent.AsyncResult.get\u001B[0;34m()\u001B[0m\n",
      "File \u001B[0;32msrc/gevent/event.py:329\u001B[0m, in \u001B[0;36mgevent._gevent_cevent.AsyncResult.get\u001B[0;34m()\u001B[0m\n",
      "File \u001B[0;32msrc/gevent/event.py:347\u001B[0m, in \u001B[0;36mgevent._gevent_cevent.AsyncResult.get\u001B[0;34m()\u001B[0m\n",
      "File \u001B[0;32msrc/gevent/event.py:327\u001B[0m, in \u001B[0;36mgevent._gevent_cevent.AsyncResult._raise_exception\u001B[0;34m()\u001B[0m\n",
      "File \u001B[0;32m~/project/volttron/env/lib/python3.8/site-packages/gevent/_compat.py:66\u001B[0m, in \u001B[0;36mreraise\u001B[0;34m(t, value, tb)\u001B[0m\n\u001B[1;32m     64\u001B[0m \u001B[38;5;28;01mif\u001B[39;00m value\u001B[38;5;241m.\u001B[39m__traceback__ \u001B[38;5;129;01mis\u001B[39;00m \u001B[38;5;129;01mnot\u001B[39;00m tb \u001B[38;5;129;01mand\u001B[39;00m tb \u001B[38;5;129;01mis\u001B[39;00m \u001B[38;5;129;01mnot\u001B[39;00m \u001B[38;5;28;01mNone\u001B[39;00m:\n\u001B[1;32m     65\u001B[0m     \u001B[38;5;28;01mraise\u001B[39;00m value\u001B[38;5;241m.\u001B[39mwith_traceback(tb)\n\u001B[0;32m---> 66\u001B[0m \u001B[38;5;28;01mraise\u001B[39;00m value\n",
      "\u001B[0;31mRemoteError\u001B[0m: builtins.KeyError('No configuration file \"udd-Dnp3.csv\" for VIP IDENTIY platform.driver')"
     ]
    }
   ],
   "source": [
    "# current csv_config in config store\n",
    "csv_config_str_now = a.vip.rpc.call(\n",
    "    'config.store',\n",
    "    'manage_get',\n",
    "    PLATFORM_DRIVER,\n",
    "    \"udd-Dnp3.csv\"\n",
    ").get(5)\n",
    "\n",
    "csv_config_str_now\n"
   ],
   "metadata": {
    "collapsed": false
   }
  },
  {
   "cell_type": "code",
   "execution_count": 8,
   "outputs": [
    {
     "data": {
      "text/plain": "['udd-Dnp3.csv']"
     },
     "execution_count": 8,
     "metadata": {},
     "output_type": "execute_result"
    }
   ],
   "source": [
    "# store csv config\n",
    "\n",
    "# delete csv config\n",
    "# a.vip.rpc.call(\n",
    "#     'config.store',\n",
    "#     'manage_delete_config',\n",
    "#     PLATFORM_DRIVER,\n",
    "#     \"udd-Dnp3.csv\"\n",
    "# ).get(5)\n",
    "\n",
    "# verify delete, check status\n",
    "a.vip.rpc.call(\n",
    "    'config.store',\n",
    "    'manage_list_configs',\n",
    "    PLATFORM_DRIVER,\n",
    ").get(5)\n",
    "\n",
    "# store csv config\n",
    "a.vip.rpc.call(\n",
    "    'config.store',\n",
    "    'manage_store',\n",
    "    PLATFORM_DRIVER,\n",
    "    \"udd-Dnp3.csv\",\n",
    "    csv_config_str,\n",
    "    config_type=\"csv\"\n",
    ").get(5)\n",
    "\n",
    "a.vip.rpc.call(\n",
    "    'config.store',\n",
    "    'manage_list_configs',\n",
    "    PLATFORM_DRIVER,\n",
    ").get(5)"
   ],
   "metadata": {
    "collapsed": false
   }
  },
  {
   "cell_type": "code",
   "execution_count": 9,
   "outputs": [
    {
     "ename": "RemoteError",
     "evalue": "builtins.KeyError('No configuration file \"devices/campus-vm/building-vm/Dnp3\" for VIP IDENTIY platform.driver')",
     "output_type": "error",
     "traceback": [
      "\u001B[0;31m---------------------------------------------------------------------------\u001B[0m",
      "\u001B[0;31mRemoteError\u001B[0m                               Traceback (most recent call last)",
      "Cell \u001B[0;32mIn [9], line 5\u001B[0m\n\u001B[1;32m      1\u001B[0m \u001B[38;5;66;03m# similar to json config\u001B[39;00m\n\u001B[1;32m      2\u001B[0m \u001B[38;5;66;03m# devices/campus-vm/building-vm/Dnp3\u001B[39;00m\n\u001B[1;32m      3\u001B[0m \n\u001B[1;32m      4\u001B[0m \u001B[38;5;66;03m# current csv_config in config store\u001B[39;00m\n\u001B[0;32m----> 5\u001B[0m json_config_str_now \u001B[38;5;241m=\u001B[39m a\u001B[38;5;241m.\u001B[39mvip\u001B[38;5;241m.\u001B[39mrpc\u001B[38;5;241m.\u001B[39mcall(\n\u001B[1;32m      6\u001B[0m     \u001B[38;5;124m'\u001B[39m\u001B[38;5;124mconfig.store\u001B[39m\u001B[38;5;124m'\u001B[39m,\n\u001B[1;32m      7\u001B[0m     \u001B[38;5;124m'\u001B[39m\u001B[38;5;124mmanage_get\u001B[39m\u001B[38;5;124m'\u001B[39m,\n\u001B[1;32m      8\u001B[0m     PLATFORM_DRIVER,\n\u001B[1;32m      9\u001B[0m     \u001B[38;5;124m\"\u001B[39m\u001B[38;5;124mdevices/campus-vm/building-vm/Dnp3\u001B[39m\u001B[38;5;124m\"\u001B[39m\n\u001B[1;32m     10\u001B[0m )\u001B[38;5;241m.\u001B[39mget(\u001B[38;5;241m5\u001B[39m)\n\u001B[1;32m     12\u001B[0m json_config_str_now\n",
      "File \u001B[0;32msrc/gevent/event.py:329\u001B[0m, in \u001B[0;36mgevent._gevent_cevent.AsyncResult.get\u001B[0;34m()\u001B[0m\n",
      "File \u001B[0;32msrc/gevent/event.py:359\u001B[0m, in \u001B[0;36mgevent._gevent_cevent.AsyncResult.get\u001B[0;34m()\u001B[0m\n",
      "File \u001B[0;32msrc/gevent/event.py:329\u001B[0m, in \u001B[0;36mgevent._gevent_cevent.AsyncResult.get\u001B[0;34m()\u001B[0m\n",
      "File \u001B[0;32msrc/gevent/event.py:329\u001B[0m, in \u001B[0;36mgevent._gevent_cevent.AsyncResult.get\u001B[0;34m()\u001B[0m\n",
      "File \u001B[0;32msrc/gevent/event.py:347\u001B[0m, in \u001B[0;36mgevent._gevent_cevent.AsyncResult.get\u001B[0;34m()\u001B[0m\n",
      "File \u001B[0;32msrc/gevent/event.py:327\u001B[0m, in \u001B[0;36mgevent._gevent_cevent.AsyncResult._raise_exception\u001B[0;34m()\u001B[0m\n",
      "File \u001B[0;32m~/project/volttron/env/lib/python3.8/site-packages/gevent/_compat.py:66\u001B[0m, in \u001B[0;36mreraise\u001B[0;34m(t, value, tb)\u001B[0m\n\u001B[1;32m     64\u001B[0m \u001B[38;5;28;01mif\u001B[39;00m value\u001B[38;5;241m.\u001B[39m__traceback__ \u001B[38;5;129;01mis\u001B[39;00m \u001B[38;5;129;01mnot\u001B[39;00m tb \u001B[38;5;129;01mand\u001B[39;00m tb \u001B[38;5;129;01mis\u001B[39;00m \u001B[38;5;129;01mnot\u001B[39;00m \u001B[38;5;28;01mNone\u001B[39;00m:\n\u001B[1;32m     65\u001B[0m     \u001B[38;5;28;01mraise\u001B[39;00m value\u001B[38;5;241m.\u001B[39mwith_traceback(tb)\n\u001B[0;32m---> 66\u001B[0m \u001B[38;5;28;01mraise\u001B[39;00m value\n",
      "\u001B[0;31mRemoteError\u001B[0m: builtins.KeyError('No configuration file \"devices/campus-vm/building-vm/Dnp3\" for VIP IDENTIY platform.driver')"
     ]
    }
   ],
   "source": [
    "# similar to json config\n",
    "# devices/campus-vm/building-vm/Dnp3\n",
    "\n",
    "# current csv_config in config store\n",
    "json_config_str_now = a.vip.rpc.call(\n",
    "    'config.store',\n",
    "    'manage_get',\n",
    "    PLATFORM_DRIVER,\n",
    "    \"devices/campus-vm/building-vm/Dnp3\"\n",
    ").get(5)\n",
    "\n",
    "json_config_str_now\n"
   ],
   "metadata": {
    "collapsed": false
   }
  },
  {
   "cell_type": "code",
   "execution_count": 10,
   "outputs": [
    {
     "data": {
      "text/plain": "'{\\n    \"driver_config\": {\"master_ip\": \"0.0.0.0\", \"outstation_ip\": \"127.0.0.1\",\\n        \"master_id\": 2, \"outstation_id\": 1,\\n        \"port\":  20000},\\n    \"registry_config\":\"config://udd-Dnp3.csv\",\\n\\t\\t\"driver_type\": \"udd_dnp3\",\\n    \"interval\": 5,\\n    \"timezone\": \"UTC\",\\n    \"campus\": \"campus-vm\",\\n    \"building\": \"building-vm\",\\n    \"unit\": \"Dnp3\",\\n\\t\\t\"publish_depth_first_all\": true,\\n    \"heart_beat_point\": \"random_bool\"\\n}\\n'"
     },
     "execution_count": 10,
     "metadata": {},
     "output_type": "execute_result"
    }
   ],
   "source": [
    "# store csv config using rpc call\n",
    "json_path = \"/home/kefei/project/volttron/services/core/PlatformDriverAgent/platform_driver/interfaces/udd_dnp3/tests/testing_data/udd-Dnp3-testing.config\"\n",
    "\n",
    "with open(json_path, \"r\") as f:\n",
    "    json_config_str = f.read()\n",
    "\n",
    "json_config_str"
   ],
   "metadata": {
    "collapsed": false
   }
  },
  {
   "cell_type": "code",
   "execution_count": 11,
   "outputs": [
    {
     "data": {
      "text/plain": "['devices/campus-vm/building-vm/Dnp3', 'udd-Dnp3.csv']"
     },
     "execution_count": 11,
     "metadata": {},
     "output_type": "execute_result"
    }
   ],
   "source": [
    "# store json config\n",
    "# devices/campus-vm/building-vm/Dnp3\n",
    "\n",
    "# delete json config\n",
    "# a.vip.rpc.call(\n",
    "#     'config.store',\n",
    "#     'manage_delete_config',\n",
    "#     PLATFORM_DRIVER,\n",
    "#     \"devices/campus-vm/building-vm/Dnp3\"\n",
    "# ).get(5)\n",
    "\n",
    "# verify delete, check status\n",
    "a.vip.rpc.call(\n",
    "    'config.store',\n",
    "    'manage_list_configs',\n",
    "    PLATFORM_DRIVER,\n",
    ").get(5)\n",
    "\n",
    "# store csv config\n",
    "a.vip.rpc.call(\n",
    "    'config.store',\n",
    "    'manage_store',\n",
    "    PLATFORM_DRIVER,\n",
    "    \"devices/campus-vm/building-vm/Dnp3\",\n",
    "    json_config_str,\n",
    "    config_type=\"json\"\n",
    ").get(5)\n",
    "\n",
    "a.vip.rpc.call(\n",
    "    'config.store',\n",
    "    'manage_list_configs',\n",
    "    PLATFORM_DRIVER,\n",
    ").get(5)\n"
   ],
   "metadata": {
    "collapsed": false
   }
  },
  {
   "cell_type": "code",
   "execution_count": 5,
   "outputs": [
    {
     "ename": "Timeout",
     "evalue": "5 seconds",
     "output_type": "error",
     "traceback": [
      "\u001B[0;31m---------------------------------------------------------------------------\u001B[0m",
      "\u001B[0;31mTimeout\u001B[0m                                   Traceback (most recent call last)",
      "Cell \u001B[0;32mIn [5], line 1\u001B[0m\n\u001B[0;32m----> 1\u001B[0m a\u001B[38;5;241m.\u001B[39mvip\u001B[38;5;241m.\u001B[39mrpc\u001B[38;5;241m.\u001B[39mcall(\u001B[38;5;124m\"\u001B[39m\u001B[38;5;124mplatform.driver\u001B[39m\u001B[38;5;124m\"\u001B[39m, \u001B[38;5;124m\"\u001B[39m\u001B[38;5;124mget_point\u001B[39m\u001B[38;5;124m\"\u001B[39m,\n\u001B[1;32m      2\u001B[0m               \u001B[38;5;124m\"\u001B[39m\u001B[38;5;124mcampus-vm/building-vm/Dnp3\u001B[39m\u001B[38;5;124m\"\u001B[39m,\n\u001B[1;32m      3\u001B[0m                \u001B[38;5;124m\"\u001B[39m\u001B[38;5;124mAnalogInput_index0\u001B[39m\u001B[38;5;124m\"\u001B[39m)\u001B[38;5;241m.\u001B[39mget(timeout\u001B[38;5;241m=\u001B[39m\u001B[38;5;241m5\u001B[39m)\n",
      "File \u001B[0;32msrc/gevent/event.py:329\u001B[0m, in \u001B[0;36mgevent._gevent_cevent.AsyncResult.get\u001B[0;34m()\u001B[0m\n",
      "File \u001B[0;32msrc/gevent/event.py:356\u001B[0m, in \u001B[0;36mgevent._gevent_cevent.AsyncResult.get\u001B[0;34m()\u001B[0m\n",
      "File \u001B[0;32msrc/gevent/_abstract_linkable.py:487\u001B[0m, in \u001B[0;36mgevent._gevent_c_abstract_linkable.AbstractLinkable._wait_core\u001B[0;34m()\u001B[0m\n",
      "File \u001B[0;32msrc/gevent/_abstract_linkable.py:490\u001B[0m, in \u001B[0;36mgevent._gevent_c_abstract_linkable.AbstractLinkable._wait_core\u001B[0;34m()\u001B[0m\n",
      "File \u001B[0;32msrc/gevent/_abstract_linkable.py:442\u001B[0m, in \u001B[0;36mgevent._gevent_c_abstract_linkable.AbstractLinkable._AbstractLinkable__wait_to_be_notified\u001B[0;34m()\u001B[0m\n",
      "File \u001B[0;32msrc/gevent/_abstract_linkable.py:451\u001B[0m, in \u001B[0;36mgevent._gevent_c_abstract_linkable.AbstractLinkable._switch_to_hub\u001B[0;34m()\u001B[0m\n",
      "File \u001B[0;32msrc/gevent/_greenlet_primitives.py:61\u001B[0m, in \u001B[0;36mgevent._gevent_c_greenlet_primitives.SwitchOutGreenletWithLoop.switch\u001B[0;34m()\u001B[0m\n",
      "File \u001B[0;32msrc/gevent/_greenlet_primitives.py:65\u001B[0m, in \u001B[0;36mgevent._gevent_c_greenlet_primitives.SwitchOutGreenletWithLoop.switch\u001B[0;34m()\u001B[0m\n",
      "File \u001B[0;32msrc/gevent/_gevent_c_greenlet_primitives.pxd:35\u001B[0m, in \u001B[0;36mgevent._gevent_c_greenlet_primitives._greenlet_switch\u001B[0;34m()\u001B[0m\n",
      "\u001B[0;31mTimeout\u001B[0m: 5 seconds"
     ]
    }
   ],
   "source": [
    "a.vip.rpc.call(\"platform.driver\", \"get_point\",\n",
    "              \"campus-vm/building-vm/Dnp3\",\n",
    "               \"AnalogInput_index0\").get(timeout=5)\n",
    "\n",
    "\n",
    "# a.vip.rpc.call(\"platform.driver\", \"get_point\",\n",
    "#               \"campus-vm/building-vm/Dnp3\",\n",
    "#                \"AnalogInput_index0\").get(timeout=5)\n"
   ],
   "metadata": {
    "collapsed": false
   }
  },
  {
   "cell_type": "code",
   "execution_count": 17,
   "outputs": [],
   "source": [
    "# a.vip.rpc.call('config.store',\n",
    "#                           'manage_delete_store',\n",
    "#                           PLATFORM_DRIVER).get()\n"
   ],
   "metadata": {
    "collapsed": false
   }
  },
  {
   "cell_type": "code",
   "execution_count": null,
   "outputs": [],
   "source": [],
   "metadata": {
    "collapsed": false
   }
  }
 ],
 "metadata": {
  "kernelspec": {
   "display_name": "Python 3",
   "language": "python",
   "name": "python3"
  },
  "language_info": {
   "codemirror_mode": {
    "name": "ipython",
    "version": 2
   },
   "file_extension": ".py",
   "mimetype": "text/x-python",
   "name": "python",
   "nbconvert_exporter": "python",
   "pygments_lexer": "ipython2",
   "version": "2.7.6"
  }
 },
 "nbformat": 4,
 "nbformat_minor": 0
}
