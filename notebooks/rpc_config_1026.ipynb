{
 "cells": [
  {
   "cell_type": "code",
   "execution_count": null,
   "outputs": [],
   "source": [
    "# https://volttron.readthedocs.io/en/develop/platform-features/config-store/commandline-interface.html?highlight=vctl%20config%20delete"
   ],
   "metadata": {
    "collapsed": false
   }
  },
  {
   "cell_type": "code",
   "execution_count": null,
   "outputs": [],
   "source": [
    "# https://volttron.readthedocs.io/en/develop/platform-features/message-bus/vip/vip-json-rpc.html?highlight=manage_store#vctl-rpc-commands"
   ],
   "metadata": {
    "collapsed": false
   }
  },
  {
   "cell_type": "code",
   "execution_count": 2,
   "outputs": [],
   "source": [
    "from volttron.platform.agent.known_identities import PLATFORM_DRIVER"
   ],
   "metadata": {
    "collapsed": false
   }
  },
  {
   "cell_type": "code",
   "execution_count": 1,
   "outputs": [],
   "source": [
    "from volttrontesting.fixtures.volttron_platform_fixtures import volttron_instance"
   ],
   "metadata": {
    "collapsed": false
   }
  },
  {
   "cell_type": "code",
   "execution_count": 5,
   "outputs": [],
   "source": [
    "from volttron.platform.vip.agent.utils import build_agent"
   ],
   "metadata": {
    "collapsed": false
   }
  },
  {
   "cell_type": "code",
   "execution_count": 6,
   "outputs": [
    {
     "name": "stderr",
     "output_type": "stream",
     "text": [
      "2022-10-26 17:32:37,243 root DEBUG: Creating ZMQ Core None\n",
      "2022-10-26 17:32:37,246 volttron.platform.vip.agent.core DEBUG: address: ipc://@/home/kefei/.volttron/run/vip.socket\n",
      "2022-10-26 17:32:37,248 volttron.platform.vip.agent.core DEBUG: identity: 314aa800-6273-4d8d-ad79-e14913d9af9f\n",
      "2022-10-26 17:32:37,249 volttron.platform.vip.agent.core DEBUG: agent_uuid: None\n",
      "2022-10-26 17:32:37,249 volttron.platform.vip.agent.core DEBUG: serverkey: None\n",
      "2022-10-26 17:32:37,256 volttron.platform.vip.agent.core DEBUG: AGENT RUNNING on ZMQ Core 314aa800-6273-4d8d-ad79-e14913d9af9f\n",
      "2022-10-26 17:32:37,258 volttron.platform.vip.agent.core INFO: CORE address:ipc://@/home/kefei/.volttron/run/vip.socket?publickey=AtHKs50YJxE3okzMqKtfpYGhQHUBRrjZHJdUJNMEJG8&secretkey=6uA1gKcZEFsWyqT6hXKcKrjjFFvU9mRyVgcPF2ckSzY&serverkey=AtHKs50YJxE3okzMqKtfpYGhQHUBRrjZHJdUJNMEJG8\n",
      "2022-10-26 17:32:37,259 volttron.platform.vip.zmq_connection DEBUG: ZMQ connection 314aa800-6273-4d8d-ad79-e14913d9af9f\n",
      "2022-10-26 17:32:37,262 volttron.platform.vip.zmq_connection DEBUG: connecting to url ipc://@/home/kefei/.volttron/run/vip.socket?publickey=AtHKs50YJxE3okzMqKtfpYGhQHUBRrjZHJdUJNMEJG8&secretkey=6uA1gKcZEFsWyqT6hXKcKrjjFFvU9mRyVgcPF2ckSzY&serverkey=AtHKs50YJxE3okzMqKtfpYGhQHUBRrjZHJdUJNMEJG8\n",
      "2022-10-26 17:32:37,269 volttron.platform.vip.zmq_connection DEBUG: url type is <class 'str'>\n",
      "2022-10-26 17:32:37,296 volttron.platform.vip.agent.core INFO: Connected to platform: router: ca00f951-3492-4af8-9df9-eb88986a0538 version: 1.0 identity: 314aa800-6273-4d8d-ad79-e14913d9af9f\n",
      "2022-10-26 17:32:37,296 volttron.platform.vip.agent.core DEBUG: Running onstart methods.\n"
     ]
    }
   ],
   "source": [
    "a = build_agent()"
   ],
   "metadata": {
    "collapsed": false
   }
  },
  {
   "cell_type": "code",
   "execution_count": 7,
   "outputs": [
    {
     "name": "stderr",
     "output_type": "stream",
     "text": [
      "2022-10-26 17:32:48,040 volttron.platform.vip.agent.subsystems.auth WARNING: Auth entry not found for 314aa800-6273-4d8d-ad79-e14913d9af9f: rpc_method_authorizations not updated. If this agent does have an auth entry, verify that the 'identity' field has been included in the auth entry. This should be set to the identity of the agent\n"
     ]
    },
    {
     "data": {
      "text/plain": "['devices/campus-vm/building-vm/Dnp3', 'udd-Dnp3.csv']"
     },
     "execution_count": 7,
     "metadata": {},
     "output_type": "execute_result"
    }
   ],
   "source": [
    "a.vip.rpc.call('config.store',\n",
    "               method='manage_list_configs',\n",
    "               identity=PLATFORM_DRIVER,).get()\n"
   ],
   "metadata": {
    "collapsed": false
   }
  },
  {
   "cell_type": "code",
   "execution_count": 12,
   "outputs": [
    {
     "data": {
      "text/plain": "'{\\n    \"driver_config\": {\"master_ip\": \"0.0.0.0\", \"outstation_ip\": \"127.0.0.1\",\\n        \"master_id\": 2, \"outstation_id\": 1,\\n        \"port\":  20000},\\n    \"registry_config\":\"config://udd-Dnp3.csv\",\\n\\t\\t\"driver_type\": \"udd_dnp3\",\\n    \"interval\": 5,\\n    \"timezone\": \"UTC\",\\n    \"campus\": \"campus-vm\",\\n    \"building\": \"building-vm\",\\n    \"unit\": \"Dnp3\",\\n\\t\\t\"publish_depth_first_all\": true,\\n    \"heart_beat_point\": \"random_bool\"\\n}\\n'"
     },
     "execution_count": 12,
     "metadata": {},
     "output_type": "execute_result"
    }
   ],
   "source": [
    "a.vip.rpc.call('config.store',\n",
    "               method='manage_get',\n",
    "               identity=PLATFORM_DRIVER,\n",
    "               config_name=\"devices/campus-vm/building-vm/Dnp3\"\n",
    "               ).get(timeout=5)\n"
   ],
   "metadata": {
    "collapsed": false
   }
  },
  {
   "cell_type": "code",
   "execution_count": 13,
   "outputs": [
    {
     "data": {
      "text/plain": "'Point Name,Volttron Point Name,Group,Variation,Index,Scaling,Units,Writable,Notes\\nAnalogInput_index0,AnalogInput_index0,30,6,0,1,NA,FALSE,Double Analogue input without status\\nAnalogInput_index1,AnalogInput_index1,30,6,1,1,NA,FALSE,Double Analogue input without status\\nAnalogInput_index2,AnalogInput_index2,30,6,2,1,NA,FALSE,Double Analogue input without status\\nAnalogInput_index3,AnalogInput_index3,30,6,3,1,NA,FALSE,Double Analogue input without status\\nBinaryInput_index0,BinaryInput_index0,1,2,0,1,NA,FALSE,Single bit binary input with status\\nBinaryInput_index1,BinaryInput_index1,1,2,1,1,NA,FALSE,Single bit binary input with status\\nBinaryInput_index2,BinaryInput_index2,1,2,2,1,NA,FALSE,Single bit binary input with status\\nBinaryInput_index3,BinaryInput_index3,1,2,3,1,NA,FALSE,Single bit binary input with status\\nAnalogOutput_index0,AnalogOutput_index0,40,4,0,1,NA,TRUE,Double-precision floating point with flags\\nAnalogOutput_index1,AnalogOutput_index1,40,4,1,1,NA,TRUE,Double-precision floating point with flags\\nAnalogOutput_index2,AnalogOutput_index2,40,4,2,1,NA,TRUE,Double-precision floating point with flags\\nAnalogOutput_index3,AnalogOutput_index3,40,4,3,1,NA,TRUE,Double-precision floating point with flags\\nBinaryOutput_index0,BinaryOutput_index0,10,2,0,1,NA,TRUE,Binary Output with flags\\nBinaryOutput_index1,BinaryOutput_index1,10,2,1,1,NA,TRUE,Binary Output with flags\\nBinaryOutput_index2,BinaryOutput_index2,10,2,2,1,NA,TRUE,Binary Output with flags\\nBinaryOutput_index3,BinaryOutput_index3,10,2,3,1,NA,TRUE,Binary Output with flags\\n'"
     },
     "execution_count": 13,
     "metadata": {},
     "output_type": "execute_result"
    }
   ],
   "source": [
    "a.vip.rpc.call('config.store',\n",
    "               method='manage_get',\n",
    "               identity=PLATFORM_DRIVER,\n",
    "               config_name=\"udd-Dnp3.csv\"\n",
    "               ).get(timeout=5)\n"
   ],
   "metadata": {
    "collapsed": false
   }
  },
  {
   "cell_type": "code",
   "execution_count": 16,
   "outputs": [
    {
     "data": {
      "text/plain": "4.821686293995769"
     },
     "execution_count": 16,
     "metadata": {},
     "output_type": "execute_result"
    }
   ],
   "source": [
    "a.vip.rpc.call(\"platform.driver\", \"get_point\",\n",
    "                  \"campus-vm/building-vm/Dnp3\",\n",
    "                   \"AnalogInput_index0\").get(timeout=5)\n"
   ],
   "metadata": {
    "collapsed": false
   }
  },
  {
   "cell_type": "code",
   "execution_count": null,
   "outputs": [],
   "source": [],
   "metadata": {
    "collapsed": false
   }
  }
 ],
 "metadata": {
  "kernelspec": {
   "display_name": "Python 3",
   "language": "python",
   "name": "python3"
  },
  "language_info": {
   "codemirror_mode": {
    "name": "ipython",
    "version": 2
   },
   "file_extension": ".py",
   "mimetype": "text/x-python",
   "name": "python",
   "nbconvert_exporter": "python",
   "pygments_lexer": "ipython2",
   "version": "2.7.6"
  }
 },
 "nbformat": 4,
 "nbformat_minor": 0
}
