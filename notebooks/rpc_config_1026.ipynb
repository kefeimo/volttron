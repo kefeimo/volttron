{
 "cells": [
  {
   "cell_type": "code",
   "execution_count": null,
   "outputs": [],
   "source": [
    "# https://volttron.readthedocs.io/en/develop/platform-features/config-store/commandline-interface.html?highlight=vctl%20config%20delete"
   ],
   "metadata": {
    "collapsed": false
   }
  },
  {
   "cell_type": "code",
   "execution_count": null,
   "outputs": [],
   "source": [
    "# https://volttron.readthedocs.io/en/develop/platform-features/message-bus/vip/vip-json-rpc.html?highlight=manage_store#vctl-rpc-commands"
   ],
   "metadata": {
    "collapsed": false
   }
  },
  {
   "cell_type": "code",
   "execution_count": 1,
   "outputs": [],
   "source": [
    "from volttron.platform.agent.known_identities import PLATFORM_DRIVER"
   ],
   "metadata": {
    "collapsed": false
   }
  },
  {
   "cell_type": "code",
   "execution_count": 1,
   "outputs": [],
   "source": [
    "from volttrontesting.fixtures.volttron_platform_fixtures import volttron_instance"
   ],
   "metadata": {
    "collapsed": false
   }
  },
  {
   "cell_type": "code",
   "execution_count": 2,
   "outputs": [],
   "source": [
    "from volttron.platform.vip.agent.utils import build_agent"
   ],
   "metadata": {
    "collapsed": false
   }
  },
  {
   "cell_type": "code",
   "execution_count": 3,
   "outputs": [
    {
     "name": "stderr",
     "output_type": "stream",
     "text": [
      "2022-10-26 17:56:59,326 root DEBUG: Creating ZMQ Core None\n",
      "2022-10-26 17:56:59,327 volttron.platform.vip.agent.core DEBUG: address: ipc://@/home/kefei/.volttron/run/vip.socket\n",
      "2022-10-26 17:56:59,329 volttron.platform.vip.agent.core DEBUG: identity: d328f779-6bc8-4df6-968c-1be99f2278e1\n",
      "2022-10-26 17:56:59,330 volttron.platform.vip.agent.core DEBUG: agent_uuid: None\n",
      "2022-10-26 17:56:59,333 volttron.platform.vip.agent.core DEBUG: serverkey: None\n",
      "2022-10-26 17:56:59,465 volttron.platform.vip.agent.core DEBUG: AGENT RUNNING on ZMQ Core d328f779-6bc8-4df6-968c-1be99f2278e1\n",
      "2022-10-26 17:56:59,468 volttron.platform.vip.agent.core INFO: CORE address:ipc://@/home/kefei/.volttron/run/vip.socket?publickey=AtHKs50YJxE3okzMqKtfpYGhQHUBRrjZHJdUJNMEJG8&secretkey=6uA1gKcZEFsWyqT6hXKcKrjjFFvU9mRyVgcPF2ckSzY&serverkey=AtHKs50YJxE3okzMqKtfpYGhQHUBRrjZHJdUJNMEJG8\n",
      "2022-10-26 17:56:59,469 volttron.platform.vip.zmq_connection DEBUG: ZMQ connection d328f779-6bc8-4df6-968c-1be99f2278e1\n",
      "2022-10-26 17:56:59,475 volttron.platform.vip.zmq_connection DEBUG: connecting to url ipc://@/home/kefei/.volttron/run/vip.socket?publickey=AtHKs50YJxE3okzMqKtfpYGhQHUBRrjZHJdUJNMEJG8&secretkey=6uA1gKcZEFsWyqT6hXKcKrjjFFvU9mRyVgcPF2ckSzY&serverkey=AtHKs50YJxE3okzMqKtfpYGhQHUBRrjZHJdUJNMEJG8\n",
      "2022-10-26 17:56:59,476 volttron.platform.vip.zmq_connection DEBUG: url type is <class 'str'>\n",
      "2022-10-26 17:56:59,502 volttron.platform.vip.agent.core INFO: Connected to platform: router: 3dbbdf3a-fae2-47bc-b925-e50bc590f025 version: 1.0 identity: d328f779-6bc8-4df6-968c-1be99f2278e1\n",
      "2022-10-26 17:56:59,503 volttron.platform.vip.agent.core DEBUG: Running onstart methods.\n"
     ]
    }
   ],
   "source": [
    "a = build_agent()"
   ],
   "metadata": {
    "collapsed": false
   }
  },
  {
   "cell_type": "code",
   "execution_count": 4,
   "outputs": [
    {
     "data": {
      "text/plain": "['devices/campus-vm/building-vm/Dnp3', 'udd-Dnp3.csv']"
     },
     "execution_count": 4,
     "metadata": {},
     "output_type": "execute_result"
    }
   ],
   "source": [
    "a.vip.rpc.call('config.store',\n",
    "               method='manage_list_configs',\n",
    "               identity=PLATFORM_DRIVER,).get()\n"
   ],
   "metadata": {
    "collapsed": false
   }
  },
  {
   "cell_type": "code",
   "execution_count": 23,
   "outputs": [
    {
     "data": {
      "text/plain": "'{\\n    \"driver_config\": {\"master_ip\": \"0.0.0.0\", \"outstation_ip\": \"127.0.0.1\",\\n        \"master_id\": 2, \"outstation_id\": 1,\\n        \"port\":  20000},\\n    \"registry_config\":\"config://udd-Dnp3.csv\",\\n\\t\\t\"driver_type\": \"udd_dnp3\",\\n    \"interval\": 5,\\n    \"timezone\": \"UTC\",\\n    \"campus\": \"campus-vm\",\\n    \"building\": \"building-vm\",\\n    \"unit\": \"Dnp3\",\\n\\t\\t\"publish_depth_first_all\": true,\\n    \"heart_beat_point\": \"random_bool\"\\n}\\n'"
     },
     "execution_count": 23,
     "metadata": {},
     "output_type": "execute_result"
    }
   ],
   "source": [
    "a.vip.rpc.call('config.store',\n",
    "               method='manage_get',\n",
    "               identity=PLATFORM_DRIVER,\n",
    "               config_name=\"devices/campus-vm/building-vm/Dnp3\"\n",
    "               ).get(timeout=5)\n"
   ],
   "metadata": {
    "collapsed": false
   }
  },
  {
   "cell_type": "code",
   "execution_count": 22,
   "outputs": [
    {
     "data": {
      "text/plain": "'Point Name,Volttron Point Name,Group,Variation,Index,Scaling,Units,Writable,Notes\\nAnalogInput_index0,AnalogInput_index0,30,6,0,1,NA,FALSE,Double Analogue input without status\\nAnalogInput_index1,AnalogInput_index1,30,6,1,1,NA,FALSE,Double Analogue input without status\\nAnalogInput_index2,AnalogInput_index2,30,6,2,1,NA,FALSE,Double Analogue input without status\\nAnalogInput_index3,AnalogInput_index3,30,6,3,1,NA,FALSE,Double Analogue input without status\\nBinaryInput_index0,BinaryInput_index0,1,2,0,1,NA,FALSE,Single bit binary input with status\\nBinaryInput_index1,BinaryInput_index1,1,2,1,1,NA,FALSE,Single bit binary input with status\\nBinaryInput_index2,BinaryInput_index2,1,2,2,1,NA,FALSE,Single bit binary input with status\\nBinaryInput_index3,BinaryInput_index3,1,2,3,1,NA,FALSE,Single bit binary input with status\\nAnalogOutput_index0,AnalogOutput_index0,40,4,0,1,NA,TRUE,Double-precision floating point with flags\\nAnalogOutput_index1,AnalogOutput_index1,40,4,1,1,NA,TRUE,Double-precision floating point with flags\\nAnalogOutput_index2,AnalogOutput_index2,40,4,2,1,NA,TRUE,Double-precision floating point with flags\\nAnalogOutput_index3,AnalogOutput_index3,40,4,3,1,NA,TRUE,Double-precision floating point with flags\\nBinaryOutput_index0,BinaryOutput_index0,10,2,0,1,NA,TRUE,Binary Output with flags\\nBinaryOutput_index1,BinaryOutput_index1,10,2,1,1,NA,TRUE,Binary Output with flags\\nBinaryOutput_index2,BinaryOutput_index2,10,2,2,1,NA,TRUE,Binary Output with flags\\nBinaryOutput_index3,BinaryOutput_index3,10,2,3,1,NA,TRUE,Binary Output with flags\\n'"
     },
     "execution_count": 22,
     "metadata": {},
     "output_type": "execute_result"
    }
   ],
   "source": [
    "a.vip.rpc.call('config.store',\n",
    "               method='manage_get',\n",
    "               identity=PLATFORM_DRIVER,\n",
    "               config_name=\"udd-Dnp3.csv\"\n",
    "               ).get(timeout=5)\n"
   ],
   "metadata": {
    "collapsed": false
   }
  },
  {
   "cell_type": "code",
   "execution_count": 7,
   "outputs": [
    {
     "data": {
      "text/plain": "8.413660355162994"
     },
     "execution_count": 7,
     "metadata": {},
     "output_type": "execute_result"
    }
   ],
   "source": [
    "a.vip.rpc.call(\"platform.driver\", \"get_point\",\n",
    "                  \"campus-vm/building-vm/Dnp3\",\n",
    "                   \"AnalogInput_index0\").get(timeout=5)\n"
   ],
   "metadata": {
    "collapsed": false
   }
  },
  {
   "cell_type": "code",
   "execution_count": 17,
   "outputs": [
    {
     "data": {
      "text/plain": "[]"
     },
     "execution_count": 17,
     "metadata": {},
     "output_type": "execute_result"
    }
   ],
   "source": [
    "a.vip.rpc.call('config.store',\n",
    "               method='manage_delete_store',\n",
    "               identity=PLATFORM_DRIVER,\n",
    "               ).get(timeout=5)\n",
    "\n",
    "a.vip.rpc.call('config.store',\n",
    "               method='manage_list_configs',\n",
    "               identity=PLATFORM_DRIVER,).get()\n"
   ],
   "metadata": {
    "collapsed": false
   }
  },
  {
   "cell_type": "code",
   "execution_count": 19,
   "outputs": [
    {
     "data": {
      "text/plain": "'Point Name,Volttron Point Name,Group,Variation,Index,Scaling,Units,Writable,Notes\\nAnalogInput_index0,AnalogInput_index0,30,6,0,1,NA,FALSE,Double Analogue input without status\\nAnalogInput_index1,AnalogInput_index1,30,6,1,1,NA,FALSE,Double Analogue input without status\\nAnalogInput_index2,AnalogInput_index2,30,6,2,1,NA,FALSE,Double Analogue input without status\\nAnalogInput_index3,AnalogInput_index3,30,6,3,1,NA,FALSE,Double Analogue input without status\\nBinaryInput_index0,BinaryInput_index0,1,2,0,1,NA,FALSE,Single bit binary input with status\\nBinaryInput_index1,BinaryInput_index1,1,2,1,1,NA,FALSE,Single bit binary input with status\\nBinaryInput_index2,BinaryInput_index2,1,2,2,1,NA,FALSE,Single bit binary input with status\\nBinaryInput_index3,BinaryInput_index3,1,2,3,1,NA,FALSE,Single bit binary input with status\\nAnalogOutput_index0,AnalogOutput_index0,40,4,0,1,NA,TRUE,Double-precision floating point with flags\\nAnalogOutput_index1,AnalogOutput_index1,40,4,1,1,NA,TRUE,Double-precision floating point with flags\\nAnalogOutput_index2,AnalogOutput_index2,40,4,2,1,NA,TRUE,Double-precision floating point with flags\\nAnalogOutput_index3,AnalogOutput_index3,40,4,3,1,NA,TRUE,Double-precision floating point with flags\\nBinaryOutput_index0,BinaryOutput_index0,10,2,0,1,NA,TRUE,Binary Output with flags\\nBinaryOutput_index1,BinaryOutput_index1,10,2,1,1,NA,TRUE,Binary Output with flags\\nBinaryOutput_index2,BinaryOutput_index2,10,2,2,1,NA,TRUE,Binary Output with flags\\nBinaryOutput_index3,BinaryOutput_index3,10,2,3,1,NA,TRUE,Binary Output with flags\\n'"
     },
     "execution_count": 19,
     "metadata": {},
     "output_type": "execute_result"
    }
   ],
   "source": [
    "# store\n",
    "json_str='{\\n    \"driver_config\": {\"master_ip\": \"0.0.0.0\", \"outstation_ip\": \"127.0.0.1\",\\n        \"master_id\": 2, \"outstation_id\": 1,\\n        \"port\":  20000},\\n    \"registry_config\":\"config://udd-Dnp3.csv\",\\n\\t\\t\"driver_type\": \"udd_dnp3\",\\n    \"interval\": 5,\\n    \"timezone\": \"UTC\",\\n    \"campus\": \"campus-vm\",\\n    \"building\": \"building-vm\",\\n    \"unit\": \"Dnp3\",\\n\\t\\t\"publish_depth_first_all\": true,\\n    \"heart_beat_point\": \"random_bool\"\\n}\\n'\n",
    "\n",
    "csv_str = 'Point Name,Volttron Point Name,Group,Variation,Index,Scaling,Units,Writable,Notes\\nAnalogInput_index0,AnalogInput_index0,30,6,0,1,NA,FALSE,Double Analogue input without status\\nAnalogInput_index1,AnalogInput_index1,30,6,1,1,NA,FALSE,Double Analogue input without status\\nAnalogInput_index2,AnalogInput_index2,30,6,2,1,NA,FALSE,Double Analogue input without status\\nAnalogInput_index3,AnalogInput_index3,30,6,3,1,NA,FALSE,Double Analogue input without status\\nBinaryInput_index0,BinaryInput_index0,1,2,0,1,NA,FALSE,Single bit binary input with status\\nBinaryInput_index1,BinaryInput_index1,1,2,1,1,NA,FALSE,Single bit binary input with status\\nBinaryInput_index2,BinaryInput_index2,1,2,2,1,NA,FALSE,Single bit binary input with status\\nBinaryInput_index3,BinaryInput_index3,1,2,3,1,NA,FALSE,Single bit binary input with status\\nAnalogOutput_index0,AnalogOutput_index0,40,4,0,1,NA,TRUE,Double-precision floating point with flags\\nAnalogOutput_index1,AnalogOutput_index1,40,4,1,1,NA,TRUE,Double-precision floating point with flags\\nAnalogOutput_index2,AnalogOutput_index2,40,4,2,1,NA,TRUE,Double-precision floating point with flags\\nAnalogOutput_index3,AnalogOutput_index3,40,4,3,1,NA,TRUE,Double-precision floating point with flags\\nBinaryOutput_index0,BinaryOutput_index0,10,2,0,1,NA,TRUE,Binary Output with flags\\nBinaryOutput_index1,BinaryOutput_index1,10,2,1,1,NA,TRUE,Binary Output with flags\\nBinaryOutput_index2,BinaryOutput_index2,10,2,2,1,NA,TRUE,Binary Output with flags\\nBinaryOutput_index3,BinaryOutput_index3,10,2,3,1,NA,TRUE,Binary Output with flags\\n'\n",
    "\n",
    "csv_str\n"
   ],
   "metadata": {
    "collapsed": false
   }
  },
  {
   "cell_type": "code",
   "execution_count": 21,
   "outputs": [
    {
     "data": {
      "text/plain": "['devices/campus-vm/building-vm/Dnp3', 'udd-Dnp3.csv']"
     },
     "execution_count": 21,
     "metadata": {},
     "output_type": "execute_result"
    }
   ],
   "source": [
    "a.vip.rpc.call('config.store',\n",
    "               method='manage_store',\n",
    "               identity=PLATFORM_DRIVER,\n",
    "               config_name=\"udd-Dnp3.csv\",\n",
    "               raw_contents=csv_str,\n",
    "               config_type='csv'\n",
    "               ).get(timeout=5)\n",
    "\n",
    "a.vip.rpc.call('config.store',\n",
    "               method='manage_store',\n",
    "               identity=PLATFORM_DRIVER,\n",
    "               config_name=\"devices/campus-vm/building-vm/Dnp3\",\n",
    "               raw_contents=json_str,\n",
    "               config_type='json'\n",
    "               ).get(timeout=5)\n",
    "\n",
    "a.vip.rpc.call('config.store',\n",
    "               method='manage_list_configs',\n",
    "               identity=PLATFORM_DRIVER,).get()\n"
   ],
   "metadata": {
    "collapsed": false
   }
  },
  {
   "cell_type": "code",
   "execution_count": 24,
   "outputs": [
    {
     "ename": "Timeout",
     "evalue": "5 seconds",
     "output_type": "error",
     "traceback": [
      "\u001B[0;31m---------------------------------------------------------------------------\u001B[0m",
      "\u001B[0;31mTimeout\u001B[0m                                   Traceback (most recent call last)",
      "Cell \u001B[0;32mIn [24], line 1\u001B[0m\n\u001B[0;32m----> 1\u001B[0m a\u001B[38;5;241m.\u001B[39mvip\u001B[38;5;241m.\u001B[39mrpc\u001B[38;5;241m.\u001B[39mcall(\u001B[38;5;124m\"\u001B[39m\u001B[38;5;124mplatform.driver\u001B[39m\u001B[38;5;124m\"\u001B[39m, \u001B[38;5;124m\"\u001B[39m\u001B[38;5;124mget_point\u001B[39m\u001B[38;5;124m\"\u001B[39m,\n\u001B[1;32m      2\u001B[0m                   \u001B[38;5;124m\"\u001B[39m\u001B[38;5;124mcampus-vm/building-vm/Dnp3\u001B[39m\u001B[38;5;124m\"\u001B[39m,\n\u001B[1;32m      3\u001B[0m                    \u001B[38;5;124m\"\u001B[39m\u001B[38;5;124mAnalogInput_index0\u001B[39m\u001B[38;5;124m\"\u001B[39m)\u001B[38;5;241m.\u001B[39mget(timeout\u001B[38;5;241m=\u001B[39m\u001B[38;5;241m5\u001B[39m)\n",
      "File \u001B[0;32msrc/gevent/event.py:329\u001B[0m, in \u001B[0;36mgevent._gevent_cevent.AsyncResult.get\u001B[0;34m()\u001B[0m\n",
      "File \u001B[0;32msrc/gevent/event.py:356\u001B[0m, in \u001B[0;36mgevent._gevent_cevent.AsyncResult.get\u001B[0;34m()\u001B[0m\n",
      "File \u001B[0;32msrc/gevent/_abstract_linkable.py:487\u001B[0m, in \u001B[0;36mgevent._gevent_c_abstract_linkable.AbstractLinkable._wait_core\u001B[0;34m()\u001B[0m\n",
      "File \u001B[0;32msrc/gevent/_abstract_linkable.py:490\u001B[0m, in \u001B[0;36mgevent._gevent_c_abstract_linkable.AbstractLinkable._wait_core\u001B[0;34m()\u001B[0m\n",
      "File \u001B[0;32msrc/gevent/_abstract_linkable.py:442\u001B[0m, in \u001B[0;36mgevent._gevent_c_abstract_linkable.AbstractLinkable._AbstractLinkable__wait_to_be_notified\u001B[0;34m()\u001B[0m\n",
      "File \u001B[0;32msrc/gevent/_abstract_linkable.py:451\u001B[0m, in \u001B[0;36mgevent._gevent_c_abstract_linkable.AbstractLinkable._switch_to_hub\u001B[0;34m()\u001B[0m\n",
      "File \u001B[0;32msrc/gevent/_greenlet_primitives.py:61\u001B[0m, in \u001B[0;36mgevent._gevent_c_greenlet_primitives.SwitchOutGreenletWithLoop.switch\u001B[0;34m()\u001B[0m\n",
      "File \u001B[0;32msrc/gevent/_greenlet_primitives.py:65\u001B[0m, in \u001B[0;36mgevent._gevent_c_greenlet_primitives.SwitchOutGreenletWithLoop.switch\u001B[0;34m()\u001B[0m\n",
      "File \u001B[0;32msrc/gevent/_gevent_c_greenlet_primitives.pxd:35\u001B[0m, in \u001B[0;36mgevent._gevent_c_greenlet_primitives._greenlet_switch\u001B[0;34m()\u001B[0m\n",
      "\u001B[0;31mTimeout\u001B[0m: 5 seconds"
     ]
    }
   ],
   "source": [
    "a.vip.rpc.call(\"platform.driver\", \"get_point\",\n",
    "                  \"campus-vm/building-vm/Dnp3\",\n",
    "                   \"AnalogInput_index0\").get(timeout=5)\n"
   ],
   "metadata": {
    "collapsed": false
   }
  },
  {
   "cell_type": "code",
   "execution_count": null,
   "outputs": [],
   "source": [],
   "metadata": {
    "collapsed": false
   }
  }
 ],
 "metadata": {
  "kernelspec": {
   "display_name": "Python 3",
   "language": "python",
   "name": "python3"
  },
  "language_info": {
   "codemirror_mode": {
    "name": "ipython",
    "version": 2
   },
   "file_extension": ".py",
   "mimetype": "text/x-python",
   "name": "python",
   "nbconvert_exporter": "python",
   "pygments_lexer": "ipython2",
   "version": "2.7.6"
  }
 },
 "nbformat": 4,
 "nbformat_minor": 0
}
