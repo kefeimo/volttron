{
 "cells": [
  {
   "cell_type": "code",
   "execution_count": 11,
   "id": "7caeaa5f",
   "metadata": {},
   "outputs": [],
   "source": [
    "so_path = \"/home/kefei/project/pydnp3/build/\" + \\\n",
    "\"lib.linux-x86_64-cpython-38/pydnp3.cpython-38-x86_64-linux-gnu.so\"\n",
    "\n",
    "so_path = \"/home/kefei/project/pydnp3/\" + \\\n",
    "\"pydnp3.cpython-38-x86_64-linux-gnu.so\""
   ]
  },
  {
   "cell_type": "code",
   "execution_count": 12,
   "id": "96375c3b",
   "metadata": {},
   "outputs": [],
   "source": [
    "from ctypes import *\n",
    "# either\n",
    "# libc = cdll.LoadLibrary(\"libc.so.6\")\n",
    "# # or\n",
    "# libc = CDLL(\"libc.so.6\")"
   ]
  },
  {
   "cell_type": "code",
   "execution_count": 13,
   "id": "7170c376",
   "metadata": {},
   "outputs": [
    {
     "data": {
      "text/plain": [
       "<CDLL '/home/kefei/project/pydnp3/pydnp3.cpython-38-x86_64-linux-gnu.so', handle 1c00970 at 0x7f0b9d4713d0>"
      ]
     },
     "execution_count": 13,
     "metadata": {},
     "output_type": "execute_result"
    }
   ],
   "source": [
    "pydnp3 = cdll.LoadLibrary(so_path)\n",
    "pydnp3"
   ]
  },
  {
   "cell_type": "code",
   "execution_count": 14,
   "id": "840d7681",
   "metadata": {},
   "outputs": [
    {
     "data": {
      "text/plain": [
       "<CDLL '/home/kefei/project/pydnp3/pydnp3.cpython-38-x86_64-linux-gnu.so', handle 1c00970 at 0x7f0b9d471be0>"
      ]
     },
     "execution_count": 14,
     "metadata": {},
     "output_type": "execute_result"
    }
   ],
   "source": [
    "pydnp3 = CDLL(so_path)\n",
    "pydnp3"
   ]
  },
  {
   "cell_type": "code",
   "execution_count": null,
   "id": "c49af8a6",
   "metadata": {},
   "outputs": [],
   "source": []
  },
  {
   "cell_type": "code",
   "execution_count": 15,
   "id": "33b9b29c",
   "metadata": {},
   "outputs": [
    {
     "name": "stdout",
     "output_type": "stream",
     "text": [
      "<CDLL '/home/kefei/project/pydnp3/pydnp3.cpython-38-x86_64-linux-gnu.so', handle 1c00970 at 0x7f0b9d471be0>\n"
     ]
    }
   ],
   "source": [
    "print(pydnp3)"
   ]
  },
  {
   "cell_type": "code",
   "execution_count": 16,
   "id": "1f4f8a6b",
   "metadata": {},
   "outputs": [
    {
     "ename": "AttributeError",
     "evalue": "/home/kefei/project/pydnp3/pydnp3.cpython-38-x86_64-linux-gnu.so: undefined symbol: opendnp3",
     "output_type": "error",
     "traceback": [
      "\u001b[0;31m---------------------------------------------------------------------------\u001b[0m",
      "\u001b[0;31mAttributeError\u001b[0m                            Traceback (most recent call last)",
      "Cell \u001b[0;32mIn [16], line 1\u001b[0m\n\u001b[0;32m----> 1\u001b[0m pydnp3\u001b[38;5;241m.\u001b[39mopendnp3\n",
      "File \u001b[0;32m/usr/lib/python3.8/ctypes/__init__.py:386\u001b[0m, in \u001b[0;36mCDLL.__getattr__\u001b[0;34m(self, name)\u001b[0m\n\u001b[1;32m    384\u001b[0m \u001b[38;5;28;01mif\u001b[39;00m name\u001b[38;5;241m.\u001b[39mstartswith(\u001b[38;5;124m'\u001b[39m\u001b[38;5;124m__\u001b[39m\u001b[38;5;124m'\u001b[39m) \u001b[38;5;129;01mand\u001b[39;00m name\u001b[38;5;241m.\u001b[39mendswith(\u001b[38;5;124m'\u001b[39m\u001b[38;5;124m__\u001b[39m\u001b[38;5;124m'\u001b[39m):\n\u001b[1;32m    385\u001b[0m     \u001b[38;5;28;01mraise\u001b[39;00m \u001b[38;5;167;01mAttributeError\u001b[39;00m(name)\n\u001b[0;32m--> 386\u001b[0m func \u001b[38;5;241m=\u001b[39m \u001b[38;5;28;43mself\u001b[39;49m\u001b[38;5;241;43m.\u001b[39;49m\u001b[38;5;21;43m__getitem__\u001b[39;49m\u001b[43m(\u001b[49m\u001b[43mname\u001b[49m\u001b[43m)\u001b[49m\n\u001b[1;32m    387\u001b[0m \u001b[38;5;28msetattr\u001b[39m(\u001b[38;5;28mself\u001b[39m, name, func)\n\u001b[1;32m    388\u001b[0m \u001b[38;5;28;01mreturn\u001b[39;00m func\n",
      "File \u001b[0;32m/usr/lib/python3.8/ctypes/__init__.py:391\u001b[0m, in \u001b[0;36mCDLL.__getitem__\u001b[0;34m(self, name_or_ordinal)\u001b[0m\n\u001b[1;32m    390\u001b[0m \u001b[38;5;28;01mdef\u001b[39;00m \u001b[38;5;21m__getitem__\u001b[39m(\u001b[38;5;28mself\u001b[39m, name_or_ordinal):\n\u001b[0;32m--> 391\u001b[0m     func \u001b[38;5;241m=\u001b[39m \u001b[38;5;28;43mself\u001b[39;49m\u001b[38;5;241;43m.\u001b[39;49m\u001b[43m_FuncPtr\u001b[49m\u001b[43m(\u001b[49m\u001b[43m(\u001b[49m\u001b[43mname_or_ordinal\u001b[49m\u001b[43m,\u001b[49m\u001b[43m \u001b[49m\u001b[38;5;28;43mself\u001b[39;49m\u001b[43m)\u001b[49m\u001b[43m)\u001b[49m\n\u001b[1;32m    392\u001b[0m     \u001b[38;5;28;01mif\u001b[39;00m \u001b[38;5;129;01mnot\u001b[39;00m \u001b[38;5;28misinstance\u001b[39m(name_or_ordinal, \u001b[38;5;28mint\u001b[39m):\n\u001b[1;32m    393\u001b[0m         func\u001b[38;5;241m.\u001b[39m\u001b[38;5;18m__name__\u001b[39m \u001b[38;5;241m=\u001b[39m name_or_ordinal\n",
      "\u001b[0;31mAttributeError\u001b[0m: /home/kefei/project/pydnp3/pydnp3.cpython-38-x86_64-linux-gnu.so: undefined symbol: opendnp3"
     ]
    }
   ],
   "source": []
  },
  {
   "cell_type": "code",
   "execution_count": null,
   "id": "fb7de490",
   "metadata": {},
   "outputs": [],
   "source": []
  }
 ],
 "metadata": {
  "kernelspec": {
   "display_name": "Python 3 (ipykernel)",
   "language": "python",
   "name": "python3"
  },
  "language_info": {
   "codemirror_mode": {
    "name": "ipython",
    "version": 3
   },
   "file_extension": ".py",
   "mimetype": "text/x-python",
   "name": "python",
   "nbconvert_exporter": "python",
   "pygments_lexer": "ipython3",
   "version": "3.8.10"
  }
 },
 "nbformat": 4,
 "nbformat_minor": 5
}
