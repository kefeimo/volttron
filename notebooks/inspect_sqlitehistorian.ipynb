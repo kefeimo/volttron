{
 "cells": [
  {
   "cell_type": "code",
   "execution_count": 1,
   "id": "20504d23",
   "metadata": {},
   "outputs": [],
   "source": [
    "import sqlite3\n",
    "import pandas as pd\n",
    "from pandas.core.frame import DataFrame\n",
    "import warnings\n",
    "warnings.simplefilter(action='ignore', category=FutureWarning)\n",
    "pd.options.mode.chained_assignment = None\n",
    "\n",
    "from matplotlib import pyplot as plt\n",
    "from time import sleep\n",
    "\n",
    "import matplotlib\n",
    "\n",
    "\n",
    "# import gnuplotlib as gp\n",
    "import numpy as np\n",
    "\n",
    "import sys"
   ]
  },
  {
   "cell_type": "code",
   "execution_count": 2,
   "id": "f14bf682",
   "metadata": {},
   "outputs": [],
   "source": [
    "pd.set_option('display.max_colwidth', None)"
   ]
  },
  {
   "cell_type": "code",
   "execution_count": 3,
   "id": "16864711",
   "metadata": {},
   "outputs": [],
   "source": [
    "import requests"
   ]
  },
  {
   "cell_type": "code",
   "execution_count": 4,
   "id": "6061f688",
   "metadata": {},
   "outputs": [],
   "source": [
    "def get_df(f_path: str = \"/home/kefei/.volttron/agents/\"\n",
    "                       \"ba3caba2-2e44-49a3-a771-eaccf6b7bc3e/sqlhistorianagent-4.0.0/data/platform.historian.sqlite\"\n",
    "           ) -> pd.DataFrame:\n",
    "    # f_path = \"/home/kefei/.volttron/agents/85736715-3354-4b70-94d7-eb2ca6e88e48/sqlhistorianagent-4.0.0/data/platform.historian.sqlite\"\n",
    "    con = sqlite3.connect(f_path)\n",
    "\n",
    "    # df = pd.read_sql_query(\"SELECT name FROM sqlite_schema WHERE type ='table' AND name NOT LIKE 'sqlite_%'\", con)\n",
    "    # df.head()\n",
    "\n",
    "    df_data = pd.read_sql_query(sql=\"select * from data\", con=con)\n",
    "    # df_data\n",
    "\n",
    "    df_topics = pd.read_sql_query(sql=\"select * from topics\", con=con)\n",
    "    # df_topics\n",
    "    con.commit()  # to make sure refresh\n",
    "\n",
    "    df_join = pd.merge(df_data, df_topics, on='topic_id')\n",
    "    # df_join.head()\n",
    "\n",
    "    return df_join"
   ]
  },
  {
   "cell_type": "code",
   "execution_count": 35,
   "id": "fe7bb603",
   "metadata": {},
   "outputs": [
    {
     "data": {
      "text/html": [
       "<div>\n",
       "<style scoped>\n",
       "    .dataframe tbody tr th:only-of-type {\n",
       "        vertical-align: middle;\n",
       "    }\n",
       "\n",
       "    .dataframe tbody tr th {\n",
       "        vertical-align: top;\n",
       "    }\n",
       "\n",
       "    .dataframe thead th {\n",
       "        text-align: right;\n",
       "    }\n",
       "</style>\n",
       "<table border=\"1\" class=\"dataframe\">\n",
       "  <thead>\n",
       "    <tr style=\"text-align: right;\">\n",
       "      <th></th>\n",
       "      <th>ts</th>\n",
       "      <th>topic_id</th>\n",
       "      <th>value_string</th>\n",
       "      <th>topic_name</th>\n",
       "      <th>metadata</th>\n",
       "    </tr>\n",
       "  </thead>\n",
       "  <tbody>\n",
       "    <tr>\n",
       "      <th>49763</th>\n",
       "      <td>2022-05-18T19:51:30.023592+00:00</td>\n",
       "      <td>88</td>\n",
       "      <td>2</td>\n",
       "      <td>campus/building/user-fake/SampleLong1</td>\n",
       "      <td>{\"units\": \"1\", \"type\": \"integer\", \"tz\": \"US/Pacific\"}</td>\n",
       "    </tr>\n",
       "    <tr>\n",
       "      <th>49764</th>\n",
       "      <td>2022-05-18T19:51:35.020461+00:00</td>\n",
       "      <td>88</td>\n",
       "      <td>1</td>\n",
       "      <td>campus/building/user-fake/SampleLong1</td>\n",
       "      <td>{\"units\": \"1\", \"type\": \"integer\", \"tz\": \"US/Pacific\"}</td>\n",
       "    </tr>\n",
       "    <tr>\n",
       "      <th>49765</th>\n",
       "      <td>2022-05-18T19:51:40.021101+00:00</td>\n",
       "      <td>88</td>\n",
       "      <td>7</td>\n",
       "      <td>campus/building/user-fake/SampleLong1</td>\n",
       "      <td>{\"units\": \"1\", \"type\": \"integer\", \"tz\": \"US/Pacific\"}</td>\n",
       "    </tr>\n",
       "    <tr>\n",
       "      <th>49766</th>\n",
       "      <td>2022-05-18T19:51:45.024189+00:00</td>\n",
       "      <td>88</td>\n",
       "      <td>3</td>\n",
       "      <td>campus/building/user-fake/SampleLong1</td>\n",
       "      <td>{\"units\": \"1\", \"type\": \"integer\", \"tz\": \"US/Pacific\"}</td>\n",
       "    </tr>\n",
       "    <tr>\n",
       "      <th>49767</th>\n",
       "      <td>2022-05-18T19:51:50.022036+00:00</td>\n",
       "      <td>88</td>\n",
       "      <td>2</td>\n",
       "      <td>campus/building/user-fake/SampleLong1</td>\n",
       "      <td>{\"units\": \"1\", \"type\": \"integer\", \"tz\": \"US/Pacific\"}</td>\n",
       "    </tr>\n",
       "  </tbody>\n",
       "</table>\n",
       "</div>"
      ],
      "text/plain": [
       "                                     ts  topic_id value_string  \\\n",
       "49763  2022-05-18T19:51:30.023592+00:00        88            2   \n",
       "49764  2022-05-18T19:51:35.020461+00:00        88            1   \n",
       "49765  2022-05-18T19:51:40.021101+00:00        88            7   \n",
       "49766  2022-05-18T19:51:45.024189+00:00        88            3   \n",
       "49767  2022-05-18T19:51:50.022036+00:00        88            2   \n",
       "\n",
       "                                  topic_name  \\\n",
       "49763  campus/building/user-fake/SampleLong1   \n",
       "49764  campus/building/user-fake/SampleLong1   \n",
       "49765  campus/building/user-fake/SampleLong1   \n",
       "49766  campus/building/user-fake/SampleLong1   \n",
       "49767  campus/building/user-fake/SampleLong1   \n",
       "\n",
       "                                                    metadata  \n",
       "49763  {\"units\": \"1\", \"type\": \"integer\", \"tz\": \"US/Pacific\"}  \n",
       "49764  {\"units\": \"1\", \"type\": \"integer\", \"tz\": \"US/Pacific\"}  \n",
       "49765  {\"units\": \"1\", \"type\": \"integer\", \"tz\": \"US/Pacific\"}  \n",
       "49766  {\"units\": \"1\", \"type\": \"integer\", \"tz\": \"US/Pacific\"}  \n",
       "49767  {\"units\": \"1\", \"type\": \"integer\", \"tz\": \"US/Pacific\"}  "
      ]
     },
     "execution_count": 35,
     "metadata": {},
     "output_type": "execute_result"
    }
   ],
   "source": [
    "df = get_df()\n",
    "df.tail()"
   ]
  },
  {
   "cell_type": "code",
   "execution_count": 43,
   "id": "5652888a",
   "metadata": {},
   "outputs": [
    {
     "data": {
      "text/html": [
       "<div>\n",
       "<style scoped>\n",
       "    .dataframe tbody tr th:only-of-type {\n",
       "        vertical-align: middle;\n",
       "    }\n",
       "\n",
       "    .dataframe tbody tr th {\n",
       "        vertical-align: top;\n",
       "    }\n",
       "\n",
       "    .dataframe thead th {\n",
       "        text-align: right;\n",
       "    }\n",
       "</style>\n",
       "<table border=\"1\" class=\"dataframe\">\n",
       "  <thead>\n",
       "    <tr style=\"text-align: right;\">\n",
       "      <th></th>\n",
       "      <th>ts</th>\n",
       "      <th>topic_id</th>\n",
       "      <th>value_string</th>\n",
       "      <th>topic_name</th>\n",
       "      <th>metadata</th>\n",
       "    </tr>\n",
       "  </thead>\n",
       "  <tbody>\n",
       "    <tr>\n",
       "      <th>48715</th>\n",
       "      <td>2022-05-18T19:57:12.781411+00:00</td>\n",
       "      <td>83</td>\n",
       "      <td>28193.2651</td>\n",
       "      <td>campus/building/restapi/bitcoin_eur</td>\n",
       "      <td>{\"units\": \"eur\", \"type\": \"integer\", \"tz\": \"US/Pacific\"}</td>\n",
       "    </tr>\n",
       "    <tr>\n",
       "      <th>48099</th>\n",
       "      <td>2022-05-18T19:57:12.781411+00:00</td>\n",
       "      <td>81</td>\n",
       "      <td>29311.6512</td>\n",
       "      <td>campus/building/restapi/bitcoin_usd</td>\n",
       "      <td>{\"units\": \"usd\", \"type\": \"integer\", \"tz\": \"US/Pacific\"}</td>\n",
       "    </tr>\n",
       "    <tr>\n",
       "      <th>48407</th>\n",
       "      <td>2022-05-18T19:57:12.781411+00:00</td>\n",
       "      <td>82</td>\n",
       "      <td>23954.1848</td>\n",
       "      <td>campus/building/restapi/bitcoin_gbp</td>\n",
       "      <td>{\"units\": \"gbp\", \"type\": \"integer\", \"tz\": \"US/Pacific\"}</td>\n",
       "    </tr>\n",
       "    <tr>\n",
       "      <th>49023</th>\n",
       "      <td>2022-05-18T19:57:12.781411+00:00</td>\n",
       "      <td>84</td>\n",
       "      <td>false</td>\n",
       "      <td>campus/building/restapi/random_bool</td>\n",
       "      <td>{\"units\": \"1\", \"type\": \"integer\", \"tz\": \"US/Pacific\"}</td>\n",
       "    </tr>\n",
       "    <tr>\n",
       "      <th>50279</th>\n",
       "      <td>2022-05-18T19:57:10.023190+00:00</td>\n",
       "      <td>88</td>\n",
       "      <td>10</td>\n",
       "      <td>campus/building/user-fake/SampleLong1</td>\n",
       "      <td>{\"units\": \"1\", \"type\": \"integer\", \"tz\": \"US/Pacific\"}</td>\n",
       "    </tr>\n",
       "    <tr>\n",
       "      <th>49651</th>\n",
       "      <td>2022-05-18T19:57:10.023190+00:00</td>\n",
       "      <td>86</td>\n",
       "      <td>0.8660254037844386</td>\n",
       "      <td>campus/building/user-fake/EKG</td>\n",
       "      <td>{\"units\": \"degree\", \"type\": \"integer\", \"tz\": \"US/Pacific\"}</td>\n",
       "    </tr>\n",
       "    <tr>\n",
       "      <th>49337</th>\n",
       "      <td>2022-05-18T19:57:10.023190+00:00</td>\n",
       "      <td>85</td>\n",
       "      <td>false</td>\n",
       "      <td>campus/building/user-fake/Heartbeat</td>\n",
       "      <td>{\"units\": \"1\", \"type\": \"integer\", \"tz\": \"US/Pacific\"}</td>\n",
       "    </tr>\n",
       "    <tr>\n",
       "      <th>49965</th>\n",
       "      <td>2022-05-18T19:57:10.023190+00:00</td>\n",
       "      <td>87</td>\n",
       "      <td>-98.84235250156972</td>\n",
       "      <td>campus/building/user-fake/OutsideAirTemperature1</td>\n",
       "      <td>{\"units\": \"F\", \"type\": \"integer\", \"tz\": \"US/Pacific\"}</td>\n",
       "    </tr>\n",
       "  </tbody>\n",
       "</table>\n",
       "</div>"
      ],
      "text/plain": [
       "                                     ts  topic_id        value_string  \\\n",
       "48715  2022-05-18T19:57:12.781411+00:00        83          28193.2651   \n",
       "48099  2022-05-18T19:57:12.781411+00:00        81          29311.6512   \n",
       "48407  2022-05-18T19:57:12.781411+00:00        82          23954.1848   \n",
       "49023  2022-05-18T19:57:12.781411+00:00        84               false   \n",
       "50279  2022-05-18T19:57:10.023190+00:00        88                  10   \n",
       "49651  2022-05-18T19:57:10.023190+00:00        86  0.8660254037844386   \n",
       "49337  2022-05-18T19:57:10.023190+00:00        85               false   \n",
       "49965  2022-05-18T19:57:10.023190+00:00        87  -98.84235250156972   \n",
       "\n",
       "                                             topic_name  \\\n",
       "48715               campus/building/restapi/bitcoin_eur   \n",
       "48099               campus/building/restapi/bitcoin_usd   \n",
       "48407               campus/building/restapi/bitcoin_gbp   \n",
       "49023               campus/building/restapi/random_bool   \n",
       "50279             campus/building/user-fake/SampleLong1   \n",
       "49651                     campus/building/user-fake/EKG   \n",
       "49337               campus/building/user-fake/Heartbeat   \n",
       "49965  campus/building/user-fake/OutsideAirTemperature1   \n",
       "\n",
       "                                                         metadata  \n",
       "48715     {\"units\": \"eur\", \"type\": \"integer\", \"tz\": \"US/Pacific\"}  \n",
       "48099     {\"units\": \"usd\", \"type\": \"integer\", \"tz\": \"US/Pacific\"}  \n",
       "48407     {\"units\": \"gbp\", \"type\": \"integer\", \"tz\": \"US/Pacific\"}  \n",
       "49023       {\"units\": \"1\", \"type\": \"integer\", \"tz\": \"US/Pacific\"}  \n",
       "50279       {\"units\": \"1\", \"type\": \"integer\", \"tz\": \"US/Pacific\"}  \n",
       "49651  {\"units\": \"degree\", \"type\": \"integer\", \"tz\": \"US/Pacific\"}  \n",
       "49337       {\"units\": \"1\", \"type\": \"integer\", \"tz\": \"US/Pacific\"}  \n",
       "49965       {\"units\": \"F\", \"type\": \"integer\", \"tz\": \"US/Pacific\"}  "
      ]
     },
     "execution_count": 43,
     "metadata": {},
     "output_type": "execute_result"
    }
   ],
   "source": [
    "# inspect here\n",
    "df = get_df()\n",
    "df.sort_values('ts', ascending=False).head(8)\n"
   ]
  },
  {
   "cell_type": "code",
   "execution_count": null,
   "id": "159562d3",
   "metadata": {},
   "outputs": [],
   "source": [
    "topic_prfix = \"campus/building/restapi/\"\n",
    "topic_prfix = \"campus/building/user-fake/\"\n",
    "\n",
    "# inspect here\n",
    "df = get_df()\n",
    "df_filetered = df.sort_values('ts', ascending=False)\n",
    "df_filetered[df_filetered.topic_name.str.contains(topic_prfix)].head(8)"
   ]
  },
  {
   "cell_type": "code",
   "execution_count": 26,
   "id": "52101ca1",
   "metadata": {},
   "outputs": [],
   "source": [
    "from IPython.display import display, clear_output"
   ]
  },
  {
   "cell_type": "code",
   "execution_count": 47,
   "id": "6c59c133",
   "metadata": {
    "scrolled": true
   },
   "outputs": [
    {
     "name": "stdout",
     "output_type": "stream",
     "text": [
      "                                     ts  topic_id value_string  \\\n",
      "50152  2022-05-18T19:55:40.022455+00:00        88           10   \n",
      "50153  2022-05-18T19:55:45.021146+00:00        88            7   \n",
      "50154  2022-05-18T19:55:50.022184+00:00        88            6   \n",
      "50155  2022-05-18T19:55:55.021520+00:00        88            5   \n",
      "\n",
      "                                  topic_name  \\\n",
      "50152  campus/building/user-fake/SampleLong1   \n",
      "50153  campus/building/user-fake/SampleLong1   \n",
      "50154  campus/building/user-fake/SampleLong1   \n",
      "50155  campus/building/user-fake/SampleLong1   \n",
      "\n",
      "                                                    metadata  \n",
      "50152  {\"units\": \"1\", \"type\": \"integer\", \"tz\": \"US/Pacific\"}  \n",
      "50153  {\"units\": \"1\", \"type\": \"integer\", \"tz\": \"US/Pacific\"}  \n",
      "50154  {\"units\": \"1\", \"type\": \"integer\", \"tz\": \"US/Pacific\"}  \n",
      "50155  {\"units\": \"1\", \"type\": \"integer\", \"tz\": \"US/Pacific\"}  \n"
     ]
    },
    {
     "ename": "KeyboardInterrupt",
     "evalue": "",
     "output_type": "error",
     "traceback": [
      "\u001b[0;31m---------------------------------------------------------------------------\u001b[0m",
      "\u001b[0;31mKeyboardInterrupt\u001b[0m                         Traceback (most recent call last)",
      "Input \u001b[0;32mIn [47]\u001b[0m, in \u001b[0;36m<cell line: 14>\u001b[0;34m()\u001b[0m\n\u001b[1;32m     29\u001b[0m     count \u001b[38;5;241m-\u001b[39m\u001b[38;5;241m=\u001b[39m \u001b[38;5;241m1\u001b[39m\n\u001b[1;32m     30\u001b[0m \u001b[38;5;66;03m#     print(\"count\", count)\u001b[39;00m\n\u001b[0;32m---> 31\u001b[0m     \u001b[43msleep\u001b[49m\u001b[43m(\u001b[49m\u001b[38;5;241;43m2\u001b[39;49m\u001b[43m)\u001b[49m\n\u001b[1;32m     32\u001b[0m     clear_output(wait\u001b[38;5;241m=\u001b[39m\u001b[38;5;28;01mTrue\u001b[39;00m)\n",
      "\u001b[0;31mKeyboardInterrupt\u001b[0m: "
     ]
    }
   ],
   "source": [
    "\n",
    "\n",
    "topic_prfix = \"campus/building/restapi/\"\n",
    "topic_prfix = \"campus/building/user-fake/\"\n",
    "topic_prfix = \"campus/building/\"\n",
    "\n",
    "# inspect here\n",
    "df = get_df()\n",
    "df.ts = pd.to_datetime(df.ts)\n",
    "df_filetered = df.sort_values('ts', ascending=False)\n",
    "df_filetered = df_filetered[df_filetered.topic_name.str.contains(topic_prfix)]\n",
    "df_play = df_filetered.sort_values('ts', ascending=False).head(8)\n",
    "\n",
    "old_index = df_play.index\n",
    "count = 500\n",
    "while count > 0:\n",
    "    df = get_df()\n",
    "    df.ts = pd.to_datetime(df.ts)\n",
    "    df_filetered = df.sort_values('ts', ascending=False)\n",
    "    df_filetered = df_filetered[df_filetered.topic_name.str.contains(topic_prfix)]\n",
    "    df_play = df_filetered.sort_values('ts', ascending=False).head(8)\n",
    "    new_index = df_play.index.copy()\n",
    "    index_diff = new_index.difference(old_index)\n",
    "    old_index = new_index\n",
    "    if len(index_diff) > 0:\n",
    "#         print(df_filetered.loc[index_diff].head(8))\n",
    "        print(df_display)\n",
    "#         display(df_display)\n",
    "    else:\n",
    "        print(\"no new data published. Count at: \", count)\n",
    "    count -= 1\n",
    "#     print(\"count\", count)\n",
    "    sleep(2)\n",
    "    clear_output(wait=True)"
   ]
  },
  {
   "cell_type": "code",
   "execution_count": 11,
   "id": "f275ea7c",
   "metadata": {},
   "outputs": [],
   "source": [
    "df_hist = df_filetered[df_filetered.topic_name.str.contains(topic_prfix)].head(8)\n",
    "df_hist_2 = df_filetered[df_filetered.topic_name.str.contains(topic_prfix)].head(7)"
   ]
  },
  {
   "cell_type": "code",
   "execution_count": 12,
   "id": "afc5e611",
   "metadata": {},
   "outputs": [
    {
     "data": {
      "text/plain": [
       "Int64Index([48243, 48183, 48303, 48363, 48362, 48242, 48182], dtype='int64')"
      ]
     },
     "execution_count": 12,
     "metadata": {},
     "output_type": "execute_result"
    }
   ],
   "source": [
    "df_hist_2.index"
   ]
  },
  {
   "cell_type": "code",
   "execution_count": 14,
   "id": "55971868",
   "metadata": {},
   "outputs": [
    {
     "data": {
      "text/plain": [
       "Int64Index([48302], dtype='int64')"
      ]
     },
     "execution_count": 14,
     "metadata": {},
     "output_type": "execute_result"
    }
   ],
   "source": [
    "df_hist.index.difference(df_hist_2.index) # order matters"
   ]
  },
  {
   "cell_type": "code",
   "execution_count": 15,
   "id": "edb7df7c",
   "metadata": {},
   "outputs": [
    {
     "data": {
      "text/plain": [
       "Int64Index([], dtype='int64')"
      ]
     },
     "execution_count": 15,
     "metadata": {},
     "output_type": "execute_result"
    }
   ],
   "source": [
    "df_hist_2.index.difference(df_hist.index)"
   ]
  },
  {
   "cell_type": "code",
   "execution_count": null,
   "id": "ae130259",
   "metadata": {},
   "outputs": [],
   "source": []
  }
 ],
 "metadata": {
  "kernelspec": {
   "display_name": "Python 3 (ipykernel)",
   "language": "python",
   "name": "python3"
  },
  "language_info": {
   "codemirror_mode": {
    "name": "ipython",
    "version": 3
   },
   "file_extension": ".py",
   "mimetype": "text/x-python",
   "name": "python",
   "nbconvert_exporter": "python",
   "pygments_lexer": "ipython3",
   "version": "3.8.10"
  }
 },
 "nbformat": 4,
 "nbformat_minor": 5
}
